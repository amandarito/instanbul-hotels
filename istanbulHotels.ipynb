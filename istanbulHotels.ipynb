{
  "nbformat": 4,
  "nbformat_minor": 0,
  "metadata": {
    "colab": {
      "provenance": [],
      "toc_visible": true,
      "include_colab_link": true
    },
    "kernelspec": {
      "name": "python3",
      "display_name": "Python 3"
    },
    "language_info": {
      "name": "python"
    }
  },
  "cells": [
    {
      "cell_type": "markdown",
      "metadata": {
        "id": "view-in-github",
        "colab_type": "text"
      },
      "source": [
        "<a href=\"https://colab.research.google.com/github/amandarito/instanbul-hotels/blob/main/istanbulHotels.ipynb\" target=\"_parent\"><img src=\"https://colab.research.google.com/assets/colab-badge.svg\" alt=\"Open In Colab\"/></a>"
      ]
    },
    {
      "cell_type": "markdown",
      "source": [
        "# Istanbul Hotel Dataset\n",
        "\n",
        "Task:\n",
        "\n",
        "1. Perform EDA and Data Cleaning\n",
        "\n",
        "2. You have to create clusters of hotels for your given city, from the text you have, you're free to use any approach although an example of this is through topic modeling, see https://towardsdatascience.com/topic-modeling-and-latent-dirichlet-allocation-in-python-9bf156893c24.\n",
        "\n",
        "3. Explain what the clusters mean and how can we interpret those hotels.\n",
        "\n",
        "4. Using FAISS notebook from the class, create a search engine for the hotel, which take in a query such as \"hotel near downtown\" and returns a hotel - I am not too concerned on how good the result is, just want you to implement a search approach using a step by step approach - implement different techniques discussed in class such as quantization (again the goodness of result is not imp - I want you to follow the steps)\n",
        "\n",
        "5. Provide learning and reflection"
      ],
      "metadata": {
        "id": "sCBjPJzko_eP"
      }
    },
    {
      "cell_type": "markdown",
      "source": [
        "## Import data and libraries"
      ],
      "metadata": {
        "id": "IQ18DUHBqIML"
      }
    },
    {
      "cell_type": "code",
      "execution_count": null,
      "metadata": {
        "id": "jGEw4-Y4cPzf",
        "colab": {
          "base_uri": "https://localhost:8080/",
          "height": 344
        },
        "outputId": "7e30334d-6429-4b51-c668-6d35cddc0afb"
      },
      "outputs": [
        {
          "output_type": "display_data",
          "data": {
            "text/plain": [
              "<IPython.core.display.HTML object>"
            ],
            "text/html": [
              "\n",
              "  <style>\n",
              "    pre {\n",
              "        white-space: pre-wrap;\n",
              "    }\n",
              "  </style>\n",
              "  "
            ]
          },
          "metadata": {}
        },
        {
          "output_type": "display_data",
          "data": {
            "text/plain": [
              "<IPython.core.display.HTML object>"
            ],
            "text/html": [
              "\n",
              "  <style>\n",
              "    pre {\n",
              "        white-space: pre-wrap;\n",
              "    }\n",
              "  </style>\n",
              "  "
            ]
          },
          "metadata": {}
        },
        {
          "output_type": "stream",
          "name": "stdout",
          "text": [
            "Looking in indexes: https://pypi.org/simple, https://us-python.pkg.dev/colab-wheels/public/simple/\n",
            "Requirement already satisfied: pyLDAvis in /usr/local/lib/python3.9/dist-packages (3.4.0)\n",
            "Requirement already satisfied: funcy in /usr/local/lib/python3.9/dist-packages (from pyLDAvis) (1.18)\n",
            "Requirement already satisfied: pandas>=1.3.4 in /usr/local/lib/python3.9/dist-packages (from pyLDAvis) (1.4.4)\n",
            "Requirement already satisfied: jinja2 in /usr/local/lib/python3.9/dist-packages (from pyLDAvis) (3.1.2)\n",
            "Requirement already satisfied: setuptools in /usr/local/lib/python3.9/dist-packages (from pyLDAvis) (67.6.0)\n",
            "Requirement already satisfied: joblib>=1.2.0 in /usr/local/lib/python3.9/dist-packages (from pyLDAvis) (1.2.0)\n",
            "Requirement already satisfied: numexpr in /usr/local/lib/python3.9/dist-packages (from pyLDAvis) (2.8.4)\n",
            "Requirement already satisfied: scikit-learn>=1.0.0 in /usr/local/lib/python3.9/dist-packages (from pyLDAvis) (1.2.2)\n",
            "Requirement already satisfied: numpy>=1.22.0 in /usr/local/lib/python3.9/dist-packages (from pyLDAvis) (1.22.4)\n",
            "Requirement already satisfied: scipy in /usr/local/lib/python3.9/dist-packages (from pyLDAvis) (1.10.1)\n",
            "Requirement already satisfied: gensim in /usr/local/lib/python3.9/dist-packages (from pyLDAvis) (4.3.1)\n",
            "Requirement already satisfied: python-dateutil>=2.8.1 in /usr/local/lib/python3.9/dist-packages (from pandas>=1.3.4->pyLDAvis) (2.8.2)\n",
            "Requirement already satisfied: pytz>=2020.1 in /usr/local/lib/python3.9/dist-packages (from pandas>=1.3.4->pyLDAvis) (2022.7.1)\n",
            "Requirement already satisfied: threadpoolctl>=2.0.0 in /usr/local/lib/python3.9/dist-packages (from scikit-learn>=1.0.0->pyLDAvis) (3.1.0)\n",
            "Requirement already satisfied: smart-open>=1.8.1 in /usr/local/lib/python3.9/dist-packages (from gensim->pyLDAvis) (6.3.0)\n",
            "Requirement already satisfied: MarkupSafe>=2.0 in /usr/local/lib/python3.9/dist-packages (from jinja2->pyLDAvis) (2.1.2)\n",
            "Requirement already satisfied: six>=1.5 in /usr/local/lib/python3.9/dist-packages (from python-dateutil>=2.8.1->pandas>=1.3.4->pyLDAvis) (1.16.0)\n"
          ]
        }
      ],
      "source": [
        "!pip install -q kaggle\n",
        "!pip install pyLDAvis"
      ]
    },
    {
      "cell_type": "code",
      "source": [
        "import pandas as pd\n",
        "import seaborn as sns\n",
        "from matplotlib import pyplot as plt\n",
        "import re\n",
        "\n",
        "import gensim\n",
        "from gensim.utils import simple_preprocess\n",
        "from gensim.parsing.preprocessing import STOPWORDS\n",
        "from nltk.stem import WordNetLemmatizer, SnowballStemmer\n",
        "from nltk.stem.porter import *\n",
        "import pyLDAvis\n",
        "import pyLDAvis.gensim\n",
        "import numpy as np\n",
        "import nltk\n",
        "nltk.download('wordnet')"
      ],
      "metadata": {
        "id": "aYIVmMyOfA-_",
        "colab": {
          "base_uri": "https://localhost:8080/",
          "height": 72
        },
        "outputId": "fe655e19-3f79-4940-eb91-3439264c74b6"
      },
      "execution_count": null,
      "outputs": [
        {
          "output_type": "display_data",
          "data": {
            "text/plain": [
              "<IPython.core.display.HTML object>"
            ],
            "text/html": [
              "\n",
              "  <style>\n",
              "    pre {\n",
              "        white-space: pre-wrap;\n",
              "    }\n",
              "  </style>\n",
              "  "
            ]
          },
          "metadata": {}
        },
        {
          "output_type": "display_data",
          "data": {
            "text/plain": [
              "<IPython.core.display.HTML object>"
            ],
            "text/html": [
              "\n",
              "  <style>\n",
              "    pre {\n",
              "        white-space: pre-wrap;\n",
              "    }\n",
              "  </style>\n",
              "  "
            ]
          },
          "metadata": {}
        },
        {
          "output_type": "stream",
          "name": "stderr",
          "text": [
            "[nltk_data] Downloading package wordnet to /root/nltk_data...\n",
            "[nltk_data]   Package wordnet is already up-to-date!\n"
          ]
        },
        {
          "output_type": "execute_result",
          "data": {
            "text/plain": [
              "True"
            ]
          },
          "metadata": {},
          "execution_count": 219
        }
      ]
    },
    {
      "cell_type": "code",
      "source": [
        "from google.colab import files\n",
        "files.upload()"
      ],
      "metadata": {
        "id": "yoH7mnt7dbGc"
      },
      "execution_count": null,
      "outputs": []
    },
    {
      "cell_type": "code",
      "source": [
        "!mkdir ~/.kaggle\n",
        "!cp kaggle.json ~/.kaggle/\n",
        "!chmod 600 ~/.kaggle/kaggle.json\n",
        "!kaggle datasets list\n",
        "!kaggle d download 'hamzafarooq50/hotel-listings-and-reviews'\n",
        "!mkdir hotel-data\n",
        "!unzip hotel-listings-and-reviews.zip -d hotel-data"
      ],
      "metadata": {
        "id": "C-Fn1GZndez6",
        "colab": {
          "base_uri": "https://localhost:8080/",
          "height": 908
        },
        "outputId": "c9eab8dd-19d3-4caf-fece-682341b6bda6"
      },
      "execution_count": null,
      "outputs": [
        {
          "output_type": "display_data",
          "data": {
            "text/plain": [
              "<IPython.core.display.HTML object>"
            ],
            "text/html": [
              "\n",
              "  <style>\n",
              "    pre {\n",
              "        white-space: pre-wrap;\n",
              "    }\n",
              "  </style>\n",
              "  "
            ]
          },
          "metadata": {}
        },
        {
          "output_type": "display_data",
          "data": {
            "text/plain": [
              "<IPython.core.display.HTML object>"
            ],
            "text/html": [
              "\n",
              "  <style>\n",
              "    pre {\n",
              "        white-space: pre-wrap;\n",
              "    }\n",
              "  </style>\n",
              "  "
            ]
          },
          "metadata": {}
        },
        {
          "output_type": "stream",
          "name": "stdout",
          "text": [
            "mkdir: cannot create directory ‘/root/.kaggle’: File exists\n",
            "ref                                                                title                                                size  lastUpdated          downloadCount  voteCount  usabilityRating  \n",
            "-----------------------------------------------------------------  --------------------------------------------------  -----  -------------------  -------------  ---------  ---------------  \n",
            "zusmani/pakistan-toshakhana-files                                  Pakistan ToshaKhana Files                             1MB  2023-03-15 16:25:43           2352        106  1.0              \n",
            "ramkrijal/tomato-daily-prices                                      Tomato Daily Prices                                  10KB  2023-03-10 15:39:14           1351         45  1.0              \n",
            "themrityunjaypathak/covid-cases-and-deaths-worldwide               Covid Cases and Deaths WorldWide                      8KB  2023-02-01 12:22:51          14579        476  1.0              \n",
            "datascientistanna/customers-dataset                                Shop Customer Data                                   23KB  2023-02-07 18:42:21          13214        296  1.0              \n",
            "priyankkhanna/flipkart-product-dataset-by-priyank-khanna           Flipkart Product Dataset                              2MB  2023-03-03 13:44:42           1037         25  1.0              \n",
            "amaanansari09/most-streamed-songs-all-time                         Most Streamed Songs (All Time)                        8KB  2023-03-08 10:56:24           2420         64  1.0              \n",
            "utsh0dey/25k-movie-dataset                                         25k IMDb Movie Dataset                                5MB  2023-02-27 18:11:44            959         29  1.0              \n",
            "nidzsharma/covid-19-variant-data                                   COVID-19 Variant Data                                67KB  2023-03-12 14:07:53            689         30  1.0              \n",
            "rkiattisak/student-performance-in-mathematics                      Student performance prediction                        9KB  2023-03-12 04:32:56           2356         55  1.0              \n",
            "ashpalsingh1525/netflix                                            Netflix Cleaned Dataset                              86KB  2023-02-25 12:48:42           1076         35  1.0              \n",
            "imrulhasanrobi/world-population-all-countries-different-parameter  World Population all countries different parameter    8KB  2023-03-16 01:24:18            776         30  1.0              \n",
            "rayhan32/la-liga-player-status-season-2022-2023                    La Liga Player Status  Season 2022-2023              14KB  2023-03-15 19:52:19            571         29  1.0              \n",
            "thedevastator/airbnb-prices-in-european-cities                     Airbnb Prices in European Cities                      4MB  2023-02-20 09:48:04           5063         93  1.0              \n",
            "mirzahasnine/loan-data-set                                         Loan Data Set                                        11KB  2023-03-12 05:02:43           1085         35  0.9411765        \n",
            "mehmettahiraslan/customer-shopping-dataset                         Customer Shopping Dataset - Retail Sales Data         2MB  2023-03-09 07:44:35           1547         57  1.0              \n",
            "ulrikthygepedersen/shark-tank-companies                            Shark Tank Companies                                 70KB  2023-03-02 12:05:27            737         34  1.0              \n",
            "tarique7/airline-incidents-safety-data                             Airline Incidents Safety Data                         7MB  2023-03-08 09:28:38            627         28  1.0              \n",
            "rkiattisak/traveler-trip-data                                      Traveler Trip Dataset                                 4KB  2023-03-06 07:11:05           1358         38  1.0              \n",
            "rkiattisak/salaly-prediction-for-beginer                           Salary Prediction dataset                             3KB  2023-03-07 02:45:11           1342         40  1.0              \n",
            "abdullahshahzad12345/ref-tk-data-02-to-22                          Gift Received by Pak Officials 2002-22 Tosha Khana  120KB  2023-03-14 15:49:14            166         24  1.0              \n",
            "hotel-listings-and-reviews.zip: Skipping, found more recently modified local copy (use --force to force download)\n",
            "mkdir: cannot create directory ‘hotel-data’: File exists\n",
            "Archive:  hotel-listings-and-reviews.zip\n",
            "replace hotel-data/HotelListInAthens__en2019100120191005.csv? [y]es, [n]o, [A]ll, [N]one, [r]ename: N\n"
          ]
        }
      ]
    },
    {
      "cell_type": "code",
      "source": [
        "# word wrap display\n",
        "from IPython.display import HTML, display\n",
        "\n",
        "def set_css():\n",
        "  display(HTML('''\n",
        "  <style>\n",
        "    pre {\n",
        "        white-space: pre-wrap;\n",
        "    }\n",
        "  </style>\n",
        "  '''))\n",
        "get_ipython().events.register('pre_run_cell', set_css)"
      ],
      "metadata": {
        "id": "yxt3Pp832Q9L",
        "colab": {
          "base_uri": "https://localhost:8080/",
          "height": 17
        },
        "outputId": "72bcc636-2e20-4d75-d35b-8f1ae8bdf148"
      },
      "execution_count": null,
      "outputs": [
        {
          "output_type": "display_data",
          "data": {
            "text/plain": [
              "<IPython.core.display.HTML object>"
            ],
            "text/html": [
              "\n",
              "  <style>\n",
              "    pre {\n",
              "        white-space: pre-wrap;\n",
              "    }\n",
              "  </style>\n",
              "  "
            ]
          },
          "metadata": {}
        },
        {
          "output_type": "display_data",
          "data": {
            "text/plain": [
              "<IPython.core.display.HTML object>"
            ],
            "text/html": [
              "\n",
              "  <style>\n",
              "    pre {\n",
              "        white-space: pre-wrap;\n",
              "    }\n",
              "  </style>\n",
              "  "
            ]
          },
          "metadata": {}
        }
      ]
    },
    {
      "cell_type": "code",
      "source": [
        "hotel_listings = pd.read_csv('hotel-data/HotelListInIstanbul__en2019100120191005.csv')\n",
        "hotel_ratings = pd.read_csv('hotel-data/hotelReviewsInIstanbul__en2019100120191005.csv')"
      ],
      "metadata": {
        "id": "sf1aoZC5eaYi",
        "colab": {
          "base_uri": "https://localhost:8080/",
          "height": 17
        },
        "outputId": "577fd58f-6ecf-4b34-947b-f21254200b52"
      },
      "execution_count": null,
      "outputs": [
        {
          "output_type": "display_data",
          "data": {
            "text/plain": [
              "<IPython.core.display.HTML object>"
            ],
            "text/html": [
              "\n",
              "  <style>\n",
              "    pre {\n",
              "        white-space: pre-wrap;\n",
              "    }\n",
              "  </style>\n",
              "  "
            ]
          },
          "metadata": {}
        },
        {
          "output_type": "display_data",
          "data": {
            "text/plain": [
              "<IPython.core.display.HTML object>"
            ],
            "text/html": [
              "\n",
              "  <style>\n",
              "    pre {\n",
              "        white-space: pre-wrap;\n",
              "    }\n",
              "  </style>\n",
              "  "
            ]
          },
          "metadata": {}
        },
        {
          "output_type": "display_data",
          "data": {
            "text/plain": [
              "<IPython.core.display.HTML object>"
            ],
            "text/html": [
              "\n",
              "  <style>\n",
              "    pre {\n",
              "        white-space: pre-wrap;\n",
              "    }\n",
              "  </style>\n",
              "  "
            ]
          },
          "metadata": {}
        }
      ]
    },
    {
      "cell_type": "code",
      "source": [
        "hotel_listings.head()"
      ],
      "metadata": {
        "colab": {
          "base_uri": "https://localhost:8080/",
          "height": 461
        },
        "id": "y2ZHNU-xfQ3n",
        "outputId": "8dcf05ac-06b4-4ff6-9a96-68458f9a707f"
      },
      "execution_count": null,
      "outputs": [
        {
          "output_type": "display_data",
          "data": {
            "text/plain": [
              "<IPython.core.display.HTML object>"
            ],
            "text/html": [
              "\n",
              "  <style>\n",
              "    pre {\n",
              "        white-space: pre-wrap;\n",
              "    }\n",
              "  </style>\n",
              "  "
            ]
          },
          "metadata": {}
        },
        {
          "output_type": "display_data",
          "data": {
            "text/plain": [
              "<IPython.core.display.HTML object>"
            ],
            "text/html": [
              "\n",
              "  <style>\n",
              "    pre {\n",
              "        white-space: pre-wrap;\n",
              "    }\n",
              "  </style>\n",
              "  "
            ]
          },
          "metadata": {}
        },
        {
          "output_type": "display_data",
          "data": {
            "text/plain": [
              "<IPython.core.display.HTML object>"
            ],
            "text/html": [
              "\n",
              "  <style>\n",
              "    pre {\n",
              "        white-space: pre-wrap;\n",
              "    }\n",
              "  </style>\n",
              "  "
            ]
          },
          "metadata": {}
        },
        {
          "output_type": "execute_result",
          "data": {
            "text/plain": [
              "   Unnamed: 0                            hotel_name  \\\n",
              "0           0            White House Hotel Istanbul   \n",
              "1           1        Crowne Plaza Istanbul - Florya   \n",
              "2           2  GLK PREMIER Sea Mansion Suites & Spa   \n",
              "3           3                        Basileus Hotel   \n",
              "4           4                           Baylosuites   \n",
              "\n",
              "                                                 url  locality  reviews  \\\n",
              "0  http://www.tripadvisor.com/Hotel_Review-g29397...  Istanbul     4414   \n",
              "1  http://www.tripadvisor.com/Hotel_Review-g29397...  Istanbul      406   \n",
              "2  http://www.tripadvisor.com/Hotel_Review-g29397...  Istanbul      350   \n",
              "3  http://www.tripadvisor.com/Hotel_Review-g29397...  Istanbul     2061   \n",
              "4  http://www.tripadvisor.com/Hotel_Review-g29397...  Istanbul       91   \n",
              "\n",
              "   tripadvisor_rating     checkIn    checkOut price_per_night  \\\n",
              "0                 NaN  2019/10/01  2019/10/05            $176   \n",
              "1                 NaN  2019/10/01  2019/10/05             NaN   \n",
              "2                 NaN  2019/10/01  2019/10/05             NaN   \n",
              "3                 NaN  2019/10/01  2019/10/05             NaN   \n",
              "4                 NaN  2019/10/01  2019/10/05             NaN   \n",
              "\n",
              "  booking_provider  no_of_deals  hotel_features  \n",
              "0      Booking.com           10             NaN  \n",
              "1      Travelocity           16             NaN  \n",
              "2      Travelocity           16             NaN  \n",
              "3      TripAdvisor            9             NaN  \n",
              "4      TripAdvisor            0             NaN  "
            ],
            "text/html": [
              "\n",
              "  <div id=\"df-11cca27b-eb0f-49fa-a17f-8270cf6a5382\">\n",
              "    <div class=\"colab-df-container\">\n",
              "      <div>\n",
              "<style scoped>\n",
              "    .dataframe tbody tr th:only-of-type {\n",
              "        vertical-align: middle;\n",
              "    }\n",
              "\n",
              "    .dataframe tbody tr th {\n",
              "        vertical-align: top;\n",
              "    }\n",
              "\n",
              "    .dataframe thead th {\n",
              "        text-align: right;\n",
              "    }\n",
              "</style>\n",
              "<table border=\"1\" class=\"dataframe\">\n",
              "  <thead>\n",
              "    <tr style=\"text-align: right;\">\n",
              "      <th></th>\n",
              "      <th>Unnamed: 0</th>\n",
              "      <th>hotel_name</th>\n",
              "      <th>url</th>\n",
              "      <th>locality</th>\n",
              "      <th>reviews</th>\n",
              "      <th>tripadvisor_rating</th>\n",
              "      <th>checkIn</th>\n",
              "      <th>checkOut</th>\n",
              "      <th>price_per_night</th>\n",
              "      <th>booking_provider</th>\n",
              "      <th>no_of_deals</th>\n",
              "      <th>hotel_features</th>\n",
              "    </tr>\n",
              "  </thead>\n",
              "  <tbody>\n",
              "    <tr>\n",
              "      <th>0</th>\n",
              "      <td>0</td>\n",
              "      <td>White House Hotel Istanbul</td>\n",
              "      <td>http://www.tripadvisor.com/Hotel_Review-g29397...</td>\n",
              "      <td>Istanbul</td>\n",
              "      <td>4414</td>\n",
              "      <td>NaN</td>\n",
              "      <td>2019/10/01</td>\n",
              "      <td>2019/10/05</td>\n",
              "      <td>$176</td>\n",
              "      <td>Booking.com</td>\n",
              "      <td>10</td>\n",
              "      <td>NaN</td>\n",
              "    </tr>\n",
              "    <tr>\n",
              "      <th>1</th>\n",
              "      <td>1</td>\n",
              "      <td>Crowne Plaza Istanbul - Florya</td>\n",
              "      <td>http://www.tripadvisor.com/Hotel_Review-g29397...</td>\n",
              "      <td>Istanbul</td>\n",
              "      <td>406</td>\n",
              "      <td>NaN</td>\n",
              "      <td>2019/10/01</td>\n",
              "      <td>2019/10/05</td>\n",
              "      <td>NaN</td>\n",
              "      <td>Travelocity</td>\n",
              "      <td>16</td>\n",
              "      <td>NaN</td>\n",
              "    </tr>\n",
              "    <tr>\n",
              "      <th>2</th>\n",
              "      <td>2</td>\n",
              "      <td>GLK PREMIER Sea Mansion Suites &amp; Spa</td>\n",
              "      <td>http://www.tripadvisor.com/Hotel_Review-g29397...</td>\n",
              "      <td>Istanbul</td>\n",
              "      <td>350</td>\n",
              "      <td>NaN</td>\n",
              "      <td>2019/10/01</td>\n",
              "      <td>2019/10/05</td>\n",
              "      <td>NaN</td>\n",
              "      <td>Travelocity</td>\n",
              "      <td>16</td>\n",
              "      <td>NaN</td>\n",
              "    </tr>\n",
              "    <tr>\n",
              "      <th>3</th>\n",
              "      <td>3</td>\n",
              "      <td>Basileus Hotel</td>\n",
              "      <td>http://www.tripadvisor.com/Hotel_Review-g29397...</td>\n",
              "      <td>Istanbul</td>\n",
              "      <td>2061</td>\n",
              "      <td>NaN</td>\n",
              "      <td>2019/10/01</td>\n",
              "      <td>2019/10/05</td>\n",
              "      <td>NaN</td>\n",
              "      <td>TripAdvisor</td>\n",
              "      <td>9</td>\n",
              "      <td>NaN</td>\n",
              "    </tr>\n",
              "    <tr>\n",
              "      <th>4</th>\n",
              "      <td>4</td>\n",
              "      <td>Baylosuites</td>\n",
              "      <td>http://www.tripadvisor.com/Hotel_Review-g29397...</td>\n",
              "      <td>Istanbul</td>\n",
              "      <td>91</td>\n",
              "      <td>NaN</td>\n",
              "      <td>2019/10/01</td>\n",
              "      <td>2019/10/05</td>\n",
              "      <td>NaN</td>\n",
              "      <td>TripAdvisor</td>\n",
              "      <td>0</td>\n",
              "      <td>NaN</td>\n",
              "    </tr>\n",
              "  </tbody>\n",
              "</table>\n",
              "</div>\n",
              "      <button class=\"colab-df-convert\" onclick=\"convertToInteractive('df-11cca27b-eb0f-49fa-a17f-8270cf6a5382')\"\n",
              "              title=\"Convert this dataframe to an interactive table.\"\n",
              "              style=\"display:none;\">\n",
              "        \n",
              "  <svg xmlns=\"http://www.w3.org/2000/svg\" height=\"24px\"viewBox=\"0 0 24 24\"\n",
              "       width=\"24px\">\n",
              "    <path d=\"M0 0h24v24H0V0z\" fill=\"none\"/>\n",
              "    <path d=\"M18.56 5.44l.94 2.06.94-2.06 2.06-.94-2.06-.94-.94-2.06-.94 2.06-2.06.94zm-11 1L8.5 8.5l.94-2.06 2.06-.94-2.06-.94L8.5 2.5l-.94 2.06-2.06.94zm10 10l.94 2.06.94-2.06 2.06-.94-2.06-.94-.94-2.06-.94 2.06-2.06.94z\"/><path d=\"M17.41 7.96l-1.37-1.37c-.4-.4-.92-.59-1.43-.59-.52 0-1.04.2-1.43.59L10.3 9.45l-7.72 7.72c-.78.78-.78 2.05 0 2.83L4 21.41c.39.39.9.59 1.41.59.51 0 1.02-.2 1.41-.59l7.78-7.78 2.81-2.81c.8-.78.8-2.07 0-2.86zM5.41 20L4 18.59l7.72-7.72 1.47 1.35L5.41 20z\"/>\n",
              "  </svg>\n",
              "      </button>\n",
              "      \n",
              "  <style>\n",
              "    .colab-df-container {\n",
              "      display:flex;\n",
              "      flex-wrap:wrap;\n",
              "      gap: 12px;\n",
              "    }\n",
              "\n",
              "    .colab-df-convert {\n",
              "      background-color: #E8F0FE;\n",
              "      border: none;\n",
              "      border-radius: 50%;\n",
              "      cursor: pointer;\n",
              "      display: none;\n",
              "      fill: #1967D2;\n",
              "      height: 32px;\n",
              "      padding: 0 0 0 0;\n",
              "      width: 32px;\n",
              "    }\n",
              "\n",
              "    .colab-df-convert:hover {\n",
              "      background-color: #E2EBFA;\n",
              "      box-shadow: 0px 1px 2px rgba(60, 64, 67, 0.3), 0px 1px 3px 1px rgba(60, 64, 67, 0.15);\n",
              "      fill: #174EA6;\n",
              "    }\n",
              "\n",
              "    [theme=dark] .colab-df-convert {\n",
              "      background-color: #3B4455;\n",
              "      fill: #D2E3FC;\n",
              "    }\n",
              "\n",
              "    [theme=dark] .colab-df-convert:hover {\n",
              "      background-color: #434B5C;\n",
              "      box-shadow: 0px 1px 3px 1px rgba(0, 0, 0, 0.15);\n",
              "      filter: drop-shadow(0px 1px 2px rgba(0, 0, 0, 0.3));\n",
              "      fill: #FFFFFF;\n",
              "    }\n",
              "  </style>\n",
              "\n",
              "      <script>\n",
              "        const buttonEl =\n",
              "          document.querySelector('#df-11cca27b-eb0f-49fa-a17f-8270cf6a5382 button.colab-df-convert');\n",
              "        buttonEl.style.display =\n",
              "          google.colab.kernel.accessAllowed ? 'block' : 'none';\n",
              "\n",
              "        async function convertToInteractive(key) {\n",
              "          const element = document.querySelector('#df-11cca27b-eb0f-49fa-a17f-8270cf6a5382');\n",
              "          const dataTable =\n",
              "            await google.colab.kernel.invokeFunction('convertToInteractive',\n",
              "                                                     [key], {});\n",
              "          if (!dataTable) return;\n",
              "\n",
              "          const docLinkHtml = 'Like what you see? Visit the ' +\n",
              "            '<a target=\"_blank\" href=https://colab.research.google.com/notebooks/data_table.ipynb>data table notebook</a>'\n",
              "            + ' to learn more about interactive tables.';\n",
              "          element.innerHTML = '';\n",
              "          dataTable['output_type'] = 'display_data';\n",
              "          await google.colab.output.renderOutput(dataTable, element);\n",
              "          const docLink = document.createElement('div');\n",
              "          docLink.innerHTML = docLinkHtml;\n",
              "          element.appendChild(docLink);\n",
              "        }\n",
              "      </script>\n",
              "    </div>\n",
              "  </div>\n",
              "  "
            ]
          },
          "metadata": {},
          "execution_count": 224
        }
      ]
    },
    {
      "cell_type": "code",
      "source": [
        "hotel_ratings.head()"
      ],
      "metadata": {
        "colab": {
          "base_uri": "https://localhost:8080/",
          "height": 206
        },
        "id": "RtFWbOWxfXVI",
        "outputId": "034537cf-4eb9-49e5-8198-bb337b776b4b"
      },
      "execution_count": null,
      "outputs": [
        {
          "output_type": "display_data",
          "data": {
            "text/plain": [
              "<IPython.core.display.HTML object>"
            ],
            "text/html": [
              "\n",
              "  <style>\n",
              "    pre {\n",
              "        white-space: pre-wrap;\n",
              "    }\n",
              "  </style>\n",
              "  "
            ]
          },
          "metadata": {}
        },
        {
          "output_type": "display_data",
          "data": {
            "text/plain": [
              "<IPython.core.display.HTML object>"
            ],
            "text/html": [
              "\n",
              "  <style>\n",
              "    pre {\n",
              "        white-space: pre-wrap;\n",
              "    }\n",
              "  </style>\n",
              "  "
            ]
          },
          "metadata": {}
        },
        {
          "output_type": "display_data",
          "data": {
            "text/plain": [
              "<IPython.core.display.HTML object>"
            ],
            "text/html": [
              "\n",
              "  <style>\n",
              "    pre {\n",
              "        white-space: pre-wrap;\n",
              "    }\n",
              "  </style>\n",
              "  "
            ]
          },
          "metadata": {}
        },
        {
          "output_type": "execute_result",
          "data": {
            "text/plain": [
              "   Unnamed: 0                                        review_body  \\\n",
              "0           0  It was a pleasure staying at this hotel. Excel...   \n",
              "1           1  As everyone seems to agree, this is a wonderfu...   \n",
              "2           2  Even the glowing reviews I had read did not pr...   \n",
              "3           3  Beautiful hotel located in the heart of the ci...   \n",
              "4           4  We had amazing service here! I’m planning anot...   \n",
              "\n",
              "     review_date                                          hotelName  \\\n",
              "0  July 12, 2019  0    White House Hotel Istanbul\\nName: hotel_n...   \n",
              "1  July 10, 2019  0    White House Hotel Istanbul\\nName: hotel_n...   \n",
              "2  July 10, 2019  0    White House Hotel Istanbul\\nName: hotel_n...   \n",
              "3   July 9, 2019  0    White House Hotel Istanbul\\nName: hotel_n...   \n",
              "4   July 7, 2019  0    White House Hotel Istanbul\\nName: hotel_n...   \n",
              "\n",
              "                                            hotelUrl  \n",
              "0  http://www.tripadvisor.com/Hotel_Review-g29397...  \n",
              "1  http://www.tripadvisor.com/Hotel_Review-g29397...  \n",
              "2  http://www.tripadvisor.com/Hotel_Review-g29397...  \n",
              "3  http://www.tripadvisor.com/Hotel_Review-g29397...  \n",
              "4  http://www.tripadvisor.com/Hotel_Review-g29397...  "
            ],
            "text/html": [
              "\n",
              "  <div id=\"df-8110f556-647b-46ed-9d18-9e7265fb49e2\">\n",
              "    <div class=\"colab-df-container\">\n",
              "      <div>\n",
              "<style scoped>\n",
              "    .dataframe tbody tr th:only-of-type {\n",
              "        vertical-align: middle;\n",
              "    }\n",
              "\n",
              "    .dataframe tbody tr th {\n",
              "        vertical-align: top;\n",
              "    }\n",
              "\n",
              "    .dataframe thead th {\n",
              "        text-align: right;\n",
              "    }\n",
              "</style>\n",
              "<table border=\"1\" class=\"dataframe\">\n",
              "  <thead>\n",
              "    <tr style=\"text-align: right;\">\n",
              "      <th></th>\n",
              "      <th>Unnamed: 0</th>\n",
              "      <th>review_body</th>\n",
              "      <th>review_date</th>\n",
              "      <th>hotelName</th>\n",
              "      <th>hotelUrl</th>\n",
              "    </tr>\n",
              "  </thead>\n",
              "  <tbody>\n",
              "    <tr>\n",
              "      <th>0</th>\n",
              "      <td>0</td>\n",
              "      <td>It was a pleasure staying at this hotel. Excel...</td>\n",
              "      <td>July 12, 2019</td>\n",
              "      <td>0    White House Hotel Istanbul\\nName: hotel_n...</td>\n",
              "      <td>http://www.tripadvisor.com/Hotel_Review-g29397...</td>\n",
              "    </tr>\n",
              "    <tr>\n",
              "      <th>1</th>\n",
              "      <td>1</td>\n",
              "      <td>As everyone seems to agree, this is a wonderfu...</td>\n",
              "      <td>July 10, 2019</td>\n",
              "      <td>0    White House Hotel Istanbul\\nName: hotel_n...</td>\n",
              "      <td>http://www.tripadvisor.com/Hotel_Review-g29397...</td>\n",
              "    </tr>\n",
              "    <tr>\n",
              "      <th>2</th>\n",
              "      <td>2</td>\n",
              "      <td>Even the glowing reviews I had read did not pr...</td>\n",
              "      <td>July 10, 2019</td>\n",
              "      <td>0    White House Hotel Istanbul\\nName: hotel_n...</td>\n",
              "      <td>http://www.tripadvisor.com/Hotel_Review-g29397...</td>\n",
              "    </tr>\n",
              "    <tr>\n",
              "      <th>3</th>\n",
              "      <td>3</td>\n",
              "      <td>Beautiful hotel located in the heart of the ci...</td>\n",
              "      <td>July 9, 2019</td>\n",
              "      <td>0    White House Hotel Istanbul\\nName: hotel_n...</td>\n",
              "      <td>http://www.tripadvisor.com/Hotel_Review-g29397...</td>\n",
              "    </tr>\n",
              "    <tr>\n",
              "      <th>4</th>\n",
              "      <td>4</td>\n",
              "      <td>We had amazing service here! I’m planning anot...</td>\n",
              "      <td>July 7, 2019</td>\n",
              "      <td>0    White House Hotel Istanbul\\nName: hotel_n...</td>\n",
              "      <td>http://www.tripadvisor.com/Hotel_Review-g29397...</td>\n",
              "    </tr>\n",
              "  </tbody>\n",
              "</table>\n",
              "</div>\n",
              "      <button class=\"colab-df-convert\" onclick=\"convertToInteractive('df-8110f556-647b-46ed-9d18-9e7265fb49e2')\"\n",
              "              title=\"Convert this dataframe to an interactive table.\"\n",
              "              style=\"display:none;\">\n",
              "        \n",
              "  <svg xmlns=\"http://www.w3.org/2000/svg\" height=\"24px\"viewBox=\"0 0 24 24\"\n",
              "       width=\"24px\">\n",
              "    <path d=\"M0 0h24v24H0V0z\" fill=\"none\"/>\n",
              "    <path d=\"M18.56 5.44l.94 2.06.94-2.06 2.06-.94-2.06-.94-.94-2.06-.94 2.06-2.06.94zm-11 1L8.5 8.5l.94-2.06 2.06-.94-2.06-.94L8.5 2.5l-.94 2.06-2.06.94zm10 10l.94 2.06.94-2.06 2.06-.94-2.06-.94-.94-2.06-.94 2.06-2.06.94z\"/><path d=\"M17.41 7.96l-1.37-1.37c-.4-.4-.92-.59-1.43-.59-.52 0-1.04.2-1.43.59L10.3 9.45l-7.72 7.72c-.78.78-.78 2.05 0 2.83L4 21.41c.39.39.9.59 1.41.59.51 0 1.02-.2 1.41-.59l7.78-7.78 2.81-2.81c.8-.78.8-2.07 0-2.86zM5.41 20L4 18.59l7.72-7.72 1.47 1.35L5.41 20z\"/>\n",
              "  </svg>\n",
              "      </button>\n",
              "      \n",
              "  <style>\n",
              "    .colab-df-container {\n",
              "      display:flex;\n",
              "      flex-wrap:wrap;\n",
              "      gap: 12px;\n",
              "    }\n",
              "\n",
              "    .colab-df-convert {\n",
              "      background-color: #E8F0FE;\n",
              "      border: none;\n",
              "      border-radius: 50%;\n",
              "      cursor: pointer;\n",
              "      display: none;\n",
              "      fill: #1967D2;\n",
              "      height: 32px;\n",
              "      padding: 0 0 0 0;\n",
              "      width: 32px;\n",
              "    }\n",
              "\n",
              "    .colab-df-convert:hover {\n",
              "      background-color: #E2EBFA;\n",
              "      box-shadow: 0px 1px 2px rgba(60, 64, 67, 0.3), 0px 1px 3px 1px rgba(60, 64, 67, 0.15);\n",
              "      fill: #174EA6;\n",
              "    }\n",
              "\n",
              "    [theme=dark] .colab-df-convert {\n",
              "      background-color: #3B4455;\n",
              "      fill: #D2E3FC;\n",
              "    }\n",
              "\n",
              "    [theme=dark] .colab-df-convert:hover {\n",
              "      background-color: #434B5C;\n",
              "      box-shadow: 0px 1px 3px 1px rgba(0, 0, 0, 0.15);\n",
              "      filter: drop-shadow(0px 1px 2px rgba(0, 0, 0, 0.3));\n",
              "      fill: #FFFFFF;\n",
              "    }\n",
              "  </style>\n",
              "\n",
              "      <script>\n",
              "        const buttonEl =\n",
              "          document.querySelector('#df-8110f556-647b-46ed-9d18-9e7265fb49e2 button.colab-df-convert');\n",
              "        buttonEl.style.display =\n",
              "          google.colab.kernel.accessAllowed ? 'block' : 'none';\n",
              "\n",
              "        async function convertToInteractive(key) {\n",
              "          const element = document.querySelector('#df-8110f556-647b-46ed-9d18-9e7265fb49e2');\n",
              "          const dataTable =\n",
              "            await google.colab.kernel.invokeFunction('convertToInteractive',\n",
              "                                                     [key], {});\n",
              "          if (!dataTable) return;\n",
              "\n",
              "          const docLinkHtml = 'Like what you see? Visit the ' +\n",
              "            '<a target=\"_blank\" href=https://colab.research.google.com/notebooks/data_table.ipynb>data table notebook</a>'\n",
              "            + ' to learn more about interactive tables.';\n",
              "          element.innerHTML = '';\n",
              "          dataTable['output_type'] = 'display_data';\n",
              "          await google.colab.output.renderOutput(dataTable, element);\n",
              "          const docLink = document.createElement('div');\n",
              "          docLink.innerHTML = docLinkHtml;\n",
              "          element.appendChild(docLink);\n",
              "        }\n",
              "      </script>\n",
              "    </div>\n",
              "  </div>\n",
              "  "
            ]
          },
          "metadata": {},
          "execution_count": 225
        }
      ]
    },
    {
      "cell_type": "markdown",
      "source": [
        "## EDA & Data Cleaning\n",
        "\n"
      ],
      "metadata": {
        "id": "gxMSzJHuQEXm"
      }
    },
    {
      "cell_type": "markdown",
      "source": [
        "1. Hotel listings\n",
        "2. Hotel ratings"
      ],
      "metadata": {
        "id": "WOcFxbVBQGzy"
      }
    },
    {
      "cell_type": "markdown",
      "source": [
        "### Hotel Listings"
      ],
      "metadata": {
        "id": "rIeb2p0kShju"
      }
    },
    {
      "cell_type": "code",
      "source": [
        "hotel_listings.describe()"
      ],
      "metadata": {
        "colab": {
          "base_uri": "https://localhost:8080/",
          "height": 300
        },
        "id": "rqU6v4dlPm_w",
        "outputId": "5097b7a3-c82d-4001-d1a1-843f2c761152"
      },
      "execution_count": null,
      "outputs": [
        {
          "output_type": "display_data",
          "data": {
            "text/plain": [
              "<IPython.core.display.HTML object>"
            ],
            "text/html": [
              "\n",
              "  <style>\n",
              "    pre {\n",
              "        white-space: pre-wrap;\n",
              "    }\n",
              "  </style>\n",
              "  "
            ]
          },
          "metadata": {}
        },
        {
          "output_type": "display_data",
          "data": {
            "text/plain": [
              "<IPython.core.display.HTML object>"
            ],
            "text/html": [
              "\n",
              "  <style>\n",
              "    pre {\n",
              "        white-space: pre-wrap;\n",
              "    }\n",
              "  </style>\n",
              "  "
            ]
          },
          "metadata": {}
        },
        {
          "output_type": "display_data",
          "data": {
            "text/plain": [
              "<IPython.core.display.HTML object>"
            ],
            "text/html": [
              "\n",
              "  <style>\n",
              "    pre {\n",
              "        white-space: pre-wrap;\n",
              "    }\n",
              "  </style>\n",
              "  "
            ]
          },
          "metadata": {}
        },
        {
          "output_type": "execute_result",
          "data": {
            "text/plain": [
              "       Unnamed: 0      reviews  tripadvisor_rating  no_of_deals  \\\n",
              "count   30.000000    30.000000                 0.0    30.000000   \n",
              "mean    14.500000   681.000000                 NaN     9.966667   \n",
              "std      8.803408  1079.604781                 NaN     5.573851   \n",
              "min      0.000000    82.000000                 NaN     0.000000   \n",
              "25%      7.250000   144.500000                 NaN     9.250000   \n",
              "50%     14.500000   303.000000                 NaN    11.000000   \n",
              "75%     21.750000   537.500000                 NaN    13.000000   \n",
              "max     29.000000  4414.000000                 NaN    17.000000   \n",
              "\n",
              "       hotel_features  \n",
              "count             0.0  \n",
              "mean              NaN  \n",
              "std               NaN  \n",
              "min               NaN  \n",
              "25%               NaN  \n",
              "50%               NaN  \n",
              "75%               NaN  \n",
              "max               NaN  "
            ],
            "text/html": [
              "\n",
              "  <div id=\"df-68f51ff6-ac35-493e-ad19-bd79c82295c1\">\n",
              "    <div class=\"colab-df-container\">\n",
              "      <div>\n",
              "<style scoped>\n",
              "    .dataframe tbody tr th:only-of-type {\n",
              "        vertical-align: middle;\n",
              "    }\n",
              "\n",
              "    .dataframe tbody tr th {\n",
              "        vertical-align: top;\n",
              "    }\n",
              "\n",
              "    .dataframe thead th {\n",
              "        text-align: right;\n",
              "    }\n",
              "</style>\n",
              "<table border=\"1\" class=\"dataframe\">\n",
              "  <thead>\n",
              "    <tr style=\"text-align: right;\">\n",
              "      <th></th>\n",
              "      <th>Unnamed: 0</th>\n",
              "      <th>reviews</th>\n",
              "      <th>tripadvisor_rating</th>\n",
              "      <th>no_of_deals</th>\n",
              "      <th>hotel_features</th>\n",
              "    </tr>\n",
              "  </thead>\n",
              "  <tbody>\n",
              "    <tr>\n",
              "      <th>count</th>\n",
              "      <td>30.000000</td>\n",
              "      <td>30.000000</td>\n",
              "      <td>0.0</td>\n",
              "      <td>30.000000</td>\n",
              "      <td>0.0</td>\n",
              "    </tr>\n",
              "    <tr>\n",
              "      <th>mean</th>\n",
              "      <td>14.500000</td>\n",
              "      <td>681.000000</td>\n",
              "      <td>NaN</td>\n",
              "      <td>9.966667</td>\n",
              "      <td>NaN</td>\n",
              "    </tr>\n",
              "    <tr>\n",
              "      <th>std</th>\n",
              "      <td>8.803408</td>\n",
              "      <td>1079.604781</td>\n",
              "      <td>NaN</td>\n",
              "      <td>5.573851</td>\n",
              "      <td>NaN</td>\n",
              "    </tr>\n",
              "    <tr>\n",
              "      <th>min</th>\n",
              "      <td>0.000000</td>\n",
              "      <td>82.000000</td>\n",
              "      <td>NaN</td>\n",
              "      <td>0.000000</td>\n",
              "      <td>NaN</td>\n",
              "    </tr>\n",
              "    <tr>\n",
              "      <th>25%</th>\n",
              "      <td>7.250000</td>\n",
              "      <td>144.500000</td>\n",
              "      <td>NaN</td>\n",
              "      <td>9.250000</td>\n",
              "      <td>NaN</td>\n",
              "    </tr>\n",
              "    <tr>\n",
              "      <th>50%</th>\n",
              "      <td>14.500000</td>\n",
              "      <td>303.000000</td>\n",
              "      <td>NaN</td>\n",
              "      <td>11.000000</td>\n",
              "      <td>NaN</td>\n",
              "    </tr>\n",
              "    <tr>\n",
              "      <th>75%</th>\n",
              "      <td>21.750000</td>\n",
              "      <td>537.500000</td>\n",
              "      <td>NaN</td>\n",
              "      <td>13.000000</td>\n",
              "      <td>NaN</td>\n",
              "    </tr>\n",
              "    <tr>\n",
              "      <th>max</th>\n",
              "      <td>29.000000</td>\n",
              "      <td>4414.000000</td>\n",
              "      <td>NaN</td>\n",
              "      <td>17.000000</td>\n",
              "      <td>NaN</td>\n",
              "    </tr>\n",
              "  </tbody>\n",
              "</table>\n",
              "</div>\n",
              "      <button class=\"colab-df-convert\" onclick=\"convertToInteractive('df-68f51ff6-ac35-493e-ad19-bd79c82295c1')\"\n",
              "              title=\"Convert this dataframe to an interactive table.\"\n",
              "              style=\"display:none;\">\n",
              "        \n",
              "  <svg xmlns=\"http://www.w3.org/2000/svg\" height=\"24px\"viewBox=\"0 0 24 24\"\n",
              "       width=\"24px\">\n",
              "    <path d=\"M0 0h24v24H0V0z\" fill=\"none\"/>\n",
              "    <path d=\"M18.56 5.44l.94 2.06.94-2.06 2.06-.94-2.06-.94-.94-2.06-.94 2.06-2.06.94zm-11 1L8.5 8.5l.94-2.06 2.06-.94-2.06-.94L8.5 2.5l-.94 2.06-2.06.94zm10 10l.94 2.06.94-2.06 2.06-.94-2.06-.94-.94-2.06-.94 2.06-2.06.94z\"/><path d=\"M17.41 7.96l-1.37-1.37c-.4-.4-.92-.59-1.43-.59-.52 0-1.04.2-1.43.59L10.3 9.45l-7.72 7.72c-.78.78-.78 2.05 0 2.83L4 21.41c.39.39.9.59 1.41.59.51 0 1.02-.2 1.41-.59l7.78-7.78 2.81-2.81c.8-.78.8-2.07 0-2.86zM5.41 20L4 18.59l7.72-7.72 1.47 1.35L5.41 20z\"/>\n",
              "  </svg>\n",
              "      </button>\n",
              "      \n",
              "  <style>\n",
              "    .colab-df-container {\n",
              "      display:flex;\n",
              "      flex-wrap:wrap;\n",
              "      gap: 12px;\n",
              "    }\n",
              "\n",
              "    .colab-df-convert {\n",
              "      background-color: #E8F0FE;\n",
              "      border: none;\n",
              "      border-radius: 50%;\n",
              "      cursor: pointer;\n",
              "      display: none;\n",
              "      fill: #1967D2;\n",
              "      height: 32px;\n",
              "      padding: 0 0 0 0;\n",
              "      width: 32px;\n",
              "    }\n",
              "\n",
              "    .colab-df-convert:hover {\n",
              "      background-color: #E2EBFA;\n",
              "      box-shadow: 0px 1px 2px rgba(60, 64, 67, 0.3), 0px 1px 3px 1px rgba(60, 64, 67, 0.15);\n",
              "      fill: #174EA6;\n",
              "    }\n",
              "\n",
              "    [theme=dark] .colab-df-convert {\n",
              "      background-color: #3B4455;\n",
              "      fill: #D2E3FC;\n",
              "    }\n",
              "\n",
              "    [theme=dark] .colab-df-convert:hover {\n",
              "      background-color: #434B5C;\n",
              "      box-shadow: 0px 1px 3px 1px rgba(0, 0, 0, 0.15);\n",
              "      filter: drop-shadow(0px 1px 2px rgba(0, 0, 0, 0.3));\n",
              "      fill: #FFFFFF;\n",
              "    }\n",
              "  </style>\n",
              "\n",
              "      <script>\n",
              "        const buttonEl =\n",
              "          document.querySelector('#df-68f51ff6-ac35-493e-ad19-bd79c82295c1 button.colab-df-convert');\n",
              "        buttonEl.style.display =\n",
              "          google.colab.kernel.accessAllowed ? 'block' : 'none';\n",
              "\n",
              "        async function convertToInteractive(key) {\n",
              "          const element = document.querySelector('#df-68f51ff6-ac35-493e-ad19-bd79c82295c1');\n",
              "          const dataTable =\n",
              "            await google.colab.kernel.invokeFunction('convertToInteractive',\n",
              "                                                     [key], {});\n",
              "          if (!dataTable) return;\n",
              "\n",
              "          const docLinkHtml = 'Like what you see? Visit the ' +\n",
              "            '<a target=\"_blank\" href=https://colab.research.google.com/notebooks/data_table.ipynb>data table notebook</a>'\n",
              "            + ' to learn more about interactive tables.';\n",
              "          element.innerHTML = '';\n",
              "          dataTable['output_type'] = 'display_data';\n",
              "          await google.colab.output.renderOutput(dataTable, element);\n",
              "          const docLink = document.createElement('div');\n",
              "          docLink.innerHTML = docLinkHtml;\n",
              "          element.appendChild(docLink);\n",
              "        }\n",
              "      </script>\n",
              "    </div>\n",
              "  </div>\n",
              "  "
            ]
          },
          "metadata": {},
          "execution_count": 226
        }
      ]
    },
    {
      "cell_type": "markdown",
      "source": [
        "Below, note that in `tripadvisor_rating` and `hotel_features` there are no values. And in `price_per_night`, there are only 2 entries with values. We will have to rely on other columns to make clusters and recommendations.\n"
      ],
      "metadata": {
        "id": "AOWvmz1wQmsV"
      }
    },
    {
      "cell_type": "code",
      "source": [
        "hotel_listings.info()"
      ],
      "metadata": {
        "colab": {
          "base_uri": "https://localhost:8080/",
          "height": 362
        },
        "id": "xbwzH8CbQhXE",
        "outputId": "fef1ce8f-64c6-4944-a882-2f8beff1da7e"
      },
      "execution_count": null,
      "outputs": [
        {
          "output_type": "display_data",
          "data": {
            "text/plain": [
              "<IPython.core.display.HTML object>"
            ],
            "text/html": [
              "\n",
              "  <style>\n",
              "    pre {\n",
              "        white-space: pre-wrap;\n",
              "    }\n",
              "  </style>\n",
              "  "
            ]
          },
          "metadata": {}
        },
        {
          "output_type": "display_data",
          "data": {
            "text/plain": [
              "<IPython.core.display.HTML object>"
            ],
            "text/html": [
              "\n",
              "  <style>\n",
              "    pre {\n",
              "        white-space: pre-wrap;\n",
              "    }\n",
              "  </style>\n",
              "  "
            ]
          },
          "metadata": {}
        },
        {
          "output_type": "display_data",
          "data": {
            "text/plain": [
              "<IPython.core.display.HTML object>"
            ],
            "text/html": [
              "\n",
              "  <style>\n",
              "    pre {\n",
              "        white-space: pre-wrap;\n",
              "    }\n",
              "  </style>\n",
              "  "
            ]
          },
          "metadata": {}
        },
        {
          "output_type": "stream",
          "name": "stdout",
          "text": [
            "<class 'pandas.core.frame.DataFrame'>\n",
            "RangeIndex: 30 entries, 0 to 29\n",
            "Data columns (total 12 columns):\n",
            " #   Column              Non-Null Count  Dtype  \n",
            "---  ------              --------------  -----  \n",
            " 0   Unnamed: 0          30 non-null     int64  \n",
            " 1   hotel_name          30 non-null     object \n",
            " 2   url                 30 non-null     object \n",
            " 3   locality            30 non-null     object \n",
            " 4   reviews             30 non-null     int64  \n",
            " 5   tripadvisor_rating  0 non-null      float64\n",
            " 6   checkIn             30 non-null     object \n",
            " 7   checkOut            30 non-null     object \n",
            " 8   price_per_night     2 non-null      object \n",
            " 9   booking_provider    30 non-null     object \n",
            " 10  no_of_deals         30 non-null     int64  \n",
            " 11  hotel_features      0 non-null      float64\n",
            "dtypes: float64(2), int64(3), object(7)\n",
            "memory usage: 2.9+ KB\n"
          ]
        }
      ]
    },
    {
      "cell_type": "markdown",
      "source": [
        "This locality column is not useful when we are only analyzing Istanbul hotels."
      ],
      "metadata": {
        "id": "nwH54BX-Rr1a"
      }
    },
    {
      "cell_type": "code",
      "source": [
        "hotel_listings.locality.unique()"
      ],
      "metadata": {
        "colab": {
          "base_uri": "https://localhost:8080/",
          "height": 35
        },
        "id": "KQYB801ERl_9",
        "outputId": "27ea1071-5f9b-45bf-9a9e-18d28bd570ab"
      },
      "execution_count": null,
      "outputs": [
        {
          "output_type": "display_data",
          "data": {
            "text/plain": [
              "<IPython.core.display.HTML object>"
            ],
            "text/html": [
              "\n",
              "  <style>\n",
              "    pre {\n",
              "        white-space: pre-wrap;\n",
              "    }\n",
              "  </style>\n",
              "  "
            ]
          },
          "metadata": {}
        },
        {
          "output_type": "display_data",
          "data": {
            "text/plain": [
              "<IPython.core.display.HTML object>"
            ],
            "text/html": [
              "\n",
              "  <style>\n",
              "    pre {\n",
              "        white-space: pre-wrap;\n",
              "    }\n",
              "  </style>\n",
              "  "
            ]
          },
          "metadata": {}
        },
        {
          "output_type": "display_data",
          "data": {
            "text/plain": [
              "<IPython.core.display.HTML object>"
            ],
            "text/html": [
              "\n",
              "  <style>\n",
              "    pre {\n",
              "        white-space: pre-wrap;\n",
              "    }\n",
              "  </style>\n",
              "  "
            ]
          },
          "metadata": {}
        },
        {
          "output_type": "execute_result",
          "data": {
            "text/plain": [
              "array(['Istanbul'], dtype=object)"
            ]
          },
          "metadata": {},
          "execution_count": 228
        }
      ]
    },
    {
      "cell_type": "markdown",
      "source": [
        "Check in and check out date aren't very meaningful for us because they  only contain one unique values each."
      ],
      "metadata": {
        "id": "LBG2lcVgSLnA"
      }
    },
    {
      "cell_type": "code",
      "source": [
        "print(hotel_listings.checkIn.unique(), hotel_listings.checkOut.unique())"
      ],
      "metadata": {
        "colab": {
          "base_uri": "https://localhost:8080/",
          "height": 35
        },
        "id": "idSWJlz9SPud",
        "outputId": "8ae59be1-b6e9-482d-ecd6-74eae3f34c5f"
      },
      "execution_count": null,
      "outputs": [
        {
          "output_type": "display_data",
          "data": {
            "text/plain": [
              "<IPython.core.display.HTML object>"
            ],
            "text/html": [
              "\n",
              "  <style>\n",
              "    pre {\n",
              "        white-space: pre-wrap;\n",
              "    }\n",
              "  </style>\n",
              "  "
            ]
          },
          "metadata": {}
        },
        {
          "output_type": "display_data",
          "data": {
            "text/plain": [
              "<IPython.core.display.HTML object>"
            ],
            "text/html": [
              "\n",
              "  <style>\n",
              "    pre {\n",
              "        white-space: pre-wrap;\n",
              "    }\n",
              "  </style>\n",
              "  "
            ]
          },
          "metadata": {}
        },
        {
          "output_type": "display_data",
          "data": {
            "text/plain": [
              "<IPython.core.display.HTML object>"
            ],
            "text/html": [
              "\n",
              "  <style>\n",
              "    pre {\n",
              "        white-space: pre-wrap;\n",
              "    }\n",
              "  </style>\n",
              "  "
            ]
          },
          "metadata": {}
        },
        {
          "output_type": "stream",
          "name": "stdout",
          "text": [
            "['2019/10/01'] ['2019/10/05']\n"
          ]
        }
      ]
    },
    {
      "cell_type": "markdown",
      "source": [
        "There isn't much meaningful information in the URL either. It contains the name of hotel, but we already have a column of data for that."
      ],
      "metadata": {
        "id": "1gahzSBqXml_"
      }
    },
    {
      "cell_type": "code",
      "source": [
        "hotel_listings.url[0]"
      ],
      "metadata": {
        "colab": {
          "base_uri": "https://localhost:8080/",
          "height": 36
        },
        "id": "QdWzP0o9XgrK",
        "outputId": "f3f79f32-d387-45ec-b7cb-e5a469e5b537"
      },
      "execution_count": null,
      "outputs": [
        {
          "output_type": "display_data",
          "data": {
            "text/plain": [
              "<IPython.core.display.HTML object>"
            ],
            "text/html": [
              "\n",
              "  <style>\n",
              "    pre {\n",
              "        white-space: pre-wrap;\n",
              "    }\n",
              "  </style>\n",
              "  "
            ]
          },
          "metadata": {}
        },
        {
          "output_type": "display_data",
          "data": {
            "text/plain": [
              "<IPython.core.display.HTML object>"
            ],
            "text/html": [
              "\n",
              "  <style>\n",
              "    pre {\n",
              "        white-space: pre-wrap;\n",
              "    }\n",
              "  </style>\n",
              "  "
            ]
          },
          "metadata": {}
        },
        {
          "output_type": "display_data",
          "data": {
            "text/plain": [
              "<IPython.core.display.HTML object>"
            ],
            "text/html": [
              "\n",
              "  <style>\n",
              "    pre {\n",
              "        white-space: pre-wrap;\n",
              "    }\n",
              "  </style>\n",
              "  "
            ]
          },
          "metadata": {}
        },
        {
          "output_type": "execute_result",
          "data": {
            "text/plain": [
              "'http://www.tripadvisor.com/Hotel_Review-g293974-d1604061-Reviews-White_House_Hotel_Istanbul-Istanbul.html'"
            ],
            "application/vnd.google.colaboratory.intrinsic+json": {
              "type": "string"
            }
          },
          "metadata": {},
          "execution_count": 230
        }
      ]
    },
    {
      "cell_type": "markdown",
      "source": [
        "Let's now drop all the unimportant columns:"
      ],
      "metadata": {
        "id": "vT45gW7LSc_7"
      }
    },
    {
      "cell_type": "code",
      "source": [
        "to_drop = ['tripadvisor_rating', 'hotel_features', 'price_per_night', 'locality', 'checkIn', 'checkOut', 'Unnamed: 0', 'url']\n",
        "hotel_listings1 = hotel_listings.drop(to_drop, axis='columns')\n",
        "hotel_listings1.head()"
      ],
      "metadata": {
        "colab": {
          "base_uri": "https://localhost:8080/",
          "height": 206
        },
        "id": "TJFkfW01QiwX",
        "outputId": "262a4d6f-8f71-4882-c149-0e506accc787"
      },
      "execution_count": null,
      "outputs": [
        {
          "output_type": "display_data",
          "data": {
            "text/plain": [
              "<IPython.core.display.HTML object>"
            ],
            "text/html": [
              "\n",
              "  <style>\n",
              "    pre {\n",
              "        white-space: pre-wrap;\n",
              "    }\n",
              "  </style>\n",
              "  "
            ]
          },
          "metadata": {}
        },
        {
          "output_type": "display_data",
          "data": {
            "text/plain": [
              "<IPython.core.display.HTML object>"
            ],
            "text/html": [
              "\n",
              "  <style>\n",
              "    pre {\n",
              "        white-space: pre-wrap;\n",
              "    }\n",
              "  </style>\n",
              "  "
            ]
          },
          "metadata": {}
        },
        {
          "output_type": "display_data",
          "data": {
            "text/plain": [
              "<IPython.core.display.HTML object>"
            ],
            "text/html": [
              "\n",
              "  <style>\n",
              "    pre {\n",
              "        white-space: pre-wrap;\n",
              "    }\n",
              "  </style>\n",
              "  "
            ]
          },
          "metadata": {}
        },
        {
          "output_type": "execute_result",
          "data": {
            "text/plain": [
              "                             hotel_name  reviews booking_provider  no_of_deals\n",
              "0            White House Hotel Istanbul     4414      Booking.com           10\n",
              "1        Crowne Plaza Istanbul - Florya      406      Travelocity           16\n",
              "2  GLK PREMIER Sea Mansion Suites & Spa      350      Travelocity           16\n",
              "3                        Basileus Hotel     2061      TripAdvisor            9\n",
              "4                           Baylosuites       91      TripAdvisor            0"
            ],
            "text/html": [
              "\n",
              "  <div id=\"df-6ba70a54-ff89-4781-9c3e-404f6d9938fd\">\n",
              "    <div class=\"colab-df-container\">\n",
              "      <div>\n",
              "<style scoped>\n",
              "    .dataframe tbody tr th:only-of-type {\n",
              "        vertical-align: middle;\n",
              "    }\n",
              "\n",
              "    .dataframe tbody tr th {\n",
              "        vertical-align: top;\n",
              "    }\n",
              "\n",
              "    .dataframe thead th {\n",
              "        text-align: right;\n",
              "    }\n",
              "</style>\n",
              "<table border=\"1\" class=\"dataframe\">\n",
              "  <thead>\n",
              "    <tr style=\"text-align: right;\">\n",
              "      <th></th>\n",
              "      <th>hotel_name</th>\n",
              "      <th>reviews</th>\n",
              "      <th>booking_provider</th>\n",
              "      <th>no_of_deals</th>\n",
              "    </tr>\n",
              "  </thead>\n",
              "  <tbody>\n",
              "    <tr>\n",
              "      <th>0</th>\n",
              "      <td>White House Hotel Istanbul</td>\n",
              "      <td>4414</td>\n",
              "      <td>Booking.com</td>\n",
              "      <td>10</td>\n",
              "    </tr>\n",
              "    <tr>\n",
              "      <th>1</th>\n",
              "      <td>Crowne Plaza Istanbul - Florya</td>\n",
              "      <td>406</td>\n",
              "      <td>Travelocity</td>\n",
              "      <td>16</td>\n",
              "    </tr>\n",
              "    <tr>\n",
              "      <th>2</th>\n",
              "      <td>GLK PREMIER Sea Mansion Suites &amp; Spa</td>\n",
              "      <td>350</td>\n",
              "      <td>Travelocity</td>\n",
              "      <td>16</td>\n",
              "    </tr>\n",
              "    <tr>\n",
              "      <th>3</th>\n",
              "      <td>Basileus Hotel</td>\n",
              "      <td>2061</td>\n",
              "      <td>TripAdvisor</td>\n",
              "      <td>9</td>\n",
              "    </tr>\n",
              "    <tr>\n",
              "      <th>4</th>\n",
              "      <td>Baylosuites</td>\n",
              "      <td>91</td>\n",
              "      <td>TripAdvisor</td>\n",
              "      <td>0</td>\n",
              "    </tr>\n",
              "  </tbody>\n",
              "</table>\n",
              "</div>\n",
              "      <button class=\"colab-df-convert\" onclick=\"convertToInteractive('df-6ba70a54-ff89-4781-9c3e-404f6d9938fd')\"\n",
              "              title=\"Convert this dataframe to an interactive table.\"\n",
              "              style=\"display:none;\">\n",
              "        \n",
              "  <svg xmlns=\"http://www.w3.org/2000/svg\" height=\"24px\"viewBox=\"0 0 24 24\"\n",
              "       width=\"24px\">\n",
              "    <path d=\"M0 0h24v24H0V0z\" fill=\"none\"/>\n",
              "    <path d=\"M18.56 5.44l.94 2.06.94-2.06 2.06-.94-2.06-.94-.94-2.06-.94 2.06-2.06.94zm-11 1L8.5 8.5l.94-2.06 2.06-.94-2.06-.94L8.5 2.5l-.94 2.06-2.06.94zm10 10l.94 2.06.94-2.06 2.06-.94-2.06-.94-.94-2.06-.94 2.06-2.06.94z\"/><path d=\"M17.41 7.96l-1.37-1.37c-.4-.4-.92-.59-1.43-.59-.52 0-1.04.2-1.43.59L10.3 9.45l-7.72 7.72c-.78.78-.78 2.05 0 2.83L4 21.41c.39.39.9.59 1.41.59.51 0 1.02-.2 1.41-.59l7.78-7.78 2.81-2.81c.8-.78.8-2.07 0-2.86zM5.41 20L4 18.59l7.72-7.72 1.47 1.35L5.41 20z\"/>\n",
              "  </svg>\n",
              "      </button>\n",
              "      \n",
              "  <style>\n",
              "    .colab-df-container {\n",
              "      display:flex;\n",
              "      flex-wrap:wrap;\n",
              "      gap: 12px;\n",
              "    }\n",
              "\n",
              "    .colab-df-convert {\n",
              "      background-color: #E8F0FE;\n",
              "      border: none;\n",
              "      border-radius: 50%;\n",
              "      cursor: pointer;\n",
              "      display: none;\n",
              "      fill: #1967D2;\n",
              "      height: 32px;\n",
              "      padding: 0 0 0 0;\n",
              "      width: 32px;\n",
              "    }\n",
              "\n",
              "    .colab-df-convert:hover {\n",
              "      background-color: #E2EBFA;\n",
              "      box-shadow: 0px 1px 2px rgba(60, 64, 67, 0.3), 0px 1px 3px 1px rgba(60, 64, 67, 0.15);\n",
              "      fill: #174EA6;\n",
              "    }\n",
              "\n",
              "    [theme=dark] .colab-df-convert {\n",
              "      background-color: #3B4455;\n",
              "      fill: #D2E3FC;\n",
              "    }\n",
              "\n",
              "    [theme=dark] .colab-df-convert:hover {\n",
              "      background-color: #434B5C;\n",
              "      box-shadow: 0px 1px 3px 1px rgba(0, 0, 0, 0.15);\n",
              "      filter: drop-shadow(0px 1px 2px rgba(0, 0, 0, 0.3));\n",
              "      fill: #FFFFFF;\n",
              "    }\n",
              "  </style>\n",
              "\n",
              "      <script>\n",
              "        const buttonEl =\n",
              "          document.querySelector('#df-6ba70a54-ff89-4781-9c3e-404f6d9938fd button.colab-df-convert');\n",
              "        buttonEl.style.display =\n",
              "          google.colab.kernel.accessAllowed ? 'block' : 'none';\n",
              "\n",
              "        async function convertToInteractive(key) {\n",
              "          const element = document.querySelector('#df-6ba70a54-ff89-4781-9c3e-404f6d9938fd');\n",
              "          const dataTable =\n",
              "            await google.colab.kernel.invokeFunction('convertToInteractive',\n",
              "                                                     [key], {});\n",
              "          if (!dataTable) return;\n",
              "\n",
              "          const docLinkHtml = 'Like what you see? Visit the ' +\n",
              "            '<a target=\"_blank\" href=https://colab.research.google.com/notebooks/data_table.ipynb>data table notebook</a>'\n",
              "            + ' to learn more about interactive tables.';\n",
              "          element.innerHTML = '';\n",
              "          dataTable['output_type'] = 'display_data';\n",
              "          await google.colab.output.renderOutput(dataTable, element);\n",
              "          const docLink = document.createElement('div');\n",
              "          docLink.innerHTML = docLinkHtml;\n",
              "          element.appendChild(docLink);\n",
              "        }\n",
              "      </script>\n",
              "    </div>\n",
              "  </div>\n",
              "  "
            ]
          },
          "metadata": {},
          "execution_count": 231
        }
      ]
    },
    {
      "cell_type": "markdown",
      "source": [
        "Now, we can explore the remaining data:"
      ],
      "metadata": {
        "id": "LAHMLylVX2hZ"
      }
    },
    {
      "cell_type": "markdown",
      "source": [
        "Each hotel is unique and there are 30 in total."
      ],
      "metadata": {
        "id": "b3vf6_qZYDuP"
      }
    },
    {
      "cell_type": "code",
      "source": [
        "hotel_listings1.hotel_name.count()"
      ],
      "metadata": {
        "colab": {
          "base_uri": "https://localhost:8080/",
          "height": 35
        },
        "id": "yZaDViHO032F",
        "outputId": "ad1cbf9a-cd56-482e-dc45-78d0233ce804"
      },
      "execution_count": null,
      "outputs": [
        {
          "output_type": "display_data",
          "data": {
            "text/plain": [
              "<IPython.core.display.HTML object>"
            ],
            "text/html": [
              "\n",
              "  <style>\n",
              "    pre {\n",
              "        white-space: pre-wrap;\n",
              "    }\n",
              "  </style>\n",
              "  "
            ]
          },
          "metadata": {}
        },
        {
          "output_type": "display_data",
          "data": {
            "text/plain": [
              "<IPython.core.display.HTML object>"
            ],
            "text/html": [
              "\n",
              "  <style>\n",
              "    pre {\n",
              "        white-space: pre-wrap;\n",
              "    }\n",
              "  </style>\n",
              "  "
            ]
          },
          "metadata": {}
        },
        {
          "output_type": "display_data",
          "data": {
            "text/plain": [
              "<IPython.core.display.HTML object>"
            ],
            "text/html": [
              "\n",
              "  <style>\n",
              "    pre {\n",
              "        white-space: pre-wrap;\n",
              "    }\n",
              "  </style>\n",
              "  "
            ]
          },
          "metadata": {}
        },
        {
          "output_type": "execute_result",
          "data": {
            "text/plain": [
              "30"
            ]
          },
          "metadata": {},
          "execution_count": 232
        }
      ]
    },
    {
      "cell_type": "code",
      "source": [
        "hotel_listings1.hotel_name.value_counts()"
      ],
      "metadata": {
        "colab": {
          "base_uri": "https://localhost:8080/",
          "height": 581
        },
        "id": "yRH-49RrX2Bo",
        "outputId": "d550c852-da53-4330-d229-cb28f939c813"
      },
      "execution_count": null,
      "outputs": [
        {
          "output_type": "display_data",
          "data": {
            "text/plain": [
              "<IPython.core.display.HTML object>"
            ],
            "text/html": [
              "\n",
              "  <style>\n",
              "    pre {\n",
              "        white-space: pre-wrap;\n",
              "    }\n",
              "  </style>\n",
              "  "
            ]
          },
          "metadata": {}
        },
        {
          "output_type": "display_data",
          "data": {
            "text/plain": [
              "<IPython.core.display.HTML object>"
            ],
            "text/html": [
              "\n",
              "  <style>\n",
              "    pre {\n",
              "        white-space: pre-wrap;\n",
              "    }\n",
              "  </style>\n",
              "  "
            ]
          },
          "metadata": {}
        },
        {
          "output_type": "display_data",
          "data": {
            "text/plain": [
              "<IPython.core.display.HTML object>"
            ],
            "text/html": [
              "\n",
              "  <style>\n",
              "    pre {\n",
              "        white-space: pre-wrap;\n",
              "    }\n",
              "  </style>\n",
              "  "
            ]
          },
          "metadata": {}
        },
        {
          "output_type": "execute_result",
          "data": {
            "text/plain": [
              "White House Hotel Istanbul                   1\n",
              "Crowne Plaza Istanbul - Florya               1\n",
              "Jazz Hotel                                   1\n",
              "Hotel Tulip House                            1\n",
              "Robin's Nest                                 1\n",
              "Artefes Hotel Istanbul                       1\n",
              "Walton Hotels Galata                         1\n",
              "Radisson Blu Hotel & Spa - Istanbul Tuzla    1\n",
              "Arven Boutique Hotel                         1\n",
              "Bucoleon by Cheers                           1\n",
              "Sura Hagia Sophia Hotel                      1\n",
              "Agva Riverangel Hotel                        1\n",
              "MySuite Istanbul Cihangir Square             1\n",
              "Cube Suites                                  1\n",
              "Hotel Next2                                  1\n",
              "Hotel Sultan Hill                            1\n",
              "Lotus Hotel Istanbul                         1\n",
              "Downtown Istanbul                            1\n",
              "Hotel Amira Istanbul                         1\n",
              "Emirhan Inn Apart Hotel                      1\n",
              "Bosphorus Palace Hotel                       1\n",
              "Dila Suites                                  1\n",
              "Elite World Business                         1\n",
              "Taksim Ultra VIP Apartments                  1\n",
              "Has Han Galata                               1\n",
              "Walnut Shell Hotel                           1\n",
              "Baylosuites                                  1\n",
              "Basileus Hotel                               1\n",
              "GLK PREMIER Sea Mansion Suites & Spa         1\n",
              "Hotel Valide Sultan Konagi                   1\n",
              "Name: hotel_name, dtype: int64"
            ]
          },
          "metadata": {},
          "execution_count": 233
        }
      ]
    },
    {
      "cell_type": "markdown",
      "source": [
        "Histograms for numerical data. We can see the `# of reviews` skews right and the `number of deals` is split between none or many."
      ],
      "metadata": {
        "id": "7dU5LZC_YGjQ"
      }
    },
    {
      "cell_type": "code",
      "source": [
        "hotel_listings1.hist(bins=20, figsize=(15, 5))"
      ],
      "metadata": {
        "colab": {
          "base_uri": "https://localhost:8080/",
          "height": 372
        },
        "id": "rE5fQyPqYHDA",
        "outputId": "22a8f99e-e1d1-45a5-f453-b9ae63512c7d"
      },
      "execution_count": null,
      "outputs": [
        {
          "output_type": "display_data",
          "data": {
            "text/plain": [
              "<IPython.core.display.HTML object>"
            ],
            "text/html": [
              "\n",
              "  <style>\n",
              "    pre {\n",
              "        white-space: pre-wrap;\n",
              "    }\n",
              "  </style>\n",
              "  "
            ]
          },
          "metadata": {}
        },
        {
          "output_type": "display_data",
          "data": {
            "text/plain": [
              "<IPython.core.display.HTML object>"
            ],
            "text/html": [
              "\n",
              "  <style>\n",
              "    pre {\n",
              "        white-space: pre-wrap;\n",
              "    }\n",
              "  </style>\n",
              "  "
            ]
          },
          "metadata": {}
        },
        {
          "output_type": "display_data",
          "data": {
            "text/plain": [
              "<IPython.core.display.HTML object>"
            ],
            "text/html": [
              "\n",
              "  <style>\n",
              "    pre {\n",
              "        white-space: pre-wrap;\n",
              "    }\n",
              "  </style>\n",
              "  "
            ]
          },
          "metadata": {}
        },
        {
          "output_type": "execute_result",
          "data": {
            "text/plain": [
              "array([[<Axes: title={'center': 'reviews'}>,\n",
              "        <Axes: title={'center': 'no_of_deals'}>]], dtype=object)"
            ]
          },
          "metadata": {},
          "execution_count": 234
        },
        {
          "output_type": "display_data",
          "data": {
            "text/plain": [
              "<Figure size 1080x360 with 2 Axes>"
            ],
            "image/png": "[encoded data removed]"
          },
          "metadata": {
            "needs_background": "light"
          }
        }
      ]
    },
    {
      "cell_type": "markdown",
      "source": [
        "Booking provider spread. Mostly TripAdvisor, decent amount of Booking.com, then even spread along the last 3."
      ],
      "metadata": {
        "id": "j5qraHm8ZOaK"
      }
    },
    {
      "cell_type": "code",
      "source": [
        "hb_sizes = hotel_listings1.booking_provider.value_counts()\n",
        "hb_labels = hotel_listings1.booking_provider.value_counts().keys()\n",
        "\n",
        "colors = sns.color_palette('Set2')[0:5]\n",
        "\n",
        "plt.pie(hb_sizes, labels=hb_labels, colors = colors, autopct='%.0f%%', radius=2)\n",
        "plt.show()"
      ],
      "metadata": {
        "colab": {
          "base_uri": "https://localhost:8080/",
          "height": 400
        },
        "id": "PVHzpF9_ZRFU",
        "outputId": "d80beae1-3614-4898-b91b-cdb704af4ad5"
      },
      "execution_count": null,
      "outputs": [
        {
          "output_type": "display_data",
          "data": {
            "text/plain": [
              "<IPython.core.display.HTML object>"
            ],
            "text/html": [
              "\n",
              "  <style>\n",
              "    pre {\n",
              "        white-space: pre-wrap;\n",
              "    }\n",
              "  </style>\n",
              "  "
            ]
          },
          "metadata": {}
        },
        {
          "output_type": "display_data",
          "data": {
            "text/plain": [
              "<IPython.core.display.HTML object>"
            ],
            "text/html": [
              "\n",
              "  <style>\n",
              "    pre {\n",
              "        white-space: pre-wrap;\n",
              "    }\n",
              "  </style>\n",
              "  "
            ]
          },
          "metadata": {}
        },
        {
          "output_type": "display_data",
          "data": {
            "text/plain": [
              "<IPython.core.display.HTML object>"
            ],
            "text/html": [
              "\n",
              "  <style>\n",
              "    pre {\n",
              "        white-space: pre-wrap;\n",
              "    }\n",
              "  </style>\n",
              "  "
            ]
          },
          "metadata": {}
        },
        {
          "output_type": "display_data",
          "data": {
            "text/plain": [
              "<Figure size 432x288 with 1 Axes>"
            ],
            "image/png": "[encoded data removed]"
          },
          "metadata": {}
        }
      ]
    },
    {
      "cell_type": "markdown",
      "source": [
        "### Hotel Reviews"
      ],
      "metadata": {
        "id": "MWCu-SQCSj_Z"
      }
    },
    {
      "cell_type": "code",
      "source": [
        "hotel_ratings.describe()"
      ],
      "metadata": {
        "colab": {
          "base_uri": "https://localhost:8080/",
          "height": 300
        },
        "id": "15L6LjYvZQbu",
        "outputId": "926b457f-2ccf-4a76-922e-669e5edf7b9c"
      },
      "execution_count": null,
      "outputs": [
        {
          "output_type": "display_data",
          "data": {
            "text/plain": [
              "<IPython.core.display.HTML object>"
            ],
            "text/html": [
              "\n",
              "  <style>\n",
              "    pre {\n",
              "        white-space: pre-wrap;\n",
              "    }\n",
              "  </style>\n",
              "  "
            ]
          },
          "metadata": {}
        },
        {
          "output_type": "display_data",
          "data": {
            "text/plain": [
              "<IPython.core.display.HTML object>"
            ],
            "text/html": [
              "\n",
              "  <style>\n",
              "    pre {\n",
              "        white-space: pre-wrap;\n",
              "    }\n",
              "  </style>\n",
              "  "
            ]
          },
          "metadata": {}
        },
        {
          "output_type": "display_data",
          "data": {
            "text/plain": [
              "<IPython.core.display.HTML object>"
            ],
            "text/html": [
              "\n",
              "  <style>\n",
              "    pre {\n",
              "        white-space: pre-wrap;\n",
              "    }\n",
              "  </style>\n",
              "  "
            ]
          },
          "metadata": {}
        },
        {
          "output_type": "execute_result",
          "data": {
            "text/plain": [
              "       Unnamed: 0\n",
              "count  1433.00000\n",
              "mean    716.00000\n",
              "std     413.81578\n",
              "min       0.00000\n",
              "25%     358.00000\n",
              "50%     716.00000\n",
              "75%    1074.00000\n",
              "max    1432.00000"
            ],
            "text/html": [
              "\n",
              "  <div id=\"df-49768ecd-58df-464f-a0c7-d5ba5c3e7cf2\">\n",
              "    <div class=\"colab-df-container\">\n",
              "      <div>\n",
              "<style scoped>\n",
              "    .dataframe tbody tr th:only-of-type {\n",
              "        vertical-align: middle;\n",
              "    }\n",
              "\n",
              "    .dataframe tbody tr th {\n",
              "        vertical-align: top;\n",
              "    }\n",
              "\n",
              "    .dataframe thead th {\n",
              "        text-align: right;\n",
              "    }\n",
              "</style>\n",
              "<table border=\"1\" class=\"dataframe\">\n",
              "  <thead>\n",
              "    <tr style=\"text-align: right;\">\n",
              "      <th></th>\n",
              "      <th>Unnamed: 0</th>\n",
              "    </tr>\n",
              "  </thead>\n",
              "  <tbody>\n",
              "    <tr>\n",
              "      <th>count</th>\n",
              "      <td>1433.00000</td>\n",
              "    </tr>\n",
              "    <tr>\n",
              "      <th>mean</th>\n",
              "      <td>716.00000</td>\n",
              "    </tr>\n",
              "    <tr>\n",
              "      <th>std</th>\n",
              "      <td>413.81578</td>\n",
              "    </tr>\n",
              "    <tr>\n",
              "      <th>min</th>\n",
              "      <td>0.00000</td>\n",
              "    </tr>\n",
              "    <tr>\n",
              "      <th>25%</th>\n",
              "      <td>358.00000</td>\n",
              "    </tr>\n",
              "    <tr>\n",
              "      <th>50%</th>\n",
              "      <td>716.00000</td>\n",
              "    </tr>\n",
              "    <tr>\n",
              "      <th>75%</th>\n",
              "      <td>1074.00000</td>\n",
              "    </tr>\n",
              "    <tr>\n",
              "      <th>max</th>\n",
              "      <td>1432.00000</td>\n",
              "    </tr>\n",
              "  </tbody>\n",
              "</table>\n",
              "</div>\n",
              "      <button class=\"colab-df-convert\" onclick=\"convertToInteractive('df-49768ecd-58df-464f-a0c7-d5ba5c3e7cf2')\"\n",
              "              title=\"Convert this dataframe to an interactive table.\"\n",
              "              style=\"display:none;\">\n",
              "        \n",
              "  <svg xmlns=\"http://www.w3.org/2000/svg\" height=\"24px\"viewBox=\"0 0 24 24\"\n",
              "       width=\"24px\">\n",
              "    <path d=\"M0 0h24v24H0V0z\" fill=\"none\"/>\n",
              "    <path d=\"M18.56 5.44l.94 2.06.94-2.06 2.06-.94-2.06-.94-.94-2.06-.94 2.06-2.06.94zm-11 1L8.5 8.5l.94-2.06 2.06-.94-2.06-.94L8.5 2.5l-.94 2.06-2.06.94zm10 10l.94 2.06.94-2.06 2.06-.94-2.06-.94-.94-2.06-.94 2.06-2.06.94z\"/><path d=\"M17.41 7.96l-1.37-1.37c-.4-.4-.92-.59-1.43-.59-.52 0-1.04.2-1.43.59L10.3 9.45l-7.72 7.72c-.78.78-.78 2.05 0 2.83L4 21.41c.39.39.9.59 1.41.59.51 0 1.02-.2 1.41-.59l7.78-7.78 2.81-2.81c.8-.78.8-2.07 0-2.86zM5.41 20L4 18.59l7.72-7.72 1.47 1.35L5.41 20z\"/>\n",
              "  </svg>\n",
              "      </button>\n",
              "      \n",
              "  <style>\n",
              "    .colab-df-container {\n",
              "      display:flex;\n",
              "      flex-wrap:wrap;\n",
              "      gap: 12px;\n",
              "    }\n",
              "\n",
              "    .colab-df-convert {\n",
              "      background-color: #E8F0FE;\n",
              "      border: none;\n",
              "      border-radius: 50%;\n",
              "      cursor: pointer;\n",
              "      display: none;\n",
              "      fill: #1967D2;\n",
              "      height: 32px;\n",
              "      padding: 0 0 0 0;\n",
              "      width: 32px;\n",
              "    }\n",
              "\n",
              "    .colab-df-convert:hover {\n",
              "      background-color: #E2EBFA;\n",
              "      box-shadow: 0px 1px 2px rgba(60, 64, 67, 0.3), 0px 1px 3px 1px rgba(60, 64, 67, 0.15);\n",
              "      fill: #174EA6;\n",
              "    }\n",
              "\n",
              "    [theme=dark] .colab-df-convert {\n",
              "      background-color: #3B4455;\n",
              "      fill: #D2E3FC;\n",
              "    }\n",
              "\n",
              "    [theme=dark] .colab-df-convert:hover {\n",
              "      background-color: #434B5C;\n",
              "      box-shadow: 0px 1px 3px 1px rgba(0, 0, 0, 0.15);\n",
              "      filter: drop-shadow(0px 1px 2px rgba(0, 0, 0, 0.3));\n",
              "      fill: #FFFFFF;\n",
              "    }\n",
              "  </style>\n",
              "\n",
              "      <script>\n",
              "        const buttonEl =\n",
              "          document.querySelector('#df-49768ecd-58df-464f-a0c7-d5ba5c3e7cf2 button.colab-df-convert');\n",
              "        buttonEl.style.display =\n",
              "          google.colab.kernel.accessAllowed ? 'block' : 'none';\n",
              "\n",
              "        async function convertToInteractive(key) {\n",
              "          const element = document.querySelector('#df-49768ecd-58df-464f-a0c7-d5ba5c3e7cf2');\n",
              "          const dataTable =\n",
              "            await google.colab.kernel.invokeFunction('convertToInteractive',\n",
              "                                                     [key], {});\n",
              "          if (!dataTable) return;\n",
              "\n",
              "          const docLinkHtml = 'Like what you see? Visit the ' +\n",
              "            '<a target=\"_blank\" href=https://colab.research.google.com/notebooks/data_table.ipynb>data table notebook</a>'\n",
              "            + ' to learn more about interactive tables.';\n",
              "          element.innerHTML = '';\n",
              "          dataTable['output_type'] = 'display_data';\n",
              "          await google.colab.output.renderOutput(dataTable, element);\n",
              "          const docLink = document.createElement('div');\n",
              "          docLink.innerHTML = docLinkHtml;\n",
              "          element.appendChild(docLink);\n",
              "        }\n",
              "      </script>\n",
              "    </div>\n",
              "  </div>\n",
              "  "
            ]
          },
          "metadata": {},
          "execution_count": 236
        }
      ]
    },
    {
      "cell_type": "markdown",
      "source": [
        "This time, there are no null values."
      ],
      "metadata": {
        "id": "Fm3RcinhloNY"
      }
    },
    {
      "cell_type": "code",
      "source": [
        "hotel_ratings.info()"
      ],
      "metadata": {
        "colab": {
          "base_uri": "https://localhost:8080/",
          "height": 235
        },
        "id": "9KWyiXroQ9Tu",
        "outputId": "359bf158-d89b-4e73-8c3e-83dfc7cd212c"
      },
      "execution_count": null,
      "outputs": [
        {
          "output_type": "display_data",
          "data": {
            "text/plain": [
              "<IPython.core.display.HTML object>"
            ],
            "text/html": [
              "\n",
              "  <style>\n",
              "    pre {\n",
              "        white-space: pre-wrap;\n",
              "    }\n",
              "  </style>\n",
              "  "
            ]
          },
          "metadata": {}
        },
        {
          "output_type": "display_data",
          "data": {
            "text/plain": [
              "<IPython.core.display.HTML object>"
            ],
            "text/html": [
              "\n",
              "  <style>\n",
              "    pre {\n",
              "        white-space: pre-wrap;\n",
              "    }\n",
              "  </style>\n",
              "  "
            ]
          },
          "metadata": {}
        },
        {
          "output_type": "display_data",
          "data": {
            "text/plain": [
              "<IPython.core.display.HTML object>"
            ],
            "text/html": [
              "\n",
              "  <style>\n",
              "    pre {\n",
              "        white-space: pre-wrap;\n",
              "    }\n",
              "  </style>\n",
              "  "
            ]
          },
          "metadata": {}
        },
        {
          "output_type": "stream",
          "name": "stdout",
          "text": [
            "<class 'pandas.core.frame.DataFrame'>\n",
            "RangeIndex: 1433 entries, 0 to 1432\n",
            "Data columns (total 5 columns):\n",
            " #   Column       Non-Null Count  Dtype \n",
            "---  ------       --------------  ----- \n",
            " 0   Unnamed: 0   1433 non-null   int64 \n",
            " 1   review_body  1433 non-null   object\n",
            " 2   review_date  1433 non-null   object\n",
            " 3   hotelName    1433 non-null   object\n",
            " 4   hotelUrl     1433 non-null   object\n",
            "dtypes: int64(1), object(4)\n",
            "memory usage: 56.1+ KB\n"
          ]
        }
      ]
    },
    {
      "cell_type": "markdown",
      "source": [
        "Review body will be the most useful for content analysis."
      ],
      "metadata": {
        "id": "0HIzdFyomXyT"
      }
    },
    {
      "cell_type": "code",
      "source": [
        "hotel_ratings.review_body"
      ],
      "metadata": {
        "colab": {
          "base_uri": "https://localhost:8080/",
          "height": 235
        },
        "id": "M7JVCSrohyDI",
        "outputId": "b7b30862-35da-4075-87dc-ac84eab0a772"
      },
      "execution_count": null,
      "outputs": [
        {
          "output_type": "display_data",
          "data": {
            "text/plain": [
              "<IPython.core.display.HTML object>"
            ],
            "text/html": [
              "\n",
              "  <style>\n",
              "    pre {\n",
              "        white-space: pre-wrap;\n",
              "    }\n",
              "  </style>\n",
              "  "
            ]
          },
          "metadata": {}
        },
        {
          "output_type": "display_data",
          "data": {
            "text/plain": [
              "<IPython.core.display.HTML object>"
            ],
            "text/html": [
              "\n",
              "  <style>\n",
              "    pre {\n",
              "        white-space: pre-wrap;\n",
              "    }\n",
              "  </style>\n",
              "  "
            ]
          },
          "metadata": {}
        },
        {
          "output_type": "display_data",
          "data": {
            "text/plain": [
              "<IPython.core.display.HTML object>"
            ],
            "text/html": [
              "\n",
              "  <style>\n",
              "    pre {\n",
              "        white-space: pre-wrap;\n",
              "    }\n",
              "  </style>\n",
              "  "
            ]
          },
          "metadata": {}
        },
        {
          "output_type": "execute_result",
          "data": {
            "text/plain": [
              "0       It was a pleasure staying at this hotel. Excel...\n",
              "1       As everyone seems to agree, this is a wonderfu...\n",
              "2       Even the glowing reviews I had read did not pr...\n",
              "3       Beautiful hotel located in the heart of the ci...\n",
              "4       We had amazing service here! I’m planning anot...\n",
              "                              ...                        \n",
              "1428    The hotel is beautifully decorated and the sta...\n",
              "1429    We stayed in this hotel for five nights.the st...\n",
              "1430    This small boutique hotel offers a truly \"Turk...\n",
              "1431    The breakfast room is on the top floor with st...\n",
              "1432    We have had a wonderful stay at this lovely, f...\n",
              "Name: review_body, Length: 1433, dtype: object"
            ]
          },
          "metadata": {},
          "execution_count": 238
        }
      ]
    },
    {
      "cell_type": "markdown",
      "source": [
        "Review dates are less important, but can note that it spans from June 2015 to July 2019."
      ],
      "metadata": {
        "id": "TxZQ1GUxqNwo"
      }
    },
    {
      "cell_type": "code",
      "source": [
        "hotel_ratings.review_date"
      ],
      "metadata": {
        "colab": {
          "base_uri": "https://localhost:8080/",
          "height": 235
        },
        "id": "e_tVO30AmSpg",
        "outputId": "7196f007-4557-4983-ff96-0c387aed9cfa"
      },
      "execution_count": null,
      "outputs": [
        {
          "output_type": "display_data",
          "data": {
            "text/plain": [
              "<IPython.core.display.HTML object>"
            ],
            "text/html": [
              "\n",
              "  <style>\n",
              "    pre {\n",
              "        white-space: pre-wrap;\n",
              "    }\n",
              "  </style>\n",
              "  "
            ]
          },
          "metadata": {}
        },
        {
          "output_type": "display_data",
          "data": {
            "text/plain": [
              "<IPython.core.display.HTML object>"
            ],
            "text/html": [
              "\n",
              "  <style>\n",
              "    pre {\n",
              "        white-space: pre-wrap;\n",
              "    }\n",
              "  </style>\n",
              "  "
            ]
          },
          "metadata": {}
        },
        {
          "output_type": "display_data",
          "data": {
            "text/plain": [
              "<IPython.core.display.HTML object>"
            ],
            "text/html": [
              "\n",
              "  <style>\n",
              "    pre {\n",
              "        white-space: pre-wrap;\n",
              "    }\n",
              "  </style>\n",
              "  "
            ]
          },
          "metadata": {}
        },
        {
          "output_type": "execute_result",
          "data": {
            "text/plain": [
              "0         July 12, 2019\n",
              "1         July 10, 2019\n",
              "2         July 10, 2019\n",
              "3          July 9, 2019\n",
              "4          July 7, 2019\n",
              "             ...       \n",
              "1428    August 21, 2015\n",
              "1429    August 12, 2015\n",
              "1430     August 5, 2015\n",
              "1431      June 30, 2015\n",
              "1432      June 16, 2015\n",
              "Name: review_date, Length: 1433, dtype: object"
            ]
          },
          "metadata": {},
          "execution_count": 239
        }
      ]
    },
    {
      "cell_type": "markdown",
      "source": [
        "These names are formatted poorly. We will have to remove the bit with `\\n...` from each. The part appended is the same for all, so we can just remove the last 33 characters for each.\n",
        "\n",
        "I also realized it has an extra number before it, we have to remove that too."
      ],
      "metadata": {
        "id": "r7WR0Dgvmt68"
      }
    },
    {
      "cell_type": "code",
      "source": [
        "hotel_ratings.hotelName.value_counts()"
      ],
      "metadata": {
        "colab": {
          "base_uri": "https://localhost:8080/",
          "height": 563
        },
        "id": "CKUIX0QUlsjj",
        "outputId": "702d66cb-7054-4e9c-e035-301b31033975"
      },
      "execution_count": null,
      "outputs": [
        {
          "output_type": "display_data",
          "data": {
            "text/plain": [
              "<IPython.core.display.HTML object>"
            ],
            "text/html": [
              "\n",
              "  <style>\n",
              "    pre {\n",
              "        white-space: pre-wrap;\n",
              "    }\n",
              "  </style>\n",
              "  "
            ]
          },
          "metadata": {}
        },
        {
          "output_type": "display_data",
          "data": {
            "text/plain": [
              "<IPython.core.display.HTML object>"
            ],
            "text/html": [
              "\n",
              "  <style>\n",
              "    pre {\n",
              "        white-space: pre-wrap;\n",
              "    }\n",
              "  </style>\n",
              "  "
            ]
          },
          "metadata": {}
        },
        {
          "output_type": "display_data",
          "data": {
            "text/plain": [
              "<IPython.core.display.HTML object>"
            ],
            "text/html": [
              "\n",
              "  <style>\n",
              "    pre {\n",
              "        white-space: pre-wrap;\n",
              "    }\n",
              "  </style>\n",
              "  "
            ]
          },
          "metadata": {}
        },
        {
          "output_type": "execute_result",
          "data": {
            "text/plain": [
              "7    Taksim Ultra VIP Apartments\\nName: hotel_name, dtype: object                   63\n",
              "0    White House Hotel Istanbul\\nName: hotel_name, dtype: object                    54\n",
              "1    Crowne Plaza Istanbul - Florya\\nName: hotel_name, dtype: object                54\n",
              "28    Jazz Hotel\\nName: hotel_name, dtype: object                                   54\n",
              "27    Hotel Tulip House\\nName: hotel_name, dtype: object                            54\n",
              "25    Artefes Hotel Istanbul\\nName: hotel_name, dtype: object                       54\n",
              "24    Walton Hotels Galata\\nName: hotel_name, dtype: object                         54\n",
              "23    Radisson Blu Hotel & Spa - Istanbul Tuzla\\nName: hotel_name, dtype: object    54\n",
              "21    Bucoleon by Cheers\\nName: hotel_name, dtype: object                           54\n",
              "20    Sura Hagia Sophia Hotel\\nName: hotel_name, dtype: object                      54\n",
              "18    MySuite Istanbul Cihangir Square\\nName: hotel_name, dtype: object             54\n",
              "16    Hotel Next2\\nName: hotel_name, dtype: object                                  54\n",
              "15    Hotel Sultan Hill\\nName: hotel_name, dtype: object                            54\n",
              "12    Hotel Amira Istanbul\\nName: hotel_name, dtype: object                         54\n",
              "10    Bosphorus Palace Hotel\\nName: hotel_name, dtype: object                       54\n",
              "9    Dila Suites\\nName: hotel_name, dtype: object                                   54\n",
              "8    Elite World Business\\nName: hotel_name, dtype: object                          54\n",
              "5    Walnut Shell Hotel\\nName: hotel_name, dtype: object                            54\n",
              "3    Basileus Hotel\\nName: hotel_name, dtype: object                                54\n",
              "2    GLK PREMIER Sea Mansion Suites & Spa\\nName: hotel_name, dtype: object          54\n",
              "29    Hotel Valide Sultan Konagi\\nName: hotel_name, dtype: object                   54\n",
              "14    Lotus Hotel Istanbul\\nName: hotel_name, dtype: object                         50\n",
              "4    Baylosuites\\nName: hotel_name, dtype: object                                   49\n",
              "17    Cube Suites\\nName: hotel_name, dtype: object                                  48\n",
              "13    Downtown Istanbul\\nName: hotel_name, dtype: object                            40\n",
              "6    Has Han Galata\\nName: hotel_name, dtype: object                                37\n",
              "22    Arven Boutique Hotel\\nName: hotel_name, dtype: object                         35\n",
              "26    Robin's Nest\\nName: hotel_name, dtype: object                                 26\n",
              "19    Agva Riverangel Hotel\\nName: hotel_name, dtype: object                         5\n",
              "Name: hotelName, dtype: int64"
            ]
          },
          "metadata": {},
          "execution_count": 240
        }
      ]
    },
    {
      "cell_type": "markdown",
      "source": [
        "They are all good now:"
      ],
      "metadata": {
        "id": "AbqORhitomWB"
      }
    },
    {
      "cell_type": "code",
      "source": [
        "hotel_ratings1 = hotel_ratings.copy()\n",
        "hotel_ratings1.hotelName = hotel_ratings1.hotelName.apply(lambda name : name[:-32])\n",
        "hotel_ratings1.hotelName = hotel_ratings1.hotelName.apply(lambda name : ' '.join(name.split()[1:]))\n",
        "hotel_ratings1.hotelName.unique()"
      ],
      "metadata": {
        "colab": {
          "base_uri": "https://localhost:8080/",
          "height": 253
        },
        "id": "JYbk62hPm2JW",
        "outputId": "185271d1-5f4e-4943-aedc-476f647850bb"
      },
      "execution_count": null,
      "outputs": [
        {
          "output_type": "display_data",
          "data": {
            "text/plain": [
              "<IPython.core.display.HTML object>"
            ],
            "text/html": [
              "\n",
              "  <style>\n",
              "    pre {\n",
              "        white-space: pre-wrap;\n",
              "    }\n",
              "  </style>\n",
              "  "
            ]
          },
          "metadata": {}
        },
        {
          "output_type": "display_data",
          "data": {
            "text/plain": [
              "<IPython.core.display.HTML object>"
            ],
            "text/html": [
              "\n",
              "  <style>\n",
              "    pre {\n",
              "        white-space: pre-wrap;\n",
              "    }\n",
              "  </style>\n",
              "  "
            ]
          },
          "metadata": {}
        },
        {
          "output_type": "display_data",
          "data": {
            "text/plain": [
              "<IPython.core.display.HTML object>"
            ],
            "text/html": [
              "\n",
              "  <style>\n",
              "    pre {\n",
              "        white-space: pre-wrap;\n",
              "    }\n",
              "  </style>\n",
              "  "
            ]
          },
          "metadata": {}
        },
        {
          "output_type": "execute_result",
          "data": {
            "text/plain": [
              "array(['White House Hotel Istanbul', 'Crowne Plaza Istanbul - Florya',\n",
              "       'GLK PREMIER Sea Mansion Suites & Spa', 'Basileus Hotel',\n",
              "       'Baylosuites', 'Walnut Shell Hotel', 'Has Han Galata',\n",
              "       'Taksim Ultra VIP Apartments', 'Elite World Business',\n",
              "       'Dila Suites', 'Bosphorus Palace Hotel', 'Hotel Amira Istanbul',\n",
              "       'Downtown Istanbul', 'Lotus Hotel Istanbul', 'Hotel Sultan Hill',\n",
              "       'Hotel Next2', 'Cube Suites', 'MySuite Istanbul Cihangir Square',\n",
              "       'Agva Riverangel Hotel', 'Sura Hagia Sophia Hotel',\n",
              "       'Bucoleon by Cheers', 'Arven Boutique Hotel',\n",
              "       'Radisson Blu Hotel & Spa - Istanbul Tuzla',\n",
              "       'Walton Hotels Galata', 'Artefes Hotel Istanbul', \"Robin's Nest\",\n",
              "       'Hotel Tulip House', 'Jazz Hotel', 'Hotel Valide Sultan Konagi'],\n",
              "      dtype=object)"
            ]
          },
          "metadata": {},
          "execution_count": 241
        }
      ]
    },
    {
      "cell_type": "markdown",
      "source": [
        "Except there is one which has no ratings. Without data, it won't be able to be clustered or a result in search later. Because of this, we don't really have to handle it."
      ],
      "metadata": {
        "id": "y-Lp3tNy1do9"
      }
    },
    {
      "cell_type": "code",
      "source": [
        "hotel_ratings1.hotelName.unique().shape"
      ],
      "metadata": {
        "colab": {
          "base_uri": "https://localhost:8080/",
          "height": 35
        },
        "id": "eaw506ac1E-V",
        "outputId": "31a0737e-a4bb-40fc-aa7d-9266a05aadc2"
      },
      "execution_count": null,
      "outputs": [
        {
          "output_type": "display_data",
          "data": {
            "text/plain": [
              "<IPython.core.display.HTML object>"
            ],
            "text/html": [
              "\n",
              "  <style>\n",
              "    pre {\n",
              "        white-space: pre-wrap;\n",
              "    }\n",
              "  </style>\n",
              "  "
            ]
          },
          "metadata": {}
        },
        {
          "output_type": "display_data",
          "data": {
            "text/plain": [
              "<IPython.core.display.HTML object>"
            ],
            "text/html": [
              "\n",
              "  <style>\n",
              "    pre {\n",
              "        white-space: pre-wrap;\n",
              "    }\n",
              "  </style>\n",
              "  "
            ]
          },
          "metadata": {}
        },
        {
          "output_type": "display_data",
          "data": {
            "text/plain": [
              "<IPython.core.display.HTML object>"
            ],
            "text/html": [
              "\n",
              "  <style>\n",
              "    pre {\n",
              "        white-space: pre-wrap;\n",
              "    }\n",
              "  </style>\n",
              "  "
            ]
          },
          "metadata": {}
        },
        {
          "output_type": "execute_result",
          "data": {
            "text/plain": [
              "(29,)"
            ]
          },
          "metadata": {},
          "execution_count": 242
        }
      ]
    },
    {
      "cell_type": "markdown",
      "source": [
        "Drop these columns because they don't add much useful content."
      ],
      "metadata": {
        "id": "c-7cVrL_poJa"
      }
    },
    {
      "cell_type": "code",
      "source": [
        "to_drop = ['hotelUrl', 'review_date', 'Unnamed: 0']\n",
        "hotel_ratings2 = hotel_ratings1.drop(to_drop, axis='columns')\n",
        "hotel_ratings2.head()"
      ],
      "metadata": {
        "colab": {
          "base_uri": "https://localhost:8080/",
          "height": 206
        },
        "id": "vki09GEumfSA",
        "outputId": "0958549f-c1cf-4c1f-9ab9-a9ea9ec9b216"
      },
      "execution_count": null,
      "outputs": [
        {
          "output_type": "display_data",
          "data": {
            "text/plain": [
              "<IPython.core.display.HTML object>"
            ],
            "text/html": [
              "\n",
              "  <style>\n",
              "    pre {\n",
              "        white-space: pre-wrap;\n",
              "    }\n",
              "  </style>\n",
              "  "
            ]
          },
          "metadata": {}
        },
        {
          "output_type": "display_data",
          "data": {
            "text/plain": [
              "<IPython.core.display.HTML object>"
            ],
            "text/html": [
              "\n",
              "  <style>\n",
              "    pre {\n",
              "        white-space: pre-wrap;\n",
              "    }\n",
              "  </style>\n",
              "  "
            ]
          },
          "metadata": {}
        },
        {
          "output_type": "display_data",
          "data": {
            "text/plain": [
              "<IPython.core.display.HTML object>"
            ],
            "text/html": [
              "\n",
              "  <style>\n",
              "    pre {\n",
              "        white-space: pre-wrap;\n",
              "    }\n",
              "  </style>\n",
              "  "
            ]
          },
          "metadata": {}
        },
        {
          "output_type": "execute_result",
          "data": {
            "text/plain": [
              "                                         review_body  \\\n",
              "0  It was a pleasure staying at this hotel. Excel...   \n",
              "1  As everyone seems to agree, this is a wonderfu...   \n",
              "2  Even the glowing reviews I had read did not pr...   \n",
              "3  Beautiful hotel located in the heart of the ci...   \n",
              "4  We had amazing service here! I’m planning anot...   \n",
              "\n",
              "                    hotelName  \n",
              "0  White House Hotel Istanbul  \n",
              "1  White House Hotel Istanbul  \n",
              "2  White House Hotel Istanbul  \n",
              "3  White House Hotel Istanbul  \n",
              "4  White House Hotel Istanbul  "
            ],
            "text/html": [
              "\n",
              "  <div id=\"df-3cd81bb0-e612-40a6-b48c-da4cec8e3d68\">\n",
              "    <div class=\"colab-df-container\">\n",
              "      <div>\n",
              "<style scoped>\n",
              "    .dataframe tbody tr th:only-of-type {\n",
              "        vertical-align: middle;\n",
              "    }\n",
              "\n",
              "    .dataframe tbody tr th {\n",
              "        vertical-align: top;\n",
              "    }\n",
              "\n",
              "    .dataframe thead th {\n",
              "        text-align: right;\n",
              "    }\n",
              "</style>\n",
              "<table border=\"1\" class=\"dataframe\">\n",
              "  <thead>\n",
              "    <tr style=\"text-align: right;\">\n",
              "      <th></th>\n",
              "      <th>review_body</th>\n",
              "      <th>hotelName</th>\n",
              "    </tr>\n",
              "  </thead>\n",
              "  <tbody>\n",
              "    <tr>\n",
              "      <th>0</th>\n",
              "      <td>It was a pleasure staying at this hotel. Excel...</td>\n",
              "      <td>White House Hotel Istanbul</td>\n",
              "    </tr>\n",
              "    <tr>\n",
              "      <th>1</th>\n",
              "      <td>As everyone seems to agree, this is a wonderfu...</td>\n",
              "      <td>White House Hotel Istanbul</td>\n",
              "    </tr>\n",
              "    <tr>\n",
              "      <th>2</th>\n",
              "      <td>Even the glowing reviews I had read did not pr...</td>\n",
              "      <td>White House Hotel Istanbul</td>\n",
              "    </tr>\n",
              "    <tr>\n",
              "      <th>3</th>\n",
              "      <td>Beautiful hotel located in the heart of the ci...</td>\n",
              "      <td>White House Hotel Istanbul</td>\n",
              "    </tr>\n",
              "    <tr>\n",
              "      <th>4</th>\n",
              "      <td>We had amazing service here! I’m planning anot...</td>\n",
              "      <td>White House Hotel Istanbul</td>\n",
              "    </tr>\n",
              "  </tbody>\n",
              "</table>\n",
              "</div>\n",
              "      <button class=\"colab-df-convert\" onclick=\"convertToInteractive('df-3cd81bb0-e612-40a6-b48c-da4cec8e3d68')\"\n",
              "              title=\"Convert this dataframe to an interactive table.\"\n",
              "              style=\"display:none;\">\n",
              "        \n",
              "  <svg xmlns=\"http://www.w3.org/2000/svg\" height=\"24px\"viewBox=\"0 0 24 24\"\n",
              "       width=\"24px\">\n",
              "    <path d=\"M0 0h24v24H0V0z\" fill=\"none\"/>\n",
              "    <path d=\"M18.56 5.44l.94 2.06.94-2.06 2.06-.94-2.06-.94-.94-2.06-.94 2.06-2.06.94zm-11 1L8.5 8.5l.94-2.06 2.06-.94-2.06-.94L8.5 2.5l-.94 2.06-2.06.94zm10 10l.94 2.06.94-2.06 2.06-.94-2.06-.94-.94-2.06-.94 2.06-2.06.94z\"/><path d=\"M17.41 7.96l-1.37-1.37c-.4-.4-.92-.59-1.43-.59-.52 0-1.04.2-1.43.59L10.3 9.45l-7.72 7.72c-.78.78-.78 2.05 0 2.83L4 21.41c.39.39.9.59 1.41.59.51 0 1.02-.2 1.41-.59l7.78-7.78 2.81-2.81c.8-.78.8-2.07 0-2.86zM5.41 20L4 18.59l7.72-7.72 1.47 1.35L5.41 20z\"/>\n",
              "  </svg>\n",
              "      </button>\n",
              "      \n",
              "  <style>\n",
              "    .colab-df-container {\n",
              "      display:flex;\n",
              "      flex-wrap:wrap;\n",
              "      gap: 12px;\n",
              "    }\n",
              "\n",
              "    .colab-df-convert {\n",
              "      background-color: #E8F0FE;\n",
              "      border: none;\n",
              "      border-radius: 50%;\n",
              "      cursor: pointer;\n",
              "      display: none;\n",
              "      fill: #1967D2;\n",
              "      height: 32px;\n",
              "      padding: 0 0 0 0;\n",
              "      width: 32px;\n",
              "    }\n",
              "\n",
              "    .colab-df-convert:hover {\n",
              "      background-color: #E2EBFA;\n",
              "      box-shadow: 0px 1px 2px rgba(60, 64, 67, 0.3), 0px 1px 3px 1px rgba(60, 64, 67, 0.15);\n",
              "      fill: #174EA6;\n",
              "    }\n",
              "\n",
              "    [theme=dark] .colab-df-convert {\n",
              "      background-color: #3B4455;\n",
              "      fill: #D2E3FC;\n",
              "    }\n",
              "\n",
              "    [theme=dark] .colab-df-convert:hover {\n",
              "      background-color: #434B5C;\n",
              "      box-shadow: 0px 1px 3px 1px rgba(0, 0, 0, 0.15);\n",
              "      filter: drop-shadow(0px 1px 2px rgba(0, 0, 0, 0.3));\n",
              "      fill: #FFFFFF;\n",
              "    }\n",
              "  </style>\n",
              "\n",
              "      <script>\n",
              "        const buttonEl =\n",
              "          document.querySelector('#df-3cd81bb0-e612-40a6-b48c-da4cec8e3d68 button.colab-df-convert');\n",
              "        buttonEl.style.display =\n",
              "          google.colab.kernel.accessAllowed ? 'block' : 'none';\n",
              "\n",
              "        async function convertToInteractive(key) {\n",
              "          const element = document.querySelector('#df-3cd81bb0-e612-40a6-b48c-da4cec8e3d68');\n",
              "          const dataTable =\n",
              "            await google.colab.kernel.invokeFunction('convertToInteractive',\n",
              "                                                     [key], {});\n",
              "          if (!dataTable) return;\n",
              "\n",
              "          const docLinkHtml = 'Like what you see? Visit the ' +\n",
              "            '<a target=\"_blank\" href=https://colab.research.google.com/notebooks/data_table.ipynb>data table notebook</a>'\n",
              "            + ' to learn more about interactive tables.';\n",
              "          element.innerHTML = '';\n",
              "          dataTable['output_type'] = 'display_data';\n",
              "          await google.colab.output.renderOutput(dataTable, element);\n",
              "          const docLink = document.createElement('div');\n",
              "          docLink.innerHTML = docLinkHtml;\n",
              "          element.appendChild(docLink);\n",
              "        }\n",
              "      </script>\n",
              "    </div>\n",
              "  </div>\n",
              "  "
            ]
          },
          "metadata": {},
          "execution_count": 243
        }
      ]
    },
    {
      "cell_type": "markdown",
      "source": [
        "Quickly visualize at the remaining data:\n",
        "- Review length skews right, so most are below 200 words.\n",
        "- The spread of reviews per hotel is pretty much even except for `Agva Riveragnel Hotel` which only has a few."
      ],
      "metadata": {
        "id": "wejCzl6Yqzgw"
      }
    },
    {
      "cell_type": "code",
      "source": [
        "hotel_ratings2.review_body.apply(lambda x : len(x.split())).hist(bins=40, figsize=(10, 7))"
      ],
      "metadata": {
        "colab": {
          "base_uri": "https://localhost:8080/",
          "height": 446
        },
        "id": "qduApzxRrio_",
        "outputId": "3e074360-1311-4c82-e327-d4113be1cbee"
      },
      "execution_count": null,
      "outputs": [
        {
          "output_type": "display_data",
          "data": {
            "text/plain": [
              "<IPython.core.display.HTML object>"
            ],
            "text/html": [
              "\n",
              "  <style>\n",
              "    pre {\n",
              "        white-space: pre-wrap;\n",
              "    }\n",
              "  </style>\n",
              "  "
            ]
          },
          "metadata": {}
        },
        {
          "output_type": "display_data",
          "data": {
            "text/plain": [
              "<IPython.core.display.HTML object>"
            ],
            "text/html": [
              "\n",
              "  <style>\n",
              "    pre {\n",
              "        white-space: pre-wrap;\n",
              "    }\n",
              "  </style>\n",
              "  "
            ]
          },
          "metadata": {}
        },
        {
          "output_type": "display_data",
          "data": {
            "text/plain": [
              "<IPython.core.display.HTML object>"
            ],
            "text/html": [
              "\n",
              "  <style>\n",
              "    pre {\n",
              "        white-space: pre-wrap;\n",
              "    }\n",
              "  </style>\n",
              "  "
            ]
          },
          "metadata": {}
        },
        {
          "output_type": "execute_result",
          "data": {
            "text/plain": [
              "<Axes: >"
            ]
          },
          "metadata": {},
          "execution_count": 244
        },
        {
          "output_type": "display_data",
          "data": {
            "text/plain": [
              "<Figure size 720x504 with 1 Axes>"
            ],
            "image/png": "[encoded data removed]"
          },
          "metadata": {
            "needs_background": "light"
          }
        }
      ]
    },
    {
      "cell_type": "markdown",
      "source": [
        "Most hotels have 40-60 reviews. Just one has less than 10."
      ],
      "metadata": {
        "id": "CHaWm7_Qs5XH"
      }
    },
    {
      "cell_type": "code",
      "source": [
        "hn_counts = hotel_ratings2.hotelName.value_counts()\n",
        "hn_labels = hotel_ratings2.hotelName.value_counts().keys()\n",
        "hn_counts.hist(bins=10, figsize=(10, 7))"
      ],
      "metadata": {
        "colab": {
          "base_uri": "https://localhost:8080/",
          "height": 446
        },
        "id": "biVkE197qyxn",
        "outputId": "c9fa0b06-c1c4-424f-d1f0-01e51b956882"
      },
      "execution_count": null,
      "outputs": [
        {
          "output_type": "display_data",
          "data": {
            "text/plain": [
              "<IPython.core.display.HTML object>"
            ],
            "text/html": [
              "\n",
              "  <style>\n",
              "    pre {\n",
              "        white-space: pre-wrap;\n",
              "    }\n",
              "  </style>\n",
              "  "
            ]
          },
          "metadata": {}
        },
        {
          "output_type": "display_data",
          "data": {
            "text/plain": [
              "<IPython.core.display.HTML object>"
            ],
            "text/html": [
              "\n",
              "  <style>\n",
              "    pre {\n",
              "        white-space: pre-wrap;\n",
              "    }\n",
              "  </style>\n",
              "  "
            ]
          },
          "metadata": {}
        },
        {
          "output_type": "display_data",
          "data": {
            "text/plain": [
              "<IPython.core.display.HTML object>"
            ],
            "text/html": [
              "\n",
              "  <style>\n",
              "    pre {\n",
              "        white-space: pre-wrap;\n",
              "    }\n",
              "  </style>\n",
              "  "
            ]
          },
          "metadata": {}
        },
        {
          "output_type": "execute_result",
          "data": {
            "text/plain": [
              "<Axes: >"
            ]
          },
          "metadata": {},
          "execution_count": 245
        },
        {
          "output_type": "display_data",
          "data": {
            "text/plain": [
              "<Figure size 720x504 with 1 Axes>"
            ],
            "image/png": "[encoded data removed]"
          },
          "metadata": {
            "needs_background": "light"
          }
        }
      ]
    },
    {
      "cell_type": "markdown",
      "source": [
        "The hotel with less than 10 ratings is Agva Riveragnel Hotel. It might be useful to remember this for when we do analysis on content, because this hotel will have fewer words to work with."
      ],
      "metadata": {
        "id": "Yp9la6fUtrlY"
      }
    },
    {
      "cell_type": "code",
      "source": [
        "print(hn_labels[-1], ':', hn_counts[-1])"
      ],
      "metadata": {
        "colab": {
          "base_uri": "https://localhost:8080/",
          "height": 35
        },
        "id": "qDmGYyvYs-pn",
        "outputId": "543a1c3f-92d2-4e2f-93ec-118996e219a5"
      },
      "execution_count": null,
      "outputs": [
        {
          "output_type": "display_data",
          "data": {
            "text/plain": [
              "<IPython.core.display.HTML object>"
            ],
            "text/html": [
              "\n",
              "  <style>\n",
              "    pre {\n",
              "        white-space: pre-wrap;\n",
              "    }\n",
              "  </style>\n",
              "  "
            ]
          },
          "metadata": {}
        },
        {
          "output_type": "display_data",
          "data": {
            "text/plain": [
              "<IPython.core.display.HTML object>"
            ],
            "text/html": [
              "\n",
              "  <style>\n",
              "    pre {\n",
              "        white-space: pre-wrap;\n",
              "    }\n",
              "  </style>\n",
              "  "
            ]
          },
          "metadata": {}
        },
        {
          "output_type": "display_data",
          "data": {
            "text/plain": [
              "<IPython.core.display.HTML object>"
            ],
            "text/html": [
              "\n",
              "  <style>\n",
              "    pre {\n",
              "        white-space: pre-wrap;\n",
              "    }\n",
              "  </style>\n",
              "  "
            ]
          },
          "metadata": {}
        },
        {
          "output_type": "stream",
          "name": "stdout",
          "text": [
            "Agva Riverangel Hotel : 5\n"
          ]
        }
      ]
    },
    {
      "cell_type": "markdown",
      "source": [
        "## Clustering\n",
        "1. Create bag of words for each hotel\n",
        "2. Make clusters of hotels (topic modeling)\n",
        "3. Visualize clusters"
      ],
      "metadata": {
        "id": "mfNFxG51wNmd"
      }
    },
    {
      "cell_type": "markdown",
      "source": [
        "### Making bag of words"
      ],
      "metadata": {
        "id": "AoigcCx1wWRY"
      }
    },
    {
      "cell_type": "markdown",
      "source": [
        "First, I'm making a new dataframe which only contains the name of each hotel and a column to store all 'words' for it.\n"
      ],
      "metadata": {
        "id": "2xH2k_j0wz3R"
      }
    },
    {
      "cell_type": "code",
      "source": [
        "hotel_bagofwords = pd.DataFrame()\n",
        "hotel_bagofwords['hotel_name'] = hotel_listings1.hotel_name\n",
        "hotel_bagofwords['words'] = ''\n",
        "hotel_bagofwords.set_index('hotel_name', inplace=True)\n",
        "hotel_bagofwords.head()"
      ],
      "metadata": {
        "colab": {
          "base_uri": "https://localhost:8080/",
          "height": 237
        },
        "id": "86FF-IAHfR2x",
        "outputId": "1343362c-ab72-4b22-8c45-6a5eb6c3ae3c"
      },
      "execution_count": null,
      "outputs": [
        {
          "output_type": "display_data",
          "data": {
            "text/plain": [
              "<IPython.core.display.HTML object>"
            ],
            "text/html": [
              "\n",
              "  <style>\n",
              "    pre {\n",
              "        white-space: pre-wrap;\n",
              "    }\n",
              "  </style>\n",
              "  "
            ]
          },
          "metadata": {}
        },
        {
          "output_type": "display_data",
          "data": {
            "text/plain": [
              "<IPython.core.display.HTML object>"
            ],
            "text/html": [
              "\n",
              "  <style>\n",
              "    pre {\n",
              "        white-space: pre-wrap;\n",
              "    }\n",
              "  </style>\n",
              "  "
            ]
          },
          "metadata": {}
        },
        {
          "output_type": "display_data",
          "data": {
            "text/plain": [
              "<IPython.core.display.HTML object>"
            ],
            "text/html": [
              "\n",
              "  <style>\n",
              "    pre {\n",
              "        white-space: pre-wrap;\n",
              "    }\n",
              "  </style>\n",
              "  "
            ]
          },
          "metadata": {}
        },
        {
          "output_type": "execute_result",
          "data": {
            "text/plain": [
              "                                     words\n",
              "hotel_name                                \n",
              "White House Hotel Istanbul                \n",
              "Crowne Plaza Istanbul - Florya            \n",
              "GLK PREMIER Sea Mansion Suites & Spa      \n",
              "Basileus Hotel                            \n",
              "Baylosuites                               "
            ],
            "text/html": [
              "\n",
              "  <div id=\"df-593cccf9-15fd-458f-96e6-251f3656f52e\">\n",
              "    <div class=\"colab-df-container\">\n",
              "      <div>\n",
              "<style scoped>\n",
              "    .dataframe tbody tr th:only-of-type {\n",
              "        vertical-align: middle;\n",
              "    }\n",
              "\n",
              "    .dataframe tbody tr th {\n",
              "        vertical-align: top;\n",
              "    }\n",
              "\n",
              "    .dataframe thead th {\n",
              "        text-align: right;\n",
              "    }\n",
              "</style>\n",
              "<table border=\"1\" class=\"dataframe\">\n",
              "  <thead>\n",
              "    <tr style=\"text-align: right;\">\n",
              "      <th></th>\n",
              "      <th>words</th>\n",
              "    </tr>\n",
              "    <tr>\n",
              "      <th>hotel_name</th>\n",
              "      <th></th>\n",
              "    </tr>\n",
              "  </thead>\n",
              "  <tbody>\n",
              "    <tr>\n",
              "      <th>White House Hotel Istanbul</th>\n",
              "      <td></td>\n",
              "    </tr>\n",
              "    <tr>\n",
              "      <th>Crowne Plaza Istanbul - Florya</th>\n",
              "      <td></td>\n",
              "    </tr>\n",
              "    <tr>\n",
              "      <th>GLK PREMIER Sea Mansion Suites &amp; Spa</th>\n",
              "      <td></td>\n",
              "    </tr>\n",
              "    <tr>\n",
              "      <th>Basileus Hotel</th>\n",
              "      <td></td>\n",
              "    </tr>\n",
              "    <tr>\n",
              "      <th>Baylosuites</th>\n",
              "      <td></td>\n",
              "    </tr>\n",
              "  </tbody>\n",
              "</table>\n",
              "</div>\n",
              "      <button class=\"colab-df-convert\" onclick=\"convertToInteractive('df-593cccf9-15fd-458f-96e6-251f3656f52e')\"\n",
              "              title=\"Convert this dataframe to an interactive table.\"\n",
              "              style=\"display:none;\">\n",
              "        \n",
              "  <svg xmlns=\"http://www.w3.org/2000/svg\" height=\"24px\"viewBox=\"0 0 24 24\"\n",
              "       width=\"24px\">\n",
              "    <path d=\"M0 0h24v24H0V0z\" fill=\"none\"/>\n",
              "    <path d=\"M18.56 5.44l.94 2.06.94-2.06 2.06-.94-2.06-.94-.94-2.06-.94 2.06-2.06.94zm-11 1L8.5 8.5l.94-2.06 2.06-.94-2.06-.94L8.5 2.5l-.94 2.06-2.06.94zm10 10l.94 2.06.94-2.06 2.06-.94-2.06-.94-.94-2.06-.94 2.06-2.06.94z\"/><path d=\"M17.41 7.96l-1.37-1.37c-.4-.4-.92-.59-1.43-.59-.52 0-1.04.2-1.43.59L10.3 9.45l-7.72 7.72c-.78.78-.78 2.05 0 2.83L4 21.41c.39.39.9.59 1.41.59.51 0 1.02-.2 1.41-.59l7.78-7.78 2.81-2.81c.8-.78.8-2.07 0-2.86zM5.41 20L4 18.59l7.72-7.72 1.47 1.35L5.41 20z\"/>\n",
              "  </svg>\n",
              "      </button>\n",
              "      \n",
              "  <style>\n",
              "    .colab-df-container {\n",
              "      display:flex;\n",
              "      flex-wrap:wrap;\n",
              "      gap: 12px;\n",
              "    }\n",
              "\n",
              "    .colab-df-convert {\n",
              "      background-color: #E8F0FE;\n",
              "      border: none;\n",
              "      border-radius: 50%;\n",
              "      cursor: pointer;\n",
              "      display: none;\n",
              "      fill: #1967D2;\n",
              "      height: 32px;\n",
              "      padding: 0 0 0 0;\n",
              "      width: 32px;\n",
              "    }\n",
              "\n",
              "    .colab-df-convert:hover {\n",
              "      background-color: #E2EBFA;\n",
              "      box-shadow: 0px 1px 2px rgba(60, 64, 67, 0.3), 0px 1px 3px 1px rgba(60, 64, 67, 0.15);\n",
              "      fill: #174EA6;\n",
              "    }\n",
              "\n",
              "    [theme=dark] .colab-df-convert {\n",
              "      background-color: #3B4455;\n",
              "      fill: #D2E3FC;\n",
              "    }\n",
              "\n",
              "    [theme=dark] .colab-df-convert:hover {\n",
              "      background-color: #434B5C;\n",
              "      box-shadow: 0px 1px 3px 1px rgba(0, 0, 0, 0.15);\n",
              "      filter: drop-shadow(0px 1px 2px rgba(0, 0, 0, 0.3));\n",
              "      fill: #FFFFFF;\n",
              "    }\n",
              "  </style>\n",
              "\n",
              "      <script>\n",
              "        const buttonEl =\n",
              "          document.querySelector('#df-593cccf9-15fd-458f-96e6-251f3656f52e button.colab-df-convert');\n",
              "        buttonEl.style.display =\n",
              "          google.colab.kernel.accessAllowed ? 'block' : 'none';\n",
              "\n",
              "        async function convertToInteractive(key) {\n",
              "          const element = document.querySelector('#df-593cccf9-15fd-458f-96e6-251f3656f52e');\n",
              "          const dataTable =\n",
              "            await google.colab.kernel.invokeFunction('convertToInteractive',\n",
              "                                                     [key], {});\n",
              "          if (!dataTable) return;\n",
              "\n",
              "          const docLinkHtml = 'Like what you see? Visit the ' +\n",
              "            '<a target=\"_blank\" href=https://colab.research.google.com/notebooks/data_table.ipynb>data table notebook</a>'\n",
              "            + ' to learn more about interactive tables.';\n",
              "          element.innerHTML = '';\n",
              "          dataTable['output_type'] = 'display_data';\n",
              "          await google.colab.output.renderOutput(dataTable, element);\n",
              "          const docLink = document.createElement('div');\n",
              "          docLink.innerHTML = docLinkHtml;\n",
              "          element.appendChild(docLink);\n",
              "        }\n",
              "      </script>\n",
              "    </div>\n",
              "  </div>\n",
              "  "
            ]
          },
          "metadata": {},
          "execution_count": 247
        }
      ]
    },
    {
      "cell_type": "markdown",
      "source": [
        "Next, go through all reviews and create a string containing all the words in reviews for each hotel."
      ],
      "metadata": {
        "id": "Kg2ChCYhicvB"
      }
    },
    {
      "cell_type": "code",
      "source": [
        "for i, row in hotel_ratings2.iterrows():\n",
        "  awords = hotel_bagofwords.loc[row.hotelName].words\n",
        "  awords += ' '\n",
        "  awords += row.review_body\n",
        "  hotel_bagofwords.loc[row.hotelName, 'words'] = awords"
      ],
      "metadata": {
        "id": "1eKUwFqAicaU",
        "colab": {
          "base_uri": "https://localhost:8080/",
          "height": 17
        },
        "outputId": "946a63cd-11c5-4e54-bf4c-f1edb6980913"
      },
      "execution_count": null,
      "outputs": [
        {
          "output_type": "display_data",
          "data": {
            "text/plain": [
              "<IPython.core.display.HTML object>"
            ],
            "text/html": [
              "\n",
              "  <style>\n",
              "    pre {\n",
              "        white-space: pre-wrap;\n",
              "    }\n",
              "  </style>\n",
              "  "
            ]
          },
          "metadata": {}
        },
        {
          "output_type": "display_data",
          "data": {
            "text/plain": [
              "<IPython.core.display.HTML object>"
            ],
            "text/html": [
              "\n",
              "  <style>\n",
              "    pre {\n",
              "        white-space: pre-wrap;\n",
              "    }\n",
              "  </style>\n",
              "  "
            ]
          },
          "metadata": {}
        },
        {
          "output_type": "display_data",
          "data": {
            "text/plain": [
              "<IPython.core.display.HTML object>"
            ],
            "text/html": [
              "\n",
              "  <style>\n",
              "    pre {\n",
              "        white-space: pre-wrap;\n",
              "    }\n",
              "  </style>\n",
              "  "
            ]
          },
          "metadata": {}
        }
      ]
    },
    {
      "cell_type": "code",
      "source": [
        "hotel_bagofwords.loc['Baylosuites'].words[:100]"
      ],
      "metadata": {
        "colab": {
          "base_uri": "https://localhost:8080/",
          "height": 36
        },
        "id": "2DzRk-WVk5p_",
        "outputId": "64766bf8-5491-49d1-f19b-ff47925d0ed8"
      },
      "execution_count": null,
      "outputs": [
        {
          "output_type": "display_data",
          "data": {
            "text/plain": [
              "<IPython.core.display.HTML object>"
            ],
            "text/html": [
              "\n",
              "  <style>\n",
              "    pre {\n",
              "        white-space: pre-wrap;\n",
              "    }\n",
              "  </style>\n",
              "  "
            ]
          },
          "metadata": {}
        },
        {
          "output_type": "display_data",
          "data": {
            "text/plain": [
              "<IPython.core.display.HTML object>"
            ],
            "text/html": [
              "\n",
              "  <style>\n",
              "    pre {\n",
              "        white-space: pre-wrap;\n",
              "    }\n",
              "  </style>\n",
              "  "
            ]
          },
          "metadata": {}
        },
        {
          "output_type": "display_data",
          "data": {
            "text/plain": [
              "<IPython.core.display.HTML object>"
            ],
            "text/html": [
              "\n",
              "  <style>\n",
              "    pre {\n",
              "        white-space: pre-wrap;\n",
              "    }\n",
              "  </style>\n",
              "  "
            ]
          },
          "metadata": {}
        },
        {
          "output_type": "execute_result",
          "data": {
            "text/plain": [
              "' Baylosuites was a great location. Walking distant- 10 minutes from the Karakoy tram station. 2 minu'"
            ],
            "application/vnd.google.colaboratory.intrinsic+json": {
              "type": "string"
            }
          },
          "metadata": {},
          "execution_count": 249
        }
      ]
    },
    {
      "cell_type": "markdown",
      "source": [
        "Some further preprocessing is needed, such as applying lowercase, removing punctuation, and turning into a list. Compare the sample from Baylosuites above to the one below."
      ],
      "metadata": {
        "id": "81knbSh2lcrs"
      }
    },
    {
      "cell_type": "code",
      "source": [
        "hotel_bagofwords1 = hotel_bagofwords.copy()\n",
        "\n",
        "# lowercase\n",
        "hotel_bagofwords1.words = hotel_bagofwords.words.apply(lambda ws : ws.lower())\n",
        "\n",
        "# replace [this/that this-that this.that this,that this!that this?that] -> this that\n",
        "hotel_bagofwords1.words = hotel_bagofwords1.words.apply(lambda ws : ws.replace('/',' ')\n",
        ".replace(',',' ').replace('.',' ').replace('-',' ').replace('?',' ').replace('!',' '))\n",
        "\n",
        "# remove all other non alphabetic characters\n",
        "regex = re.compile('[^a-zA-Z ]')\n",
        "hotel_bagofwords1.words = hotel_bagofwords1.words.apply(lambda ws : regex.sub('', ws))\n",
        "\n",
        "# turn into list (also handles whitespace)\n",
        "hotel_bagofwords1.words = hotel_bagofwords1.words.apply(lambda ws : ws.split())\n",
        "hotel_bagofwords1.loc['Baylosuites'].words[:15]"
      ],
      "metadata": {
        "colab": {
          "base_uri": "https://localhost:8080/",
          "height": 290
        },
        "id": "AGP6OLfDlw94",
        "outputId": "bbac79cf-c8fd-413f-edf2-8c4afd8af645"
      },
      "execution_count": null,
      "outputs": [
        {
          "output_type": "display_data",
          "data": {
            "text/plain": [
              "<IPython.core.display.HTML object>"
            ],
            "text/html": [
              "\n",
              "  <style>\n",
              "    pre {\n",
              "        white-space: pre-wrap;\n",
              "    }\n",
              "  </style>\n",
              "  "
            ]
          },
          "metadata": {}
        },
        {
          "output_type": "display_data",
          "data": {
            "text/plain": [
              "<IPython.core.display.HTML object>"
            ],
            "text/html": [
              "\n",
              "  <style>\n",
              "    pre {\n",
              "        white-space: pre-wrap;\n",
              "    }\n",
              "  </style>\n",
              "  "
            ]
          },
          "metadata": {}
        },
        {
          "output_type": "display_data",
          "data": {
            "text/plain": [
              "<IPython.core.display.HTML object>"
            ],
            "text/html": [
              "\n",
              "  <style>\n",
              "    pre {\n",
              "        white-space: pre-wrap;\n",
              "    }\n",
              "  </style>\n",
              "  "
            ]
          },
          "metadata": {}
        },
        {
          "output_type": "execute_result",
          "data": {
            "text/plain": [
              "['baylosuites',\n",
              " 'was',\n",
              " 'a',\n",
              " 'great',\n",
              " 'location',\n",
              " 'walking',\n",
              " 'distant',\n",
              " 'minutes',\n",
              " 'from',\n",
              " 'the',\n",
              " 'karakoy',\n",
              " 'tram',\n",
              " 'station',\n",
              " 'minutes',\n",
              " 'from']"
            ]
          },
          "metadata": {},
          "execution_count": 250
        }
      ]
    },
    {
      "cell_type": "markdown",
      "source": [
        "The current dataframe:"
      ],
      "metadata": {
        "id": "O0Zfu2EEp-2x"
      }
    },
    {
      "cell_type": "code",
      "source": [
        "hotel_bagofwords1"
      ],
      "metadata": {
        "colab": {
          "base_uri": "https://localhost:8080/",
          "height": 1000
        },
        "id": "M9cw4Pslp7os",
        "outputId": "03c58da0-e247-4910-87dc-96e41429eca8"
      },
      "execution_count": null,
      "outputs": [
        {
          "output_type": "display_data",
          "data": {
            "text/plain": [
              "<IPython.core.display.HTML object>"
            ],
            "text/html": [
              "\n",
              "  <style>\n",
              "    pre {\n",
              "        white-space: pre-wrap;\n",
              "    }\n",
              "  </style>\n",
              "  "
            ]
          },
          "metadata": {}
        },
        {
          "output_type": "display_data",
          "data": {
            "text/plain": [
              "<IPython.core.display.HTML object>"
            ],
            "text/html": [
              "\n",
              "  <style>\n",
              "    pre {\n",
              "        white-space: pre-wrap;\n",
              "    }\n",
              "  </style>\n",
              "  "
            ]
          },
          "metadata": {}
        },
        {
          "output_type": "display_data",
          "data": {
            "text/plain": [
              "<IPython.core.display.HTML object>"
            ],
            "text/html": [
              "\n",
              "  <style>\n",
              "    pre {\n",
              "        white-space: pre-wrap;\n",
              "    }\n",
              "  </style>\n",
              "  "
            ]
          },
          "metadata": {}
        },
        {
          "output_type": "execute_result",
          "data": {
            "text/plain": [
              "                                                                                       words\n",
              "hotel_name                                                                                  \n",
              "White House Hotel Istanbul                 [it, was, a, pleasure, staying, at, this, hote...\n",
              "Crowne Plaza Istanbul - Florya             [this, hotel, location, is, awesome, and, refr...\n",
              "GLK PREMIER Sea Mansion Suites & Spa       [it, was, an, experience, that, exceeded, my, ...\n",
              "Basileus Hotel                             [what, can, i, say, that, has, not, already, b...\n",
              "Baylosuites                                [baylosuites, was, a, great, location, walking...\n",
              "Walnut Shell Hotel                         [i, have, stayed, at, wslnut, shell, sevarel, ...\n",
              "Has Han Galata                             [great, service, truly, all, included, breakfa...\n",
              "Taksim Ultra VIP Apartments                [actually, i, visited, it, more, than, once, b...\n",
              "Elite World Business                       [what, a, most, beautiful, hotel, the, front, ...\n",
              "Dila Suites                                [it, was, amazing, to, come, back, to, istanbu...\n",
              "Bosphorus Palace Hotel                     [we, quickly, crossed, to, the, asia, side, of...\n",
              "Emirhan Inn Apart Hotel                                                                   []\n",
              "Hotel Amira Istanbul                       [we, chose, this, hotel, for, a, few, days, to...\n",
              "Downtown Istanbul                          [like, i, wrote, down, in, my, review, for, th...\n",
              "Lotus Hotel Istanbul                       [is, the, times, i, visited, this, hotel, i, j...\n",
              "Hotel Sultan Hill                          [the, location, is, amazing, right, next, to, ...\n",
              "Hotel Next2                                [hotel, is, located, in, the, quite, street, o...\n",
              "Cube Suites                                [this, place, is, such, a, little, gem, what, ...\n",
              "MySuite Istanbul Cihangir Square           [the, host, is, very, nice, and, helpful, can,...\n",
              "Agva Riverangel Hotel                      [me, and, my, girlfriend, were, initially, sta...\n",
              "Sura Hagia Sophia Hotel                    [hotel, facilities, seemed, to, be, under, con...\n",
              "Bucoleon by Cheers                         [i, stayed, at, this, hotel, for, night, in, j...\n",
              "Arven Boutique Hotel                       [nice, location, clean, and, comfortable, alwa...\n",
              "Radisson Blu Hotel & Spa - Istanbul Tuzla  [we, stayed, here, week, and, we, loved, every...\n",
              "Walton Hotels Galata                       [this, hotel, is, first, and, foremost, about,...\n",
              "Artefes Hotel Istanbul                     [my, husband, and, i, stayed, at, artefes, hot...\n",
              "Robin's Nest                               [the, location, of, the, hotel, is, great, the...\n",
              "Hotel Tulip House                          [the, manager, named, mavi, is, awful, and, he...\n",
              "Jazz Hotel                                 [the, room, smelled, the, sewage, all, the, ti...\n",
              "Hotel Valide Sultan Konagi                 [we, started, our, vacation, to, turkey, in, i..."
            ],
            "text/html": [
              "\n",
              "  <div id=\"df-adf1a282-3c25-409c-8992-cd3e6dae4f33\">\n",
              "    <div class=\"colab-df-container\">\n",
              "      <div>\n",
              "<style scoped>\n",
              "    .dataframe tbody tr th:only-of-type {\n",
              "        vertical-align: middle;\n",
              "    }\n",
              "\n",
              "    .dataframe tbody tr th {\n",
              "        vertical-align: top;\n",
              "    }\n",
              "\n",
              "    .dataframe thead th {\n",
              "        text-align: right;\n",
              "    }\n",
              "</style>\n",
              "<table border=\"1\" class=\"dataframe\">\n",
              "  <thead>\n",
              "    <tr style=\"text-align: right;\">\n",
              "      <th></th>\n",
              "      <th>words</th>\n",
              "    </tr>\n",
              "    <tr>\n",
              "      <th>hotel_name</th>\n",
              "      <th></th>\n",
              "    </tr>\n",
              "  </thead>\n",
              "  <tbody>\n",
              "    <tr>\n",
              "      <th>White House Hotel Istanbul</th>\n",
              "      <td>[it, was, a, pleasure, staying, at, this, hote...</td>\n",
              "    </tr>\n",
              "    <tr>\n",
              "      <th>Crowne Plaza Istanbul - Florya</th>\n",
              "      <td>[this, hotel, location, is, awesome, and, refr...</td>\n",
              "    </tr>\n",
              "    <tr>\n",
              "      <th>GLK PREMIER Sea Mansion Suites &amp; Spa</th>\n",
              "      <td>[it, was, an, experience, that, exceeded, my, ...</td>\n",
              "    </tr>\n",
              "    <tr>\n",
              "      <th>Basileus Hotel</th>\n",
              "      <td>[what, can, i, say, that, has, not, already, b...</td>\n",
              "    </tr>\n",
              "    <tr>\n",
              "      <th>Baylosuites</th>\n",
              "      <td>[baylosuites, was, a, great, location, walking...</td>\n",
              "    </tr>\n",
              "    <tr>\n",
              "      <th>Walnut Shell Hotel</th>\n",
              "      <td>[i, have, stayed, at, wslnut, shell, sevarel, ...</td>\n",
              "    </tr>\n",
              "    <tr>\n",
              "      <th>Has Han Galata</th>\n",
              "      <td>[great, service, truly, all, included, breakfa...</td>\n",
              "    </tr>\n",
              "    <tr>\n",
              "      <th>Taksim Ultra VIP Apartments</th>\n",
              "      <td>[actually, i, visited, it, more, than, once, b...</td>\n",
              "    </tr>\n",
              "    <tr>\n",
              "      <th>Elite World Business</th>\n",
              "      <td>[what, a, most, beautiful, hotel, the, front, ...</td>\n",
              "    </tr>\n",
              "    <tr>\n",
              "      <th>Dila Suites</th>\n",
              "      <td>[it, was, amazing, to, come, back, to, istanbu...</td>\n",
              "    </tr>\n",
              "    <tr>\n",
              "      <th>Bosphorus Palace Hotel</th>\n",
              "      <td>[we, quickly, crossed, to, the, asia, side, of...</td>\n",
              "    </tr>\n",
              "    <tr>\n",
              "      <th>Emirhan Inn Apart Hotel</th>\n",
              "      <td>[]</td>\n",
              "    </tr>\n",
              "    <tr>\n",
              "      <th>Hotel Amira Istanbul</th>\n",
              "      <td>[we, chose, this, hotel, for, a, few, days, to...</td>\n",
              "    </tr>\n",
              "    <tr>\n",
              "      <th>Downtown Istanbul</th>\n",
              "      <td>[like, i, wrote, down, in, my, review, for, th...</td>\n",
              "    </tr>\n",
              "    <tr>\n",
              "      <th>Lotus Hotel Istanbul</th>\n",
              "      <td>[is, the, times, i, visited, this, hotel, i, j...</td>\n",
              "    </tr>\n",
              "    <tr>\n",
              "      <th>Hotel Sultan Hill</th>\n",
              "      <td>[the, location, is, amazing, right, next, to, ...</td>\n",
              "    </tr>\n",
              "    <tr>\n",
              "      <th>Hotel Next2</th>\n",
              "      <td>[hotel, is, located, in, the, quite, street, o...</td>\n",
              "    </tr>\n",
              "    <tr>\n",
              "      <th>Cube Suites</th>\n",
              "      <td>[this, place, is, such, a, little, gem, what, ...</td>\n",
              "    </tr>\n",
              "    <tr>\n",
              "      <th>MySuite Istanbul Cihangir Square</th>\n",
              "      <td>[the, host, is, very, nice, and, helpful, can,...</td>\n",
              "    </tr>\n",
              "    <tr>\n",
              "      <th>Agva Riverangel Hotel</th>\n",
              "      <td>[me, and, my, girlfriend, were, initially, sta...</td>\n",
              "    </tr>\n",
              "    <tr>\n",
              "      <th>Sura Hagia Sophia Hotel</th>\n",
              "      <td>[hotel, facilities, seemed, to, be, under, con...</td>\n",
              "    </tr>\n",
              "    <tr>\n",
              "      <th>Bucoleon by Cheers</th>\n",
              "      <td>[i, stayed, at, this, hotel, for, night, in, j...</td>\n",
              "    </tr>\n",
              "    <tr>\n",
              "      <th>Arven Boutique Hotel</th>\n",
              "      <td>[nice, location, clean, and, comfortable, alwa...</td>\n",
              "    </tr>\n",
              "    <tr>\n",
              "      <th>Radisson Blu Hotel &amp; Spa - Istanbul Tuzla</th>\n",
              "      <td>[we, stayed, here, week, and, we, loved, every...</td>\n",
              "    </tr>\n",
              "    <tr>\n",
              "      <th>Walton Hotels Galata</th>\n",
              "      <td>[this, hotel, is, first, and, foremost, about,...</td>\n",
              "    </tr>\n",
              "    <tr>\n",
              "      <th>Artefes Hotel Istanbul</th>\n",
              "      <td>[my, husband, and, i, stayed, at, artefes, hot...</td>\n",
              "    </tr>\n",
              "    <tr>\n",
              "      <th>Robin's Nest</th>\n",
              "      <td>[the, location, of, the, hotel, is, great, the...</td>\n",
              "    </tr>\n",
              "    <tr>\n",
              "      <th>Hotel Tulip House</th>\n",
              "      <td>[the, manager, named, mavi, is, awful, and, he...</td>\n",
              "    </tr>\n",
              "    <tr>\n",
              "      <th>Jazz Hotel</th>\n",
              "      <td>[the, room, smelled, the, sewage, all, the, ti...</td>\n",
              "    </tr>\n",
              "    <tr>\n",
              "      <th>Hotel Valide Sultan Konagi</th>\n",
              "      <td>[we, started, our, vacation, to, turkey, in, i...</td>\n",
              "    </tr>\n",
              "  </tbody>\n",
              "</table>\n",
              "</div>\n",
              "      <button class=\"colab-df-convert\" onclick=\"convertToInteractive('df-adf1a282-3c25-409c-8992-cd3e6dae4f33')\"\n",
              "              title=\"Convert this dataframe to an interactive table.\"\n",
              "              style=\"display:none;\">\n",
              "        \n",
              "  <svg xmlns=\"http://www.w3.org/2000/svg\" height=\"24px\"viewBox=\"0 0 24 24\"\n",
              "       width=\"24px\">\n",
              "    <path d=\"M0 0h24v24H0V0z\" fill=\"none\"/>\n",
              "    <path d=\"M18.56 5.44l.94 2.06.94-2.06 2.06-.94-2.06-.94-.94-2.06-.94 2.06-2.06.94zm-11 1L8.5 8.5l.94-2.06 2.06-.94-2.06-.94L8.5 2.5l-.94 2.06-2.06.94zm10 10l.94 2.06.94-2.06 2.06-.94-2.06-.94-.94-2.06-.94 2.06-2.06.94z\"/><path d=\"M17.41 7.96l-1.37-1.37c-.4-.4-.92-.59-1.43-.59-.52 0-1.04.2-1.43.59L10.3 9.45l-7.72 7.72c-.78.78-.78 2.05 0 2.83L4 21.41c.39.39.9.59 1.41.59.51 0 1.02-.2 1.41-.59l7.78-7.78 2.81-2.81c.8-.78.8-2.07 0-2.86zM5.41 20L4 18.59l7.72-7.72 1.47 1.35L5.41 20z\"/>\n",
              "  </svg>\n",
              "      </button>\n",
              "      \n",
              "  <style>\n",
              "    .colab-df-container {\n",
              "      display:flex;\n",
              "      flex-wrap:wrap;\n",
              "      gap: 12px;\n",
              "    }\n",
              "\n",
              "    .colab-df-convert {\n",
              "      background-color: #E8F0FE;\n",
              "      border: none;\n",
              "      border-radius: 50%;\n",
              "      cursor: pointer;\n",
              "      display: none;\n",
              "      fill: #1967D2;\n",
              "      height: 32px;\n",
              "      padding: 0 0 0 0;\n",
              "      width: 32px;\n",
              "    }\n",
              "\n",
              "    .colab-df-convert:hover {\n",
              "      background-color: #E2EBFA;\n",
              "      box-shadow: 0px 1px 2px rgba(60, 64, 67, 0.3), 0px 1px 3px 1px rgba(60, 64, 67, 0.15);\n",
              "      fill: #174EA6;\n",
              "    }\n",
              "\n",
              "    [theme=dark] .colab-df-convert {\n",
              "      background-color: #3B4455;\n",
              "      fill: #D2E3FC;\n",
              "    }\n",
              "\n",
              "    [theme=dark] .colab-df-convert:hover {\n",
              "      background-color: #434B5C;\n",
              "      box-shadow: 0px 1px 3px 1px rgba(0, 0, 0, 0.15);\n",
              "      filter: drop-shadow(0px 1px 2px rgba(0, 0, 0, 0.3));\n",
              "      fill: #FFFFFF;\n",
              "    }\n",
              "  </style>\n",
              "\n",
              "      <script>\n",
              "        const buttonEl =\n",
              "          document.querySelector('#df-adf1a282-3c25-409c-8992-cd3e6dae4f33 button.colab-df-convert');\n",
              "        buttonEl.style.display =\n",
              "          google.colab.kernel.accessAllowed ? 'block' : 'none';\n",
              "\n",
              "        async function convertToInteractive(key) {\n",
              "          const element = document.querySelector('#df-adf1a282-3c25-409c-8992-cd3e6dae4f33');\n",
              "          const dataTable =\n",
              "            await google.colab.kernel.invokeFunction('convertToInteractive',\n",
              "                                                     [key], {});\n",
              "          if (!dataTable) return;\n",
              "\n",
              "          const docLinkHtml = 'Like what you see? Visit the ' +\n",
              "            '<a target=\"_blank\" href=https://colab.research.google.com/notebooks/data_table.ipynb>data table notebook</a>'\n",
              "            + ' to learn more about interactive tables.';\n",
              "          element.innerHTML = '';\n",
              "          dataTable['output_type'] = 'display_data';\n",
              "          await google.colab.output.renderOutput(dataTable, element);\n",
              "          const docLink = document.createElement('div');\n",
              "          docLink.innerHTML = docLinkHtml;\n",
              "          element.appendChild(docLink);\n",
              "        }\n",
              "      </script>\n",
              "    </div>\n",
              "  </div>\n",
              "  "
            ]
          },
          "metadata": {},
          "execution_count": 251
        }
      ]
    },
    {
      "cell_type": "code",
      "source": [
        "hotel_bagofwords1.drop(['Emirhan Inn Apart Hotel'], axis=0, inplace=True)"
      ],
      "metadata": {
        "colab": {
          "base_uri": "https://localhost:8080/",
          "height": 17
        },
        "id": "02n7AxmYE4zM",
        "outputId": "b97f6d47-879f-4c72-946b-d7beabf5ec75"
      },
      "execution_count": null,
      "outputs": [
        {
          "output_type": "display_data",
          "data": {
            "text/plain": [
              "<IPython.core.display.HTML object>"
            ],
            "text/html": [
              "\n",
              "  <style>\n",
              "    pre {\n",
              "        white-space: pre-wrap;\n",
              "    }\n",
              "  </style>\n",
              "  "
            ]
          },
          "metadata": {}
        },
        {
          "output_type": "display_data",
          "data": {
            "text/plain": [
              "<IPython.core.display.HTML object>"
            ],
            "text/html": [
              "\n",
              "  <style>\n",
              "    pre {\n",
              "        white-space: pre-wrap;\n",
              "    }\n",
              "  </style>\n",
              "  "
            ]
          },
          "metadata": {}
        },
        {
          "output_type": "display_data",
          "data": {
            "text/plain": [
              "<IPython.core.display.HTML object>"
            ],
            "text/html": [
              "\n",
              "  <style>\n",
              "    pre {\n",
              "        white-space: pre-wrap;\n",
              "    }\n",
              "  </style>\n",
              "  "
            ]
          },
          "metadata": {}
        }
      ]
    },
    {
      "cell_type": "markdown",
      "source": [
        "There is actually one hotel with no reviews and we should keep that in mind. It's called `Emirhan Inn Apart Hotel`. Since there is no content, we just drop it.\n",
        "\n",
        "Next is some text preprocessing to help the topic modeling. To-do:\n",
        "- Remove stopwords\n",
        "  - These are common words that don't tell us anything about content, e.g. `these, or, it`.\n",
        "- Apply stemming and/or lemmatization\n",
        "  - This allows words like `started, starting, and start` to all be seen as the same. It helps us group words together better for topics."
      ],
      "metadata": {
        "id": "vgAbiyi0z_JW"
      }
    },
    {
      "cell_type": "code",
      "source": [
        "stemmer = SnowballStemmer('english')\n",
        "\n",
        "# part of speech = verb because these have the most variety in endings\n",
        "def lemmatize_stem(words):\n",
        "  return stemmer.stem(WordNetLemmatizer().lemmatize(words, pos='v'))\n",
        "\n",
        "# removes stopwords and otherwise short words, applies lemmatizer\n",
        "def textprocess(words):\n",
        "  processed = []\n",
        "  for token in gensim.utils.simple_preprocess(words):\n",
        "    if token not in gensim.parsing.preprocessing.STOPWORDS and len(token) > 3:\n",
        "      processed.append(lemmatize_stem(token))\n",
        "\n",
        "  return processed"
      ],
      "metadata": {
        "id": "Ihv5E4Cu3yrc",
        "colab": {
          "base_uri": "https://localhost:8080/",
          "height": 17
        },
        "outputId": "c788c049-aa29-484e-d2ca-0da6edb4c48c"
      },
      "execution_count": null,
      "outputs": [
        {
          "output_type": "display_data",
          "data": {
            "text/plain": [
              "<IPython.core.display.HTML object>"
            ],
            "text/html": [
              "\n",
              "  <style>\n",
              "    pre {\n",
              "        white-space: pre-wrap;\n",
              "    }\n",
              "  </style>\n",
              "  "
            ]
          },
          "metadata": {}
        },
        {
          "output_type": "display_data",
          "data": {
            "text/plain": [
              "<IPython.core.display.HTML object>"
            ],
            "text/html": [
              "\n",
              "  <style>\n",
              "    pre {\n",
              "        white-space: pre-wrap;\n",
              "    }\n",
              "  </style>\n",
              "  "
            ]
          },
          "metadata": {}
        },
        {
          "output_type": "display_data",
          "data": {
            "text/plain": [
              "<IPython.core.display.HTML object>"
            ],
            "text/html": [
              "\n",
              "  <style>\n",
              "    pre {\n",
              "        white-space: pre-wrap;\n",
              "    }\n",
              "  </style>\n",
              "  "
            ]
          },
          "metadata": {}
        }
      ]
    },
    {
      "cell_type": "markdown",
      "source": [
        "Testing the functions from above. We have to join the list back together before the processing because `gensim` requires it."
      ],
      "metadata": {
        "id": "E9iNGGfhtroo"
      }
    },
    {
      "cell_type": "code",
      "source": [
        "doc_sample = ' '.join(hotel_bagofwords1.loc['Baylosuites'].words.copy())\n",
        "doc_sample[:100]"
      ],
      "metadata": {
        "colab": {
          "base_uri": "https://localhost:8080/",
          "height": 36
        },
        "id": "QzhT_qRvsPgg",
        "outputId": "796b3ee9-639d-4c4c-a5f5-ffb363e69645"
      },
      "execution_count": null,
      "outputs": [
        {
          "output_type": "display_data",
          "data": {
            "text/plain": [
              "<IPython.core.display.HTML object>"
            ],
            "text/html": [
              "\n",
              "  <style>\n",
              "    pre {\n",
              "        white-space: pre-wrap;\n",
              "    }\n",
              "  </style>\n",
              "  "
            ]
          },
          "metadata": {}
        },
        {
          "output_type": "display_data",
          "data": {
            "text/plain": [
              "<IPython.core.display.HTML object>"
            ],
            "text/html": [
              "\n",
              "  <style>\n",
              "    pre {\n",
              "        white-space: pre-wrap;\n",
              "    }\n",
              "  </style>\n",
              "  "
            ]
          },
          "metadata": {}
        },
        {
          "output_type": "display_data",
          "data": {
            "text/plain": [
              "<IPython.core.display.HTML object>"
            ],
            "text/html": [
              "\n",
              "  <style>\n",
              "    pre {\n",
              "        white-space: pre-wrap;\n",
              "    }\n",
              "  </style>\n",
              "  "
            ]
          },
          "metadata": {}
        },
        {
          "output_type": "execute_result",
          "data": {
            "text/plain": [
              "'baylosuites was a great location walking distant minutes from the karakoy tram station minutes from '"
            ],
            "application/vnd.google.colaboratory.intrinsic+json": {
              "type": "string"
            }
          },
          "metadata": {},
          "execution_count": 254
        }
      ]
    },
    {
      "cell_type": "code",
      "source": [
        "print(textprocess(doc_sample)[:10])"
      ],
      "metadata": {
        "colab": {
          "base_uri": "https://localhost:8080/",
          "height": 35
        },
        "id": "ReAsTHYutOsH",
        "outputId": "f4d28b08-267e-4127-c7da-63a3c4499cd6"
      },
      "execution_count": null,
      "outputs": [
        {
          "output_type": "display_data",
          "data": {
            "text/plain": [
              "<IPython.core.display.HTML object>"
            ],
            "text/html": [
              "\n",
              "  <style>\n",
              "    pre {\n",
              "        white-space: pre-wrap;\n",
              "    }\n",
              "  </style>\n",
              "  "
            ]
          },
          "metadata": {}
        },
        {
          "output_type": "display_data",
          "data": {
            "text/plain": [
              "<IPython.core.display.HTML object>"
            ],
            "text/html": [
              "\n",
              "  <style>\n",
              "    pre {\n",
              "        white-space: pre-wrap;\n",
              "    }\n",
              "  </style>\n",
              "  "
            ]
          },
          "metadata": {}
        },
        {
          "output_type": "display_data",
          "data": {
            "text/plain": [
              "<IPython.core.display.HTML object>"
            ],
            "text/html": [
              "\n",
              "  <style>\n",
              "    pre {\n",
              "        white-space: pre-wrap;\n",
              "    }\n",
              "  </style>\n",
              "  "
            ]
          },
          "metadata": {}
        },
        {
          "output_type": "stream",
          "name": "stdout",
          "text": [
            "['baylosuit', 'great', 'locat', 'walk', 'distant', 'minut', 'karakoy', 'tram', 'station', 'minut']\n"
          ]
        }
      ]
    },
    {
      "cell_type": "markdown",
      "source": [
        "Now we know it works, we just have to apply this to all the existing bag-of-words."
      ],
      "metadata": {
        "id": "SRtVuqn-uqz8"
      }
    },
    {
      "cell_type": "code",
      "source": [
        "hotel_bagofwords2 = hotel_bagofwords1.copy()\n",
        "hotel_bagofwords2['p_words'] = hotel_bagofwords1['words'].apply(lambda ws : textprocess(' '.join(ws)))"
      ],
      "metadata": {
        "id": "0Tl-DTsHtaCY",
        "colab": {
          "base_uri": "https://localhost:8080/",
          "height": 17
        },
        "outputId": "98feb0b7-bfe8-4a03-fe4b-67ee899f1a07"
      },
      "execution_count": null,
      "outputs": [
        {
          "output_type": "display_data",
          "data": {
            "text/plain": [
              "<IPython.core.display.HTML object>"
            ],
            "text/html": [
              "\n",
              "  <style>\n",
              "    pre {\n",
              "        white-space: pre-wrap;\n",
              "    }\n",
              "  </style>\n",
              "  "
            ]
          },
          "metadata": {}
        },
        {
          "output_type": "display_data",
          "data": {
            "text/plain": [
              "<IPython.core.display.HTML object>"
            ],
            "text/html": [
              "\n",
              "  <style>\n",
              "    pre {\n",
              "        white-space: pre-wrap;\n",
              "    }\n",
              "  </style>\n",
              "  "
            ]
          },
          "metadata": {}
        },
        {
          "output_type": "display_data",
          "data": {
            "text/plain": [
              "<IPython.core.display.HTML object>"
            ],
            "text/html": [
              "\n",
              "  <style>\n",
              "    pre {\n",
              "        white-space: pre-wrap;\n",
              "    }\n",
              "  </style>\n",
              "  "
            ]
          },
          "metadata": {}
        }
      ]
    },
    {
      "cell_type": "markdown",
      "source": [
        "Looks good, and we can easily see the change of removing stopwords and applying lemmatization."
      ],
      "metadata": {
        "id": "Xg2BKazH3hVf"
      }
    },
    {
      "cell_type": "code",
      "source": [
        "hotel_bagofwords2"
      ],
      "metadata": {
        "colab": {
          "base_uri": "https://localhost:8080/",
          "height": 990
        },
        "id": "E-8lN4tJ2_vM",
        "outputId": "60e90274-9ce0-4f89-e6ee-37faddadedab"
      },
      "execution_count": null,
      "outputs": [
        {
          "output_type": "display_data",
          "data": {
            "text/plain": [
              "<IPython.core.display.HTML object>"
            ],
            "text/html": [
              "\n",
              "  <style>\n",
              "    pre {\n",
              "        white-space: pre-wrap;\n",
              "    }\n",
              "  </style>\n",
              "  "
            ]
          },
          "metadata": {}
        },
        {
          "output_type": "display_data",
          "data": {
            "text/plain": [
              "<IPython.core.display.HTML object>"
            ],
            "text/html": [
              "\n",
              "  <style>\n",
              "    pre {\n",
              "        white-space: pre-wrap;\n",
              "    }\n",
              "  </style>\n",
              "  "
            ]
          },
          "metadata": {}
        },
        {
          "output_type": "display_data",
          "data": {
            "text/plain": [
              "<IPython.core.display.HTML object>"
            ],
            "text/html": [
              "\n",
              "  <style>\n",
              "    pre {\n",
              "        white-space: pre-wrap;\n",
              "    }\n",
              "  </style>\n",
              "  "
            ]
          },
          "metadata": {}
        },
        {
          "output_type": "execute_result",
          "data": {
            "text/plain": [
              "                                                                                       words  \\\n",
              "hotel_name                                                                                     \n",
              "White House Hotel Istanbul                 [it, was, a, pleasure, staying, at, this, hote...   \n",
              "Crowne Plaza Istanbul - Florya             [this, hotel, location, is, awesome, and, refr...   \n",
              "GLK PREMIER Sea Mansion Suites & Spa       [it, was, an, experience, that, exceeded, my, ...   \n",
              "Basileus Hotel                             [what, can, i, say, that, has, not, already, b...   \n",
              "Baylosuites                                [baylosuites, was, a, great, location, walking...   \n",
              "Walnut Shell Hotel                         [i, have, stayed, at, wslnut, shell, sevarel, ...   \n",
              "Has Han Galata                             [great, service, truly, all, included, breakfa...   \n",
              "Taksim Ultra VIP Apartments                [actually, i, visited, it, more, than, once, b...   \n",
              "Elite World Business                       [what, a, most, beautiful, hotel, the, front, ...   \n",
              "Dila Suites                                [it, was, amazing, to, come, back, to, istanbu...   \n",
              "Bosphorus Palace Hotel                     [we, quickly, crossed, to, the, asia, side, of...   \n",
              "Hotel Amira Istanbul                       [we, chose, this, hotel, for, a, few, days, to...   \n",
              "Downtown Istanbul                          [like, i, wrote, down, in, my, review, for, th...   \n",
              "Lotus Hotel Istanbul                       [is, the, times, i, visited, this, hotel, i, j...   \n",
              "Hotel Sultan Hill                          [the, location, is, amazing, right, next, to, ...   \n",
              "Hotel Next2                                [hotel, is, located, in, the, quite, street, o...   \n",
              "Cube Suites                                [this, place, is, such, a, little, gem, what, ...   \n",
              "MySuite Istanbul Cihangir Square           [the, host, is, very, nice, and, helpful, can,...   \n",
              "Agva Riverangel Hotel                      [me, and, my, girlfriend, were, initially, sta...   \n",
              "Sura Hagia Sophia Hotel                    [hotel, facilities, seemed, to, be, under, con...   \n",
              "Bucoleon by Cheers                         [i, stayed, at, this, hotel, for, night, in, j...   \n",
              "Arven Boutique Hotel                       [nice, location, clean, and, comfortable, alwa...   \n",
              "Radisson Blu Hotel & Spa - Istanbul Tuzla  [we, stayed, here, week, and, we, loved, every...   \n",
              "Walton Hotels Galata                       [this, hotel, is, first, and, foremost, about,...   \n",
              "Artefes Hotel Istanbul                     [my, husband, and, i, stayed, at, artefes, hot...   \n",
              "Robin's Nest                               [the, location, of, the, hotel, is, great, the...   \n",
              "Hotel Tulip House                          [the, manager, named, mavi, is, awful, and, he...   \n",
              "Jazz Hotel                                 [the, room, smelled, the, sewage, all, the, ti...   \n",
              "Hotel Valide Sultan Konagi                 [we, started, our, vacation, to, turkey, in, i...   \n",
              "\n",
              "                                                                                     p_words  \n",
              "hotel_name                                                                                    \n",
              "White House Hotel Istanbul                 [pleasur, stay, hotel, excel, staff, neat, cle...  \n",
              "Crowne Plaza Istanbul - Florya             [hotel, locat, awesom, refresh, hotel, time, r...  \n",
              "GLK PREMIER Sea Mansion Suites & Spa       [experi, exceed, expect, time, visit, istanbul...  \n",
              "Basileus Hotel                             [say, amaz, staff, amaz, locat, amaz, hotel, s...  \n",
              "Baylosuites                                [baylosuit, great, locat, walk, distant, minut...  \n",
              "Walnut Shell Hotel                         [stay, wslnut, shell, sevarel, time, refref, t...  \n",
              "Has Han Galata                             [great, servic, truli, includ, breakfast, dedi...  \n",
              "Taksim Ultra VIP Apartments                [actual, visit, amaz, place, wonder, view, fri...  \n",
              "Elite World Business                       [beauti, hotel, desk, staff, help, good, under...  \n",
              "Dila Suites                                [amaz, come, istanbul, hotel, dila, suit, reas...  \n",
              "Bosphorus Palace Hotel                     [quick, cross, asia, istanbul, look, place, aw...  \n",
              "Hotel Amira Istanbul                       [choos, hotel, day, celebr, wife, birthday, ou...  \n",
              "Downtown Istanbul                          [like, write, review, white, hous, hotel, plac...  \n",
              "Lotus Hotel Istanbul                       [time, visit, hotel, love, servic, locat, vura...  \n",
              "Hotel Sultan Hill                          [locat, amaz, right, blue, mosqu, walk, distan...  \n",
              "Hotel Next2                                [hotel, locat, street, taksim, room, clean, la...  \n",
              "Cube Suites                                [place, littl, lack, general, amen, peopl, don...  \n",
              "MySuite Istanbul Cihangir Square           [host, nice, help, assist, need, like, card, m...  \n",
              "Agva Riverangel Hotel                      [girlfriend, initi, stay, citi, centr, want, e...  \n",
              "Sura Hagia Sophia Hotel                    [hotel, facil, construct, stay, room, clean, s...  \n",
              "Bucoleon by Cheers                         [stay, hotel, night, juli, trip, istanbul, exc...  \n",
              "Arven Boutique Hotel                       [nice, locat, clean, comfort, stay, hotel, cou...  \n",
              "Radisson Blu Hotel & Spa - Istanbul Tuzla  [stay, week, love, minut, hotel, great, breakf...  \n",
              "Walton Hotels Galata                       [hotel, foremost, staff, friend, welcom, speci...  \n",
              "Artefes Hotel Istanbul                     [husband, stay, artef, hotel, june, arriv, sta...  \n",
              "Robin's Nest                               [locat, hotel, great, there, stop, case, publi...  \n",
              "Hotel Tulip House                          [manag, name, mavi, aw, didnt, care, lose, cus...  \n",
              "Jazz Hotel                                 [room, smell, sewag, time, hotel, small, total...  \n",
              "Hotel Valide Sultan Konagi                 [start, vacat, turkey, istanbul, stay, hotel, ...  "
            ],
            "text/html": [
              "\n",
              "  <div id=\"df-b2be55b2-a1dd-45fb-a34b-6e025467c5d9\">\n",
              "    <div class=\"colab-df-container\">\n",
              "      <div>\n",
              "<style scoped>\n",
              "    .dataframe tbody tr th:only-of-type {\n",
              "        vertical-align: middle;\n",
              "    }\n",
              "\n",
              "    .dataframe tbody tr th {\n",
              "        vertical-align: top;\n",
              "    }\n",
              "\n",
              "    .dataframe thead th {\n",
              "        text-align: right;\n",
              "    }\n",
              "</style>\n",
              "<table border=\"1\" class=\"dataframe\">\n",
              "  <thead>\n",
              "    <tr style=\"text-align: right;\">\n",
              "      <th></th>\n",
              "      <th>words</th>\n",
              "      <th>p_words</th>\n",
              "    </tr>\n",
              "    <tr>\n",
              "      <th>hotel_name</th>\n",
              "      <th></th>\n",
              "      <th></th>\n",
              "    </tr>\n",
              "  </thead>\n",
              "  <tbody>\n",
              "    <tr>\n",
              "      <th>White House Hotel Istanbul</th>\n",
              "      <td>[it, was, a, pleasure, staying, at, this, hote...</td>\n",
              "      <td>[pleasur, stay, hotel, excel, staff, neat, cle...</td>\n",
              "    </tr>\n",
              "    <tr>\n",
              "      <th>Crowne Plaza Istanbul - Florya</th>\n",
              "      <td>[this, hotel, location, is, awesome, and, refr...</td>\n",
              "      <td>[hotel, locat, awesom, refresh, hotel, time, r...</td>\n",
              "    </tr>\n",
              "    <tr>\n",
              "      <th>GLK PREMIER Sea Mansion Suites &amp; Spa</th>\n",
              "      <td>[it, was, an, experience, that, exceeded, my, ...</td>\n",
              "      <td>[experi, exceed, expect, time, visit, istanbul...</td>\n",
              "    </tr>\n",
              "    <tr>\n",
              "      <th>Basileus Hotel</th>\n",
              "      <td>[what, can, i, say, that, has, not, already, b...</td>\n",
              "      <td>[say, amaz, staff, amaz, locat, amaz, hotel, s...</td>\n",
              "    </tr>\n",
              "    <tr>\n",
              "      <th>Baylosuites</th>\n",
              "      <td>[baylosuites, was, a, great, location, walking...</td>\n",
              "      <td>[baylosuit, great, locat, walk, distant, minut...</td>\n",
              "    </tr>\n",
              "    <tr>\n",
              "      <th>Walnut Shell Hotel</th>\n",
              "      <td>[i, have, stayed, at, wslnut, shell, sevarel, ...</td>\n",
              "      <td>[stay, wslnut, shell, sevarel, time, refref, t...</td>\n",
              "    </tr>\n",
              "    <tr>\n",
              "      <th>Has Han Galata</th>\n",
              "      <td>[great, service, truly, all, included, breakfa...</td>\n",
              "      <td>[great, servic, truli, includ, breakfast, dedi...</td>\n",
              "    </tr>\n",
              "    <tr>\n",
              "      <th>Taksim Ultra VIP Apartments</th>\n",
              "      <td>[actually, i, visited, it, more, than, once, b...</td>\n",
              "      <td>[actual, visit, amaz, place, wonder, view, fri...</td>\n",
              "    </tr>\n",
              "    <tr>\n",
              "      <th>Elite World Business</th>\n",
              "      <td>[what, a, most, beautiful, hotel, the, front, ...</td>\n",
              "      <td>[beauti, hotel, desk, staff, help, good, under...</td>\n",
              "    </tr>\n",
              "    <tr>\n",
              "      <th>Dila Suites</th>\n",
              "      <td>[it, was, amazing, to, come, back, to, istanbu...</td>\n",
              "      <td>[amaz, come, istanbul, hotel, dila, suit, reas...</td>\n",
              "    </tr>\n",
              "    <tr>\n",
              "      <th>Bosphorus Palace Hotel</th>\n",
              "      <td>[we, quickly, crossed, to, the, asia, side, of...</td>\n",
              "      <td>[quick, cross, asia, istanbul, look, place, aw...</td>\n",
              "    </tr>\n",
              "    <tr>\n",
              "      <th>Hotel Amira Istanbul</th>\n",
              "      <td>[we, chose, this, hotel, for, a, few, days, to...</td>\n",
              "      <td>[choos, hotel, day, celebr, wife, birthday, ou...</td>\n",
              "    </tr>\n",
              "    <tr>\n",
              "      <th>Downtown Istanbul</th>\n",
              "      <td>[like, i, wrote, down, in, my, review, for, th...</td>\n",
              "      <td>[like, write, review, white, hous, hotel, plac...</td>\n",
              "    </tr>\n",
              "    <tr>\n",
              "      <th>Lotus Hotel Istanbul</th>\n",
              "      <td>[is, the, times, i, visited, this, hotel, i, j...</td>\n",
              "      <td>[time, visit, hotel, love, servic, locat, vura...</td>\n",
              "    </tr>\n",
              "    <tr>\n",
              "      <th>Hotel Sultan Hill</th>\n",
              "      <td>[the, location, is, amazing, right, next, to, ...</td>\n",
              "      <td>[locat, amaz, right, blue, mosqu, walk, distan...</td>\n",
              "    </tr>\n",
              "    <tr>\n",
              "      <th>Hotel Next2</th>\n",
              "      <td>[hotel, is, located, in, the, quite, street, o...</td>\n",
              "      <td>[hotel, locat, street, taksim, room, clean, la...</td>\n",
              "    </tr>\n",
              "    <tr>\n",
              "      <th>Cube Suites</th>\n",
              "      <td>[this, place, is, such, a, little, gem, what, ...</td>\n",
              "      <td>[place, littl, lack, general, amen, peopl, don...</td>\n",
              "    </tr>\n",
              "    <tr>\n",
              "      <th>MySuite Istanbul Cihangir Square</th>\n",
              "      <td>[the, host, is, very, nice, and, helpful, can,...</td>\n",
              "      <td>[host, nice, help, assist, need, like, card, m...</td>\n",
              "    </tr>\n",
              "    <tr>\n",
              "      <th>Agva Riverangel Hotel</th>\n",
              "      <td>[me, and, my, girlfriend, were, initially, sta...</td>\n",
              "      <td>[girlfriend, initi, stay, citi, centr, want, e...</td>\n",
              "    </tr>\n",
              "    <tr>\n",
              "      <th>Sura Hagia Sophia Hotel</th>\n",
              "      <td>[hotel, facilities, seemed, to, be, under, con...</td>\n",
              "      <td>[hotel, facil, construct, stay, room, clean, s...</td>\n",
              "    </tr>\n",
              "    <tr>\n",
              "      <th>Bucoleon by Cheers</th>\n",
              "      <td>[i, stayed, at, this, hotel, for, night, in, j...</td>\n",
              "      <td>[stay, hotel, night, juli, trip, istanbul, exc...</td>\n",
              "    </tr>\n",
              "    <tr>\n",
              "      <th>Arven Boutique Hotel</th>\n",
              "      <td>[nice, location, clean, and, comfortable, alwa...</td>\n",
              "      <td>[nice, locat, clean, comfort, stay, hotel, cou...</td>\n",
              "    </tr>\n",
              "    <tr>\n",
              "      <th>Radisson Blu Hotel &amp; Spa - Istanbul Tuzla</th>\n",
              "      <td>[we, stayed, here, week, and, we, loved, every...</td>\n",
              "      <td>[stay, week, love, minut, hotel, great, breakf...</td>\n",
              "    </tr>\n",
              "    <tr>\n",
              "      <th>Walton Hotels Galata</th>\n",
              "      <td>[this, hotel, is, first, and, foremost, about,...</td>\n",
              "      <td>[hotel, foremost, staff, friend, welcom, speci...</td>\n",
              "    </tr>\n",
              "    <tr>\n",
              "      <th>Artefes Hotel Istanbul</th>\n",
              "      <td>[my, husband, and, i, stayed, at, artefes, hot...</td>\n",
              "      <td>[husband, stay, artef, hotel, june, arriv, sta...</td>\n",
              "    </tr>\n",
              "    <tr>\n",
              "      <th>Robin's Nest</th>\n",
              "      <td>[the, location, of, the, hotel, is, great, the...</td>\n",
              "      <td>[locat, hotel, great, there, stop, case, publi...</td>\n",
              "    </tr>\n",
              "    <tr>\n",
              "      <th>Hotel Tulip House</th>\n",
              "      <td>[the, manager, named, mavi, is, awful, and, he...</td>\n",
              "      <td>[manag, name, mavi, aw, didnt, care, lose, cus...</td>\n",
              "    </tr>\n",
              "    <tr>\n",
              "      <th>Jazz Hotel</th>\n",
              "      <td>[the, room, smelled, the, sewage, all, the, ti...</td>\n",
              "      <td>[room, smell, sewag, time, hotel, small, total...</td>\n",
              "    </tr>\n",
              "    <tr>\n",
              "      <th>Hotel Valide Sultan Konagi</th>\n",
              "      <td>[we, started, our, vacation, to, turkey, in, i...</td>\n",
              "      <td>[start, vacat, turkey, istanbul, stay, hotel, ...</td>\n",
              "    </tr>\n",
              "  </tbody>\n",
              "</table>\n",
              "</div>\n",
              "      <button class=\"colab-df-convert\" onclick=\"convertToInteractive('df-b2be55b2-a1dd-45fb-a34b-6e025467c5d9')\"\n",
              "              title=\"Convert this dataframe to an interactive table.\"\n",
              "              style=\"display:none;\">\n",
              "        \n",
              "  <svg xmlns=\"http://www.w3.org/2000/svg\" height=\"24px\"viewBox=\"0 0 24 24\"\n",
              "       width=\"24px\">\n",
              "    <path d=\"M0 0h24v24H0V0z\" fill=\"none\"/>\n",
              "    <path d=\"M18.56 5.44l.94 2.06.94-2.06 2.06-.94-2.06-.94-.94-2.06-.94 2.06-2.06.94zm-11 1L8.5 8.5l.94-2.06 2.06-.94-2.06-.94L8.5 2.5l-.94 2.06-2.06.94zm10 10l.94 2.06.94-2.06 2.06-.94-2.06-.94-.94-2.06-.94 2.06-2.06.94z\"/><path d=\"M17.41 7.96l-1.37-1.37c-.4-.4-.92-.59-1.43-.59-.52 0-1.04.2-1.43.59L10.3 9.45l-7.72 7.72c-.78.78-.78 2.05 0 2.83L4 21.41c.39.39.9.59 1.41.59.51 0 1.02-.2 1.41-.59l7.78-7.78 2.81-2.81c.8-.78.8-2.07 0-2.86zM5.41 20L4 18.59l7.72-7.72 1.47 1.35L5.41 20z\"/>\n",
              "  </svg>\n",
              "      </button>\n",
              "      \n",
              "  <style>\n",
              "    .colab-df-container {\n",
              "      display:flex;\n",
              "      flex-wrap:wrap;\n",
              "      gap: 12px;\n",
              "    }\n",
              "\n",
              "    .colab-df-convert {\n",
              "      background-color: #E8F0FE;\n",
              "      border: none;\n",
              "      border-radius: 50%;\n",
              "      cursor: pointer;\n",
              "      display: none;\n",
              "      fill: #1967D2;\n",
              "      height: 32px;\n",
              "      padding: 0 0 0 0;\n",
              "      width: 32px;\n",
              "    }\n",
              "\n",
              "    .colab-df-convert:hover {\n",
              "      background-color: #E2EBFA;\n",
              "      box-shadow: 0px 1px 2px rgba(60, 64, 67, 0.3), 0px 1px 3px 1px rgba(60, 64, 67, 0.15);\n",
              "      fill: #174EA6;\n",
              "    }\n",
              "\n",
              "    [theme=dark] .colab-df-convert {\n",
              "      background-color: #3B4455;\n",
              "      fill: #D2E3FC;\n",
              "    }\n",
              "\n",
              "    [theme=dark] .colab-df-convert:hover {\n",
              "      background-color: #434B5C;\n",
              "      box-shadow: 0px 1px 3px 1px rgba(0, 0, 0, 0.15);\n",
              "      filter: drop-shadow(0px 1px 2px rgba(0, 0, 0, 0.3));\n",
              "      fill: #FFFFFF;\n",
              "    }\n",
              "  </style>\n",
              "\n",
              "      <script>\n",
              "        const buttonEl =\n",
              "          document.querySelector('#df-b2be55b2-a1dd-45fb-a34b-6e025467c5d9 button.colab-df-convert');\n",
              "        buttonEl.style.display =\n",
              "          google.colab.kernel.accessAllowed ? 'block' : 'none';\n",
              "\n",
              "        async function convertToInteractive(key) {\n",
              "          const element = document.querySelector('#df-b2be55b2-a1dd-45fb-a34b-6e025467c5d9');\n",
              "          const dataTable =\n",
              "            await google.colab.kernel.invokeFunction('convertToInteractive',\n",
              "                                                     [key], {});\n",
              "          if (!dataTable) return;\n",
              "\n",
              "          const docLinkHtml = 'Like what you see? Visit the ' +\n",
              "            '<a target=\"_blank\" href=https://colab.research.google.com/notebooks/data_table.ipynb>data table notebook</a>'\n",
              "            + ' to learn more about interactive tables.';\n",
              "          element.innerHTML = '';\n",
              "          dataTable['output_type'] = 'display_data';\n",
              "          await google.colab.output.renderOutput(dataTable, element);\n",
              "          const docLink = document.createElement('div');\n",
              "          docLink.innerHTML = docLinkHtml;\n",
              "          element.appendChild(docLink);\n",
              "        }\n",
              "      </script>\n",
              "    </div>\n",
              "  </div>\n",
              "  "
            ]
          },
          "metadata": {},
          "execution_count": 257
        }
      ]
    },
    {
      "cell_type": "markdown",
      "source": [
        "### Create clusters (Topic modeling)"
      ],
      "metadata": {
        "id": "aZar74xK-nJk"
      }
    },
    {
      "cell_type": "markdown",
      "source": [
        "We will create clusters by doing analysis on the corpus as a whole compared to each 'document' (set of reviews for a hotel).\n",
        "- It uses Latent Dirichlet Allocation (LDA).\n",
        "- This will be done in code using the `gensim` library.\n",
        "\n",
        "Next up is to create a 'dictionary' containing all words in our corpus and its term frequency. There is a preview of the start of the dictionary below."
      ],
      "metadata": {
        "id": "KnfqS28p3t_t"
      }
    },
    {
      "cell_type": "code",
      "source": [
        "dictionary = gensim.corpora.Dictionary(hotel_bagofwords2['p_words'])\n",
        "c = 0\n",
        "for k, word in dictionary.iteritems():\n",
        "  c += 1\n",
        "  print(k, word)\n",
        "  if c > 15:\n",
        "    break"
      ],
      "metadata": {
        "colab": {
          "base_uri": "https://localhost:8080/",
          "height": 308
        },
        "id": "DGx0Vlwr3QvL",
        "outputId": "3bbd088d-25e0-48d9-bcd2-49ea32e6ff2f"
      },
      "execution_count": null,
      "outputs": [
        {
          "output_type": "display_data",
          "data": {
            "text/plain": [
              "<IPython.core.display.HTML object>"
            ],
            "text/html": [
              "\n",
              "  <style>\n",
              "    pre {\n",
              "        white-space: pre-wrap;\n",
              "    }\n",
              "  </style>\n",
              "  "
            ]
          },
          "metadata": {}
        },
        {
          "output_type": "display_data",
          "data": {
            "text/plain": [
              "<IPython.core.display.HTML object>"
            ],
            "text/html": [
              "\n",
              "  <style>\n",
              "    pre {\n",
              "        white-space: pre-wrap;\n",
              "    }\n",
              "  </style>\n",
              "  "
            ]
          },
          "metadata": {}
        },
        {
          "output_type": "display_data",
          "data": {
            "text/plain": [
              "<IPython.core.display.HTML object>"
            ],
            "text/html": [
              "\n",
              "  <style>\n",
              "    pre {\n",
              "        white-space: pre-wrap;\n",
              "    }\n",
              "  </style>\n",
              "  "
            ]
          },
          "metadata": {}
        },
        {
          "output_type": "stream",
          "name": "stdout",
          "text": [
            "0 abl\n",
            "1 absolut\n",
            "2 access\n",
            "3 accid\n",
            "4 accommod\n",
            "5 activ\n",
            "6 actual\n",
            "7 add\n",
            "8 adirect\n",
            "9 admir\n",
            "10 advic\n",
            "11 agre\n",
            "12 airport\n",
            "13 aleyna\n",
            "14 altogeth\n",
            "15 amaz\n"
          ]
        }
      ]
    },
    {
      "cell_type": "markdown",
      "source": [
        "Below is a step which filters out words in less than 2 documents or more than 50% of documents."
      ],
      "metadata": {
        "id": "usUvkJzS4krr"
      }
    },
    {
      "cell_type": "code",
      "source": [
        "dictionary.filter_extremes(no_below = 2, no_above = 0.50, keep_n=100000)"
      ],
      "metadata": {
        "id": "rXPYdtlj4Acn",
        "colab": {
          "base_uri": "https://localhost:8080/",
          "height": 17
        },
        "outputId": "dfa3dc97-aea0-469e-9583-bc49e5042bc7"
      },
      "execution_count": null,
      "outputs": [
        {
          "output_type": "display_data",
          "data": {
            "text/plain": [
              "<IPython.core.display.HTML object>"
            ],
            "text/html": [
              "\n",
              "  <style>\n",
              "    pre {\n",
              "        white-space: pre-wrap;\n",
              "    }\n",
              "  </style>\n",
              "  "
            ]
          },
          "metadata": {}
        },
        {
          "output_type": "display_data",
          "data": {
            "text/plain": [
              "<IPython.core.display.HTML object>"
            ],
            "text/html": [
              "\n",
              "  <style>\n",
              "    pre {\n",
              "        white-space: pre-wrap;\n",
              "    }\n",
              "  </style>\n",
              "  "
            ]
          },
          "metadata": {}
        },
        {
          "output_type": "display_data",
          "data": {
            "text/plain": [
              "<IPython.core.display.HTML object>"
            ],
            "text/html": [
              "\n",
              "  <style>\n",
              "    pre {\n",
              "        white-space: pre-wrap;\n",
              "    }\n",
              "  </style>\n",
              "  "
            ]
          },
          "metadata": {}
        }
      ]
    },
    {
      "cell_type": "code",
      "source": [
        "c = 0\n",
        "for k, word in dictionary.iteritems():\n",
        "  c += 1\n",
        "  print(k, word)\n",
        "  if c > 15:\n",
        "    break"
      ],
      "metadata": {
        "colab": {
          "base_uri": "https://localhost:8080/",
          "height": 308
        },
        "id": "_dhsORhX4fHo",
        "outputId": "fb10c933-9524-48b9-870a-0d70df7330ab"
      },
      "execution_count": null,
      "outputs": [
        {
          "output_type": "display_data",
          "data": {
            "text/plain": [
              "<IPython.core.display.HTML object>"
            ],
            "text/html": [
              "\n",
              "  <style>\n",
              "    pre {\n",
              "        white-space: pre-wrap;\n",
              "    }\n",
              "  </style>\n",
              "  "
            ]
          },
          "metadata": {}
        },
        {
          "output_type": "display_data",
          "data": {
            "text/plain": [
              "<IPython.core.display.HTML object>"
            ],
            "text/html": [
              "\n",
              "  <style>\n",
              "    pre {\n",
              "        white-space: pre-wrap;\n",
              "    }\n",
              "  </style>\n",
              "  "
            ]
          },
          "metadata": {}
        },
        {
          "output_type": "display_data",
          "data": {
            "text/plain": [
              "<IPython.core.display.HTML object>"
            ],
            "text/html": [
              "\n",
              "  <style>\n",
              "    pre {\n",
              "        white-space: pre-wrap;\n",
              "    }\n",
              "  </style>\n",
              "  "
            ]
          },
          "metadata": {}
        },
        {
          "output_type": "stream",
          "name": "stdout",
          "text": [
            "0 accid\n",
            "1 activ\n",
            "2 add\n",
            "3 admir\n",
            "4 agre\n",
            "5 altogeth\n",
            "6 ampl\n",
            "7 answer\n",
            "8 anytim\n",
            "9 appar\n",
            "10 appl\n",
            "11 arm\n",
            "12 artist\n",
            "13 assort\n",
            "14 attend\n",
            "15 basilica\n"
          ]
        }
      ]
    },
    {
      "cell_type": "markdown",
      "source": [
        "This step creates a count of words for each hotel. The word ID is first in the tuple, and frequency is second. We can use the dictionary to decode it."
      ],
      "metadata": {
        "id": "Lm2bkXWK5Rr0"
      }
    },
    {
      "cell_type": "code",
      "source": [
        "bow_corpus = [dictionary.doc2bow(doc) for doc in hotel_bagofwords2['p_words']]\n",
        "bow_corpus[2][:10]"
      ],
      "metadata": {
        "colab": {
          "base_uri": "https://localhost:8080/",
          "height": 199
        },
        "id": "iXUWk8gX4gTL",
        "outputId": "a76a09eb-061d-4792-a449-beaf4a060228"
      },
      "execution_count": null,
      "outputs": [
        {
          "output_type": "display_data",
          "data": {
            "text/plain": [
              "<IPython.core.display.HTML object>"
            ],
            "text/html": [
              "\n",
              "  <style>\n",
              "    pre {\n",
              "        white-space: pre-wrap;\n",
              "    }\n",
              "  </style>\n",
              "  "
            ]
          },
          "metadata": {}
        },
        {
          "output_type": "display_data",
          "data": {
            "text/plain": [
              "<IPython.core.display.HTML object>"
            ],
            "text/html": [
              "\n",
              "  <style>\n",
              "    pre {\n",
              "        white-space: pre-wrap;\n",
              "    }\n",
              "  </style>\n",
              "  "
            ]
          },
          "metadata": {}
        },
        {
          "output_type": "display_data",
          "data": {
            "text/plain": [
              "<IPython.core.display.HTML object>"
            ],
            "text/html": [
              "\n",
              "  <style>\n",
              "    pre {\n",
              "        white-space: pre-wrap;\n",
              "    }\n",
              "  </style>\n",
              "  "
            ]
          },
          "metadata": {}
        },
        {
          "output_type": "execute_result",
          "data": {
            "text/plain": [
              "[(1, 2),\n",
              " (6, 1),\n",
              " (28, 1),\n",
              " (30, 1),\n",
              " (33, 1),\n",
              " (36, 2),\n",
              " (43, 1),\n",
              " (46, 4),\n",
              " (49, 1),\n",
              " (50, 1)]"
            ]
          },
          "metadata": {},
          "execution_count": 261
        }
      ]
    },
    {
      "cell_type": "code",
      "source": [
        "bow_hotel_3 = bow_corpus[2]\n",
        "for i in range(len(bow_hotel_3)):\n",
        "    print(\"word {} (\\\"{}\\\") appears {} times.\".format(bow_hotel_3[i][0],\n",
        "                        dictionary[bow_hotel_3[i][0]], bow_hotel_3[i][1]))"
      ],
      "metadata": {
        "id": "CxQ7Akqc5Q7k",
        "colab": {
          "base_uri": "https://localhost:8080/",
          "height": 1000
        },
        "outputId": "72b41f30-d89f-4d99-bcd2-043cae59701e"
      },
      "execution_count": null,
      "outputs": [
        {
          "output_type": "display_data",
          "data": {
            "text/plain": [
              "<IPython.core.display.HTML object>"
            ],
            "text/html": [
              "\n",
              "  <style>\n",
              "    pre {\n",
              "        white-space: pre-wrap;\n",
              "    }\n",
              "  </style>\n",
              "  "
            ]
          },
          "metadata": {}
        },
        {
          "output_type": "display_data",
          "data": {
            "text/plain": [
              "<IPython.core.display.HTML object>"
            ],
            "text/html": [
              "\n",
              "  <style>\n",
              "    pre {\n",
              "        white-space: pre-wrap;\n",
              "    }\n",
              "  </style>\n",
              "  "
            ]
          },
          "metadata": {}
        },
        {
          "output_type": "display_data",
          "data": {
            "text/plain": [
              "<IPython.core.display.HTML object>"
            ],
            "text/html": [
              "\n",
              "  <style>\n",
              "    pre {\n",
              "        white-space: pre-wrap;\n",
              "    }\n",
              "  </style>\n",
              "  "
            ]
          },
          "metadata": {}
        },
        {
          "output_type": "stream",
          "name": "stdout",
          "text": [
            "word 1 (\"activ\") appears 2 times.\n",
            "word 6 (\"ampl\") appears 1 times.\n",
            "word 28 (\"chat\") appears 1 times.\n",
            "word 30 (\"chill\") appears 1 times.\n",
            "word 33 (\"classic\") appears 1 times.\n",
            "word 36 (\"compani\") appears 2 times.\n",
            "word 43 (\"courteous\") appears 1 times.\n",
            "word 46 (\"cruis\") appears 4 times.\n",
            "word 49 (\"daughter\") appears 1 times.\n",
            "word 50 (\"decis\") appears 1 times.\n",
            "word 56 (\"detail\") appears 1 times.\n",
            "word 60 (\"eager\") appears 1 times.\n",
            "word 63 (\"effici\") appears 3 times.\n",
            "word 64 (\"eleg\") appears 2 times.\n",
            "word 68 (\"enter\") appears 1 times.\n",
            "word 76 (\"ferri\") appears 1 times.\n",
            "word 81 (\"foot\") appears 2 times.\n",
            "word 83 (\"fourth\") appears 1 times.\n",
            "word 86 (\"gift\") appears 1 times.\n",
            "word 87 (\"girl\") appears 1 times.\n",
            "word 94 (\"hagia\") appears 7 times.\n",
            "word 99 (\"haya\") appears 1 times.\n",
            "word 101 (\"highlight\") appears 2 times.\n",
            "word 102 (\"honest\") appears 1 times.\n",
            "word 106 (\"husband\") appears 2 times.\n",
            "word 108 (\"imagin\") appears 2 times.\n",
            "word 113 (\"introduc\") appears 1 times.\n",
            "word 118 (\"knowledg\") appears 2 times.\n",
            "word 120 (\"landmark\") appears 2 times.\n",
            "word 122 (\"late\") appears 1 times.\n",
            "word 128 (\"lose\") appears 1 times.\n",
            "word 129 (\"luggag\") appears 1 times.\n",
            "word 140 (\"museum\") appears 1 times.\n",
            "word 142 (\"neat\") appears 1 times.\n",
            "word 156 (\"pack\") appears 1 times.\n",
            "word 161 (\"pleas\") appears 1 times.\n",
            "word 162 (\"popular\") appears 3 times.\n",
            "word 166 (\"privat\") appears 1 times.\n",
            "word 171 (\"proxim\") appears 1 times.\n",
            "word 177 (\"refresh\") appears 2 times.\n",
            "word 179 (\"regret\") appears 2 times.\n",
            "word 182 (\"repres\") appears 1 times.\n",
            "word 183 (\"requir\") appears 1 times.\n",
            "word 186 (\"rest\") appears 1 times.\n",
            "word 204 (\"smaller\") appears 2 times.\n",
            "word 205 (\"sofia\") appears 1 times.\n",
            "word 211 (\"spread\") appears 2 times.\n",
            "word 222 (\"sweet\") appears 1 times.\n",
            "word 227 (\"ticket\") appears 1 times.\n",
            "word 230 (\"topkapi\") appears 1 times.\n",
            "word 236 (\"uber\") appears 1 times.\n",
            "word 248 (\"wine\") appears 1 times.\n",
            "word 254 (\"addit\") appears 1 times.\n",
            "word 273 (\"april\") appears 2 times.\n",
            "word 281 (\"bakeri\") appears 1 times.\n",
            "word 288 (\"bother\") appears 1 times.\n",
            "word 290 (\"brilliant\") appears 1 times.\n",
            "word 298 (\"cherri\") appears 1 times.\n",
            "word 300 (\"cigarett\") appears 1 times.\n",
            "word 301 (\"classi\") appears 1 times.\n",
            "word 307 (\"concern\") appears 1 times.\n",
            "word 315 (\"crowd\") appears 2 times.\n",
            "word 322 (\"decent\") appears 2 times.\n",
            "word 333 (\"drop\") appears 1 times.\n",
            "word 337 (\"eat\") appears 1 times.\n",
            "word 339 (\"end\") appears 1 times.\n",
            "word 341 (\"entranc\") appears 1 times.\n",
            "word 347 (\"exact\") appears 2 times.\n",
            "word 360 (\"find\") appears 1 times.\n",
            "word 361 (\"fix\") appears 2 times.\n",
            "word 381 (\"hammam\") appears 3 times.\n",
            "word 385 (\"helpful\") appears 1 times.\n",
            "word 391 (\"indoor\") appears 2 times.\n",
            "word 393 (\"insist\") appears 1 times.\n",
            "word 397 (\"intern\") appears 1 times.\n",
            "word 400 (\"jacuzzi\") appears 2 times.\n",
            "word 404 (\"king\") appears 1 times.\n",
            "word 409 (\"layov\") appears 2 times.\n",
            "word 421 (\"marmara\") appears 1 times.\n",
            "word 422 (\"massag\") appears 5 times.\n",
            "word 423 (\"massiv\") appears 1 times.\n",
            "word 430 (\"meter\") appears 1 times.\n",
            "word 431 (\"mind\") appears 2 times.\n",
            "word 438 (\"music\") appears 1 times.\n",
            "word 449 (\"oper\") appears 1 times.\n",
            "word 450 (\"opinion\") appears 1 times.\n",
            "word 454 (\"outdoor\") appears 2 times.\n",
            "word 456 (\"park\") appears 1 times.\n",
            "word 461 (\"past\") appears 1 times.\n",
            "word 466 (\"personnel\") appears 1 times.\n",
            "word 475 (\"prayer\") appears 1 times.\n",
            "word 490 (\"respons\") appears 2 times.\n",
            "word 493 (\"sauna\") appears 2 times.\n",
            "word 497 (\"search\") appears 1 times.\n",
            "word 499 (\"seat\") appears 3 times.\n",
            "word 500 (\"seaview\") appears 1 times.\n",
            "word 504 (\"shake\") appears 1 times.\n",
            "word 505 (\"shame\") appears 1 times.\n",
            "word 510 (\"shuttl\") appears 1 times.\n",
            "word 515 (\"sleeper\") appears 1 times.\n",
            "word 516 (\"smoke\") appears 1 times.\n",
            "word 518 (\"snack\") appears 2 times.\n",
            "word 523 (\"speed\") appears 1 times.\n",
            "word 529 (\"support\") appears 1 times.\n",
            "word 533 (\"term\") appears 2 times.\n",
            "word 540 (\"transit\") appears 1 times.\n",
            "word 552 (\"visibl\") appears 1 times.\n",
            "word 553 (\"waiter\") appears 1 times.\n",
            "word 561 (\"weather\") appears 2 times.\n",
            "word 562 (\"wed\") appears 1 times.\n",
            "word 564 (\"wide\") appears 2 times.\n",
            "word 566 (\"wont\") appears 1 times.\n",
            "word 571 (\"adapt\") appears 1 times.\n",
            "word 572 (\"adjust\") appears 1 times.\n",
            "word 573 (\"afford\") appears 1 times.\n",
            "word 574 (\"afternoon\") appears 1 times.\n",
            "word 575 (\"aggress\") appears 1 times.\n",
            "word 576 (\"anil\") appears 2 times.\n",
            "word 577 (\"anniversari\") appears 1 times.\n",
            "word 578 (\"anybodi\") appears 1 times.\n",
            "word 579 (\"appropri\") appears 1 times.\n",
            "word 580 (\"arang\") appears 1 times.\n",
            "word 581 (\"arasta\") appears 1 times.\n",
            "word 582 (\"aspect\") appears 1 times.\n",
            "word 583 (\"asset\") appears 1 times.\n",
            "word 584 (\"authent\") appears 1 times.\n",
            "word 585 (\"averag\") appears 1 times.\n",
            "word 586 (\"babi\") appears 1 times.\n",
            "word 587 (\"baggag\") appears 1 times.\n",
            "word 588 (\"balloon\") appears 2 times.\n",
            "word 589 (\"bar\") appears 1 times.\n",
            "word 590 (\"bell\") appears 1 times.\n",
            "word 591 (\"birthday\") appears 3 times.\n",
            "word 592 (\"blow\") appears 2 times.\n",
            "word 593 (\"bosphor\") appears 1 times.\n",
            "word 594 (\"bosphorus\") appears 2 times.\n",
            "word 595 (\"bounti\") appears 1 times.\n",
            "word 596 (\"brew\") appears 1 times.\n",
            "word 597 (\"cake\") appears 4 times.\n",
            "word 598 (\"calm\") appears 2 times.\n",
            "word 599 (\"card\") appears 1 times.\n",
            "word 600 (\"celebr\") appears 3 times.\n",
            "word 601 (\"chain\") appears 1 times.\n",
            "word 602 (\"chanc\") appears 1 times.\n",
            "word 603 (\"chaotic\") appears 1 times.\n",
            "word 604 (\"charact\") appears 1 times.\n",
            "word 605 (\"charger\") appears 1 times.\n",
            "word 606 (\"children\") appears 2 times.\n",
            "word 607 (\"combin\") appears 1 times.\n",
            "word 608 (\"complex\") appears 1 times.\n",
            "word 609 (\"compliment\") appears 1 times.\n",
            "word 610 (\"construct\") appears 1 times.\n",
            "word 611 (\"continent\") appears 2 times.\n",
            "word 612 (\"contribut\") appears 1 times.\n",
            "word 613 (\"convert\") appears 1 times.\n",
            "word 614 (\"cooper\") appears 1 times.\n",
            "word 615 (\"cuisin\") appears 1 times.\n",
            "word 616 (\"delay\") appears 1 times.\n",
            "word 617 (\"delux\") appears 1 times.\n",
            "word 618 (\"desir\") appears 2 times.\n",
            "word 619 (\"destin\") appears 2 times.\n",
            "word 620 (\"dish\") appears 1 times.\n",
            "word 621 (\"downstair\") appears 1 times.\n",
            "word 622 (\"drive\") appears 1 times.\n",
            "word 623 (\"driver\") appears 1 times.\n",
            "word 624 (\"eas\") appears 1 times.\n",
            "word 625 (\"environ\") appears 1 times.\n",
            "word 626 (\"everybodi\") appears 1 times.\n",
            "word 627 (\"exceed\") appears 1 times.\n",
            "word 628 (\"excurs\") appears 1 times.\n",
            "word 629 (\"fast\") appears 1 times.\n",
            "word 630 (\"fault\") appears 1 times.\n",
            "word 631 (\"februari\") appears 1 times.\n",
            "word 632 (\"gentleman\") appears 2 times.\n",
            "word 633 (\"gorgeous\") appears 1 times.\n",
            "word 634 (\"gotta\") appears 1 times.\n",
            "word 635 (\"groceri\") appears 1 times.\n",
            "word 636 (\"group\") appears 1 times.\n",
            "word 637 (\"hamam\") appears 1 times.\n",
            "word 638 (\"hectic\") appears 1 times.\n",
            "word 639 (\"highest\") appears 1 times.\n",
            "word 640 (\"hippodrom\") appears 2 times.\n",
            "word 641 (\"histori\") appears 1 times.\n",
            "word 642 (\"hustl\") appears 1 times.\n",
            "word 643 (\"initi\") appears 1 times.\n",
            "word 644 (\"insight\") appears 1 times.\n",
            "word 645 (\"interior\") appears 2 times.\n",
            "word 646 (\"island\") appears 2 times.\n",
            "word 647 (\"lend\") appears 1 times.\n",
            "word 648 (\"let\") appears 1 times.\n",
            "word 649 (\"linen\") appears 1 times.\n",
            "word 650 (\"mansion\") appears 11 times.\n",
            "word 651 (\"marbella\") appears 1 times.\n",
            "word 652 (\"maximum\") appears 1 times.\n",
            "word 653 (\"memor\") appears 5 times.\n",
            "word 654 (\"midnight\") appears 1 times.\n",
            "word 655 (\"milk\") appears 3 times.\n",
            "word 656 (\"monument\") appears 1 times.\n",
            "word 657 (\"move\") appears 1 times.\n",
            "word 658 (\"murat\") appears 4 times.\n",
            "word 659 (\"notifi\") appears 1 times.\n",
            "word 660 (\"obstruct\") appears 1 times.\n",
            "word 661 (\"omelet\") appears 1 times.\n",
            "word 662 (\"omelett\") appears 1 times.\n",
            "word 663 (\"omlett\") appears 1 times.\n",
            "word 664 (\"organ\") appears 2 times.\n",
            "word 665 (\"pancak\") appears 1 times.\n",
            "word 666 (\"pizza\") appears 1 times.\n",
            "word 667 (\"polat\") appears 1 times.\n",
            "word 668 (\"propos\") appears 1 times.\n",
            "word 669 (\"rang\") appears 1 times.\n",
            "word 670 (\"research\") appears 1 times.\n",
            "word 671 (\"resid\") appears 1 times.\n",
            "word 672 (\"rich\") appears 1 times.\n",
            "word 673 (\"river\") appears 1 times.\n",
            "word 674 (\"roman\") appears 1 times.\n",
            "word 675 (\"roomi\") appears 1 times.\n",
            "word 676 (\"ruin\") appears 1 times.\n",
            "word 677 (\"safer\") appears 1 times.\n",
            "word 678 (\"sandwich\") appears 1 times.\n",
            "word 679 (\"save\") appears 1 times.\n",
            "word 680 (\"scrub\") appears 1 times.\n",
            "word 681 (\"separ\") appears 2 times.\n",
            "word 682 (\"sept\") appears 1 times.\n",
            "word 683 (\"shelter\") appears 1 times.\n",
            "word 684 (\"slight\") appears 3 times.\n",
            "word 685 (\"smiley\") appears 2 times.\n",
            "word 686 (\"sofa\") appears 2 times.\n",
            "word 687 (\"somewhat\") appears 1 times.\n",
            "word 688 (\"son\") appears 1 times.\n",
            "word 689 (\"sooooo\") appears 1 times.\n",
            "word 690 (\"spare\") appears 1 times.\n",
            "word 691 (\"specif\") appears 1 times.\n",
            "word 692 (\"success\") appears 1 times.\n",
            "word 693 (\"sultanhamet\") appears 1 times.\n",
            "word 694 (\"summer\") appears 1 times.\n",
            "word 695 (\"supervisor\") appears 1 times.\n",
            "word 696 (\"teenag\") appears 1 times.\n",
            "word 697 (\"thankyou\") appears 2 times.\n",
            "word 698 (\"theyll\") appears 1 times.\n",
            "word 699 (\"thorough\") appears 1 times.\n",
            "word 700 (\"thousand\") appears 1 times.\n",
            "word 701 (\"tight\") appears 1 times.\n",
            "word 702 (\"toast\") appears 1 times.\n",
            "word 703 (\"touristi\") appears 1 times.\n",
            "word 704 (\"treatment\") appears 1 times.\n",
            "word 705 (\"typic\") appears 1 times.\n",
            "word 706 (\"villag\") appears 1 times.\n",
            "word 707 (\"visitor\") appears 1 times.\n",
            "word 708 (\"warmth\") appears 1 times.\n",
            "word 709 (\"warn\") appears 1 times.\n",
            "word 710 (\"websit\") appears 1 times.\n",
            "word 711 (\"weve\") appears 1 times.\n",
            "word 712 (\"winter\") appears 1 times.\n",
            "word 713 (\"word\") appears 1 times.\n",
            "word 714 (\"yunus\") appears 1 times.\n"
          ]
        }
      ]
    },
    {
      "cell_type": "markdown",
      "source": [
        " With the bag of words with frequency for each hotel, we now just have to figure out the most 'important' words. We can use gensim LDA to do this, and also print out the topics in order of word importance.\n",
        " - We have to manually determine the number of topics. We tried multiple runs with different values and found 5 to be a good amount without getting overly specific (like one cluster being one large hotel).\n",
        " - Each time the LDA is run, results may differ. We can run multiple times to find better results. It's better if topics are not overlapping.\n",
        " - The first 1-5 most important words are what we can use to infer the 'topic'."
      ],
      "metadata": {
        "id": "uU7WDqMn6Ndn"
      }
    },
    {
      "cell_type": "code",
      "source": [
        "# np.random.seed(37) # LDA is not deterministic, I ran a few times and this is a good seed.\n",
        "lda_model = gensim.models.LdaMulticore(bow_corpus, num_topics=5, id2word=dictionary, passes=3, workers=2, chunksize=100, random_state=29)"
      ],
      "metadata": {
        "id": "9-JehUiI5mV4",
        "colab": {
          "base_uri": "https://localhost:8080/",
          "height": 53
        },
        "outputId": "1f3a809b-77c3-4753-8527-b73d26f53777"
      },
      "execution_count": null,
      "outputs": [
        {
          "output_type": "display_data",
          "data": {
            "text/plain": [
              "<IPython.core.display.HTML object>"
            ],
            "text/html": [
              "\n",
              "  <style>\n",
              "    pre {\n",
              "        white-space: pre-wrap;\n",
              "    }\n",
              "  </style>\n",
              "  "
            ]
          },
          "metadata": {}
        },
        {
          "output_type": "display_data",
          "data": {
            "text/plain": [
              "<IPython.core.display.HTML object>"
            ],
            "text/html": [
              "\n",
              "  <style>\n",
              "    pre {\n",
              "        white-space: pre-wrap;\n",
              "    }\n",
              "  </style>\n",
              "  "
            ]
          },
          "metadata": {}
        },
        {
          "output_type": "display_data",
          "data": {
            "text/plain": [
              "<IPython.core.display.HTML object>"
            ],
            "text/html": [
              "\n",
              "  <style>\n",
              "    pre {\n",
              "        white-space: pre-wrap;\n",
              "    }\n",
              "  </style>\n",
              "  "
            ]
          },
          "metadata": {}
        },
        {
          "output_type": "stream",
          "name": "stderr",
          "text": [
            "WARNING:gensim.models.ldamulticore:too few updates, training might not converge; consider increasing the number of passes or iterations to improve accuracy\n"
          ]
        }
      ]
    },
    {
      "cell_type": "code",
      "source": [
        "for id, topic in lda_model.print_topics(-1):\n",
        "  print(f'topic: {id}\\nwords: {topic}')"
      ],
      "metadata": {
        "colab": {
          "base_uri": "https://localhost:8080/",
          "height": 290
        },
        "id": "TEGKcH596d2b",
        "outputId": "3d5a898b-8b49-4b90-f65e-fb229e66710f"
      },
      "execution_count": null,
      "outputs": [
        {
          "output_type": "display_data",
          "data": {
            "text/plain": [
              "<IPython.core.display.HTML object>"
            ],
            "text/html": [
              "\n",
              "  <style>\n",
              "    pre {\n",
              "        white-space: pre-wrap;\n",
              "    }\n",
              "  </style>\n",
              "  "
            ]
          },
          "metadata": {}
        },
        {
          "output_type": "display_data",
          "data": {
            "text/plain": [
              "<IPython.core.display.HTML object>"
            ],
            "text/html": [
              "\n",
              "  <style>\n",
              "    pre {\n",
              "        white-space: pre-wrap;\n",
              "    }\n",
              "  </style>\n",
              "  "
            ]
          },
          "metadata": {}
        },
        {
          "output_type": "display_data",
          "data": {
            "text/plain": [
              "<IPython.core.display.HTML object>"
            ],
            "text/html": [
              "\n",
              "  <style>\n",
              "    pre {\n",
              "        white-space: pre-wrap;\n",
              "    }\n",
              "  </style>\n",
              "  "
            ]
          },
          "metadata": {}
        },
        {
          "output_type": "stream",
          "name": "stdout",
          "text": [
            "topic: 0\n",
            "words: 0.016*\"bosphorus\" + 0.016*\"hostel\" + 0.010*\"pool\" + 0.009*\"shuttl\" + 0.007*\"wed\" + 0.007*\"galata\" + 0.005*\"tower\" + 0.005*\"secur\" + 0.005*\"ultra\" + 0.004*\"bridg\"\n",
            "topic: 1\n",
            "words: 0.017*\"shuttl\" + 0.010*\"walnut\" + 0.009*\"shell\" + 0.008*\"hagia\" + 0.006*\"elev\" + 0.005*\"mansion\" + 0.005*\"galata\" + 0.004*\"massag\" + 0.004*\"bosphorus\" + 0.004*\"stair\"\n",
            "topic: 2\n",
            "words: 0.026*\"hagia\" + 0.009*\"topkapi\" + 0.008*\"hostel\" + 0.008*\"white\" + 0.007*\"sofia\" + 0.006*\"bosphorus\" + 0.005*\"pool\" + 0.004*\"late\" + 0.004*\"sultan\" + 0.004*\"cheer\"\n",
            "topic: 3\n",
            "words: 0.020*\"galata\" + 0.010*\"tower\" + 0.007*\"zeynep\" + 0.007*\"kitchen\" + 0.007*\"istikl\" + 0.007*\"card\" + 0.006*\"hill\" + 0.005*\"wine\" + 0.005*\"phone\" + 0.004*\"stair\"\n",
            "topic: 4\n",
            "words: 0.018*\"jazz\" + 0.010*\"amira\" + 0.009*\"music\" + 0.008*\"hagia\" + 0.008*\"omar\" + 0.004*\"istikl\" + 0.004*\"final\" + 0.004*\"galata\" + 0.004*\"compar\" + 0.004*\"cake\"\n"
          ]
        }
      ]
    },
    {
      "cell_type": "markdown",
      "source": [
        "### Visualize clusters"
      ],
      "metadata": {
        "id": "4qcsrCqbFbGI"
      }
    },
    {
      "cell_type": "markdown",
      "source": [
        "Visualization of LDA topics with help of: https://medium.com/analytics-vidhya/topic-modeling-using-gensim-lda-in-python-48eaa2344920\n",
        "- It is an interactive graph.\n",
        "- Hover over topic circles to get more info on it."
      ],
      "metadata": {
        "id": "KX2zJr709hmi"
      }
    },
    {
      "cell_type": "code",
      "source": [
        "pyLDAvis.enable_notebook()\n",
        "vis = pyLDAvis.gensim.prepare(lda_model, bow_corpus, dictionary, R=10)\n",
        "vis"
      ],
      "metadata": {
        "colab": {
          "base_uri": "https://localhost:8080/",
          "height": 916
        },
        "id": "GDQHMyUZ6pOU",
        "outputId": "baac90ad-b812-41a9-d76a-66f21c72d277"
      },
      "execution_count": null,
      "outputs": [
        {
          "output_type": "display_data",
          "data": {
            "text/plain": [
              "<IPython.core.display.HTML object>"
            ],
            "text/html": [
              "\n",
              "  <style>\n",
              "    pre {\n",
              "        white-space: pre-wrap;\n",
              "    }\n",
              "  </style>\n",
              "  "
            ]
          },
          "metadata": {}
        },
        {
          "output_type": "display_data",
          "data": {
            "text/plain": [
              "<IPython.core.display.HTML object>"
            ],
            "text/html": [
              "\n",
              "  <style>\n",
              "    pre {\n",
              "        white-space: pre-wrap;\n",
              "    }\n",
              "  </style>\n",
              "  "
            ]
          },
          "metadata": {}
        },
        {
          "output_type": "display_data",
          "data": {
            "text/plain": [
              "<IPython.core.display.HTML object>"
            ],
            "text/html": [
              "\n",
              "  <style>\n",
              "    pre {\n",
              "        white-space: pre-wrap;\n",
              "    }\n",
              "  </style>\n",
              "  "
            ]
          },
          "metadata": {}
        },
        {
          "output_type": "stream",
          "name": "stderr",
          "text": [
            "/usr/local/lib/python3.9/dist-packages/pyLDAvis/_prepare.py:243: FutureWarning: In a future version of pandas all arguments of DataFrame.drop except for the argument 'labels' will be keyword-only.\n",
            "  default_term_info = default_term_info.sort_values(\n"
          ]
        },
        {
          "output_type": "execute_result",
          "data": {
            "text/plain": [
              "PreparedData(topic_coordinates=              x         y  topics  cluster       Freq\n",
              "topic                                                \n",
              "3     -0.012016 -0.060267       1        1  36.206309\n",
              "0      0.092211 -0.000492       2        1  19.529272\n",
              "2     -0.018493  0.070530       3        1  18.793783\n",
              "4     -0.056915 -0.011103       4        1  15.873770\n",
              "1     -0.004787  0.001332       5        1   9.596866, topic_info=           Term        Freq       Total Category  logprob  loglift\n",
              "94        hagia  117.000000  117.000000  Default  10.0000  10.0000\n",
              "1021       jazz   53.000000   53.000000  Default   9.0000   9.0000\n",
              "387      hostel   71.000000   71.000000  Default   8.0000   8.0000\n",
              "510      shuttl   70.000000   70.000000  Default   7.0000   7.0000\n",
              "594   bosphorus   78.000000   78.000000  Default   6.0000   6.0000\n",
              "...         ...         ...         ...      ...      ...      ...\n",
              "94        hagia   11.016229  117.194916   Topic5  -4.8113  -0.0207\n",
              "653       memor    4.528672   17.706434   Topic5  -5.7003   0.9802\n",
              "1091      stair    5.115428   34.658650   Topic5  -5.5784   0.4304\n",
              "797      galata    6.241960  137.244509   Topic5  -5.3794  -0.7467\n",
              "594   bosphorus    5.231504   78.085782   Topic5  -5.5560  -0.3594\n",
              "\n",
              "[122 rows x 6 columns], token_table=      Topic      Freq    Term\n",
              "term                         \n",
              "720       1  0.144174  affect\n",
              "720       3  0.144174  affect\n",
              "720       4  0.576694  affect\n",
              "573       1  0.457710  afford\n",
              "573       2  0.050857  afford\n",
              "...     ...       ...     ...\n",
              "570       1  0.875164  zeynep\n",
              "570       2  0.046061  zeynep\n",
              "570       3  0.023031  zeynep\n",
              "570       4  0.023031  zeynep\n",
              "570       5  0.046061  zeynep\n",
              "\n",
              "[338 rows x 3 columns], R=10, lambda_step=0.01, plot_opts={'xlab': 'PC1', 'ylab': 'PC2'}, topic_order=[4, 1, 3, 5, 2])"
            ],
            "text/html": [
              "\n",
              "<link rel=\"stylesheet\" type=\"text/css\" href=\"https://cdn.jsdelivr.net/gh/bmabey/pyLDAvis@3.4.0/pyLDAvis/js/ldavis.v1.0.0.css\">\n",
              "\n",
              "\n",
              "<div id=\"ldavis_el1231402751949748329031663975\" style=\"background-color:white;\"></div>\n",
              "<script type=\"text/javascript\">\n",
              "\n",
              "var ldavis_el1231402751949748329031663975_data = {\"mdsDat\": {\"x\": [-0.012016173976413002, 0.09221125401015627, -0.018493414470311963, -0.05691495487708311, -0.004786710686348078], \"y\": [-0.06026667476401227, -0.0004923735890231684, 0.07052987708079121, -0.011103302350504366, 0.0013324736227486355], \"topics\": [1, 2, 3, 4, 5], \"cluster\": [1, 1, 1, 1, 1], \"Freq\": [36.206308685128406, 19.529271786032833, 18.793783364358116, 15.873769785637016, 9.596866378843634]}, \"tinfo\": {\"Term\": [\"hagia\", \"jazz\", \"hostel\", \"shuttl\", \"bosphorus\", \"walnut\", \"shell\", \"amira\", \"omar\", \"white\", \"zeynep\", \"mobil\", \"appart\", \"airbnb\", \"supermarket\", \"packag\", \"fatih\", \"galleri\", \"school\", \"kitchenett\", \"hill\", \"galata\", \"card\", \"kitchen\", \"tower\", \"istikl\", \"wine\", \"phone\", \"river\", \"stair\", \"ultra\", \"wave\", \"radisson\", \"outlet\", \"florya\", \"remot\", \"weav\", \"wast\", \"plaza\", \"thump\", \"crown\", \"wed\", \"hostel\", \"bosphorus\", \"pool\", \"secur\", \"shuttl\", \"galata\", \"tower\", \"bridg\", \"harun\", \"white\", \"tripl\", \"valid\", \"letter\", \"agoda\", \"beautiful\", \"reflect\", \"plant\", \"raini\", \"ramazan\", \"hagia\", \"topkapi\", \"amir\", \"cheer\", \"sofia\", \"stain\", \"concierg\", \"hostel\", \"marmara\", \"museum\", \"egg\", \"bosphorus\", \"late\", \"pool\", \"sultan\", \"omar\", \"jazz\", \"itinerari\", \"link\", \"fullest\", \"amira\", \"omer\", \"livelihood\", \"homemad\", \"sublim\", \"affect\", \"music\", \"ibrahim\", \"cappadocia\", \"play\", \"cake\", \"ensur\", \"afford\", \"youll\", \"hagia\", \"final\", \"compar\", \"istikl\", \"galata\", \"roll\", \"sept\", \"walnut\", \"baggag\", \"arang\", \"schedul\", \"form\", \"shell\", \"smiley\", \"button\", \"mansion\", \"shuttl\", \"massag\", \"layov\", \"occas\", \"elev\", \"slight\", \"hagia\", \"memor\", \"stair\", \"galata\", \"bosphorus\"], \"Freq\": [117.0, 53.0, 71.0, 70.0, 78.0, 22.0, 24.0, 34.0, 24.0, 29.0, 38.21225800778574, 12.041769932626558, 6.3748644313728065, 7.928382370774128, 8.678934095065614, 5.399626085209699, 5.3304918772351275, 9.054207578788633, 11.0865715817448, 5.177109774075312, 32.84462170823715, 100.628496829233, 33.594885643378824, 37.4960649781902, 52.99920701808778, 35.020987909728525, 23.855294528378117, 23.15982945283734, 19.3309946020746, 20.82790251296938, 13.742782300287965, 4.909390152550045, 11.449859061554104, 3.3582517416518263, 9.16550940483588, 2.602980328055726, 2.6047098298146416, 2.5706281414676537, 11.472603493030272, 2.50111339608361, 11.862749583274695, 20.16601295960094, 43.96096673586821, 45.21827490524084, 27.261838113239254, 14.283957111584444, 24.54433205494094, 19.329533861329832, 14.854895068588357, 12.370712829223155, 5.114775565212917, 22.453383736079047, 7.548726245202894, 5.542366262792948, 2.442312640327376, 2.433981698796432, 2.3832286042152204, 2.385267203385785, 1.7408873020642672, 1.6931931864958438, 5.068162786842689, 70.0417563476165, 23.195563464997548, 3.9590382936709436, 10.338077446482203, 17.771947687242665, 6.031749200636854, 6.583454939225214, 22.502144682538166, 8.810487957725293, 10.068290374235579, 9.507881468438804, 15.501698218195658, 11.358420251324963, 12.193671214563745, 10.514798840015672, 18.340109453505388, 39.20594092288869, 2.5370398855249547, 2.482923445535111, 1.774771784428158, 22.01477915556879, 4.365042284282226, 1.613106515822299, 3.1953394786721514, 1.5736863615036971, 4.153081774195939, 20.246756643170155, 4.184094796482244, 3.551146553549617, 7.9305317577929255, 8.22929484054105, 7.004040494805074, 7.4770979880466735, 7.15886186080023, 18.737745591476614, 9.35530334391595, 8.566178145395524, 9.422403985990558, 8.597312388674249, 1.9216684097143912, 1.3712414154931643, 13.144078328833375, 1.2987156109973652, 1.2616511218540454, 3.6342629095504138, 1.9929883665230368, 12.008954372923318, 1.8731153489716261, 2.6649520730003657, 6.926664611252103, 22.57424791027655, 5.8794012615977, 4.009991872960112, 3.118748602293353, 8.565834476457725, 3.691598910309124, 11.016228562188246, 4.528671550096768, 5.115428114135058, 6.241959991556962, 5.231504389981656], \"Total\": [117.0, 53.0, 71.0, 70.0, 78.0, 22.0, 24.0, 34.0, 24.0, 29.0, 43.42044206751047, 14.072430183665023, 7.52681332693282, 9.394192654878728, 10.354468788472888, 6.568301362786367, 6.565415859115966, 11.252504090134263, 13.967351094216026, 6.524338575342293, 42.65135186963998, 137.24450881209805, 46.88315564960959, 53.90094962223668, 79.21113114739151, 55.42791039635396, 36.66023113304944, 37.29898373818638, 29.360713929175525, 34.658650243655515, 16.304346131067454, 6.3376962030393775, 15.343146127943246, 4.508631181472977, 12.517418898442578, 3.60174647500184, 3.6045003847912396, 3.5994376534087333, 16.188303243914042, 3.595417314923947, 17.05823891361707, 29.57875963115231, 71.89945526594343, 78.08578189019181, 51.88464590149096, 24.285612478199127, 70.12476659821039, 137.24450881209805, 79.21113114739151, 39.42883625549301, 6.695104018740881, 29.419564932412683, 10.156831984745468, 7.552615759038686, 3.3449277787129894, 3.3442596055303175, 3.3483632358612554, 3.3639493003121155, 2.5171054110298425, 2.516403379925543, 7.650314219453736, 117.19491568810336, 43.30332345016714, 5.953909559652664, 17.772106952868036, 39.13063162090023, 10.244950795176125, 11.527012736688631, 71.89945526594343, 18.88534772201268, 24.218885862009774, 23.36896459017075, 78.08578189019181, 36.62816465743735, 51.88464590149096, 37.519460041070964, 24.41377602572359, 53.07747811047643, 3.468242376825667, 3.4648246063712684, 2.597416038491956, 34.04702809337007, 6.907904669626649, 2.5990155317859247, 5.264588637648145, 2.5965211023716117, 6.936086768151958, 35.3914842449813, 7.040284622040344, 5.930426840852914, 18.72454750374349, 21.26228561135158, 17.55245597518365, 19.663115045597387, 18.305041291042187, 117.19491568810336, 30.724351218707795, 26.690421369183724, 55.42791039635396, 137.24450881209805, 3.0294867970012906, 2.2816756402114655, 22.654407585429116, 2.3174351272369833, 2.3302926386243557, 6.937219502980669, 3.880455458763779, 24.07893617260855, 3.8800724303683856, 5.524601566680392, 15.806427943837392, 70.12476659821039, 15.152366398356948, 9.561142378942233, 7.123905287750493, 31.61589268247384, 10.69059083725043, 117.19491568810336, 17.70643447603614, 34.658650243655515, 137.24450881209805, 78.08578189019181], \"Category\": [\"Default\", \"Default\", \"Default\", \"Default\", \"Default\", \"Default\", \"Default\", \"Default\", \"Default\", \"Default\", \"Topic1\", \"Topic1\", \"Topic1\", \"Topic1\", \"Topic1\", \"Topic1\", \"Topic1\", \"Topic1\", \"Topic1\", \"Topic1\", \"Topic1\", \"Topic1\", \"Topic1\", \"Topic1\", \"Topic1\", \"Topic1\", \"Topic1\", \"Topic1\", \"Topic1\", \"Topic1\", \"Topic2\", \"Topic2\", \"Topic2\", \"Topic2\", \"Topic2\", \"Topic2\", \"Topic2\", \"Topic2\", \"Topic2\", \"Topic2\", \"Topic2\", \"Topic2\", \"Topic2\", \"Topic2\", \"Topic2\", \"Topic2\", \"Topic2\", \"Topic2\", \"Topic2\", \"Topic2\", \"Topic3\", \"Topic3\", \"Topic3\", \"Topic3\", \"Topic3\", \"Topic3\", \"Topic3\", \"Topic3\", \"Topic3\", \"Topic3\", \"Topic3\", \"Topic3\", \"Topic3\", \"Topic3\", \"Topic3\", \"Topic3\", \"Topic3\", \"Topic3\", \"Topic3\", \"Topic3\", \"Topic3\", \"Topic3\", \"Topic3\", \"Topic3\", \"Topic3\", \"Topic3\", \"Topic4\", \"Topic4\", \"Topic4\", \"Topic4\", \"Topic4\", \"Topic4\", \"Topic4\", \"Topic4\", \"Topic4\", \"Topic4\", \"Topic4\", \"Topic4\", \"Topic4\", \"Topic4\", \"Topic4\", \"Topic4\", \"Topic4\", \"Topic4\", \"Topic4\", \"Topic4\", \"Topic4\", \"Topic4\", \"Topic4\", \"Topic4\", \"Topic5\", \"Topic5\", \"Topic5\", \"Topic5\", \"Topic5\", \"Topic5\", \"Topic5\", \"Topic5\", \"Topic5\", \"Topic5\", \"Topic5\", \"Topic5\", \"Topic5\", \"Topic5\", \"Topic5\", \"Topic5\", \"Topic5\", \"Topic5\", \"Topic5\", \"Topic5\", \"Topic5\", \"Topic5\"], \"logprob\": [10.0, 9.0, 8.0, 7.0, 6.0, 5.0, 4.0, 3.0, 2.0, 1.0, -4.8953, -6.0501, -6.6861, -6.468, -6.3776, -6.8522, -6.865, -6.3353, -6.1328, -6.8942, -5.0467, -3.9271, -5.0241, -4.9143, -4.5682, -4.9825, -5.3665, -5.3961, -5.5768, -5.5022, -5.3007, -6.33, -5.4832, -6.7098, -5.7057, -6.9645, -6.9638, -6.977, -5.4812, -7.0044, -5.4478, -4.9172, -4.1379, -4.1097, -4.6157, -5.262, -4.7207, -4.9595, -5.2228, -5.4058, -6.2506, -4.7713, -5.8614, -6.1704, -6.9898, -6.9933, -7.0143, -7.0135, -7.3284, -7.3562, -6.2598, -3.6337, -4.7388, -6.5068, -5.5469, -5.0052, -6.0857, -5.9982, -4.7692, -5.7068, -5.5734, -5.6307, -5.1418, -5.4528, -5.3819, -5.53, -4.8048, -4.0451, -6.7829, -6.8045, -7.1403, -4.6222, -6.2403, -7.2358, -6.5522, -7.2605, -6.2901, -4.7059, -6.2826, -6.4467, -5.6432, -5.6062, -5.7674, -5.7021, -5.7456, -4.7834, -5.478, -5.5661, -5.4708, -5.5625, -6.5575, -6.895, -4.6347, -6.9493, -6.9783, -5.9203, -6.5211, -4.725, -6.5831, -6.2305, -5.2753, -4.0939, -5.4392, -5.8219, -6.0733, -5.0629, -5.9046, -4.8113, -5.7003, -5.5784, -5.3794, -5.556], \"loglift\": [10.0, 9.0, 8.0, 7.0, 6.0, 5.0, 4.0, 3.0, 2.0, 1.0, 0.8882, 0.8601, 0.8498, 0.8463, 0.8394, 0.82, 0.8076, 0.7986, 0.7849, 0.7846, 0.7547, 0.7056, 0.6827, 0.653, 0.6141, 0.5568, 0.5863, 0.5394, 0.598, 0.5067, 1.4623, 1.3779, 1.3406, 1.3387, 1.3216, 1.3085, 1.3084, 1.2966, 1.2889, 1.2703, 1.27, 1.2502, 1.1413, 1.0869, 0.9897, 1.1025, 0.5835, -0.3269, -0.0405, 0.4741, 1.4024, 1.4014, 1.3749, 1.3622, 1.3571, 1.3539, 1.3316, 1.3278, 1.3029, 1.2754, 1.2599, 1.1569, 1.0474, 1.2636, 1.1298, 0.8824, 1.1419, 1.1115, 0.51, 0.9092, 0.7939, 0.7724, 0.0548, 0.5008, 0.2235, 0.3996, 1.5544, 1.5376, 1.5279, 1.5073, 1.4597, 1.4045, 1.3815, 1.3635, 1.3412, 1.3398, 1.3276, 1.282, 1.3201, 1.3277, 0.9814, 0.8913, 0.9218, 0.8736, 0.9017, 0.0072, 0.6514, 0.704, 0.0685, -0.9298, 1.8885, 1.8345, 1.7994, 1.7646, 1.7302, 1.6972, 1.6774, 1.648, 1.6155, 1.6147, 1.5187, 1.2103, 1.397, 1.4748, 1.5177, 1.0379, 1.2804, -0.0207, 0.9802, 0.4304, -0.7467, -0.3594]}, \"token.table\": {\"Topic\": [1, 3, 4, 1, 2, 3, 4, 5, 3, 1, 1, 3, 1, 2, 3, 4, 5, 1, 5, 5, 3, 1, 2, 3, 4, 5, 1, 2, 3, 4, 5, 2, 5, 1, 2, 3, 4, 5, 2, 4, 5, 1, 2, 3, 4, 5, 1, 2, 3, 4, 5, 1, 2, 3, 4, 5, 1, 2, 3, 4, 5, 1, 2, 3, 4, 5, 1, 2, 3, 4, 5, 1, 2, 3, 4, 5, 1, 2, 3, 4, 5, 1, 1, 2, 3, 4, 5, 1, 2, 3, 5, 4, 5, 4, 1, 2, 3, 4, 5, 1, 4, 1, 2, 3, 4, 5, 3, 4, 1, 2, 3, 4, 5, 1, 2, 4, 1, 2, 3, 4, 5, 1, 4, 1, 2, 3, 4, 5, 4, 1, 3, 4, 5, 1, 2, 3, 4, 5, 1, 3, 1, 2, 3, 4, 5, 2, 3, 4, 5, 3, 4, 4, 1, 2, 3, 4, 5, 1, 2, 3, 4, 5, 1, 2, 3, 4, 5, 1, 2, 3, 4, 5, 1, 5, 1, 2, 3, 4, 5, 1, 2, 3, 4, 5, 1, 2, 3, 4, 5, 1, 2, 3, 4, 1, 3, 4, 2, 1, 1, 2, 3, 4, 5, 3, 1, 2, 3, 4, 5, 1, 2, 3, 4, 1, 2, 3, 4, 5, 1, 2, 3, 4, 3, 1, 3, 4, 3, 2, 1, 2, 3, 4, 5, 5, 1, 2, 3, 4, 5, 1, 4, 5, 1, 2, 3, 4, 5, 5, 1, 2, 4, 5, 1, 2, 3, 4, 5, 1, 2, 3, 4, 5, 3, 5, 1, 2, 3, 4, 5, 1, 3, 4, 1, 2, 3, 4, 5, 4, 1, 2, 3, 4, 5, 1, 3, 2, 1, 2, 3, 4, 5, 1, 2, 3, 4, 5, 1, 3, 4, 2, 3, 5, 1, 3, 4, 1, 2, 4, 5, 2, 1, 2, 2, 1, 2, 3, 4, 5, 1, 2, 3, 4, 5, 1, 2, 3, 4, 5, 1, 2, 3, 4, 5, 1, 2, 3, 4, 5], \"Freq\": [0.14417351360015335, 0.14417351360015335, 0.5766940544006134, 0.45770977686544734, 0.05085664187393859, 0.05085664187393859, 0.35599649311757015, 0.05085664187393859, 0.5980396966469501, 0.851589944330695, 0.16795686766500656, 0.6718274706600262, 0.05874227831325628, 0.17622683493976882, 0.08811341746988441, 0.646165061445819, 0.02937113915662814, 0.7971501004987728, 0.4291306522730687, 0.4315115397393124, 0.5973067612796096, 0.12806428722276877, 0.5762892925024594, 0.20490285955643003, 0.025612857444553754, 0.06403214361138439, 0.5072429698508717, 0.30434578191052303, 0.050724296985087174, 0.07608644547763076, 0.050724296985087174, 0.36201705695163006, 0.5430255854274451, 0.14109489707909625, 0.0940632647193975, 0.23515816179849375, 0.37625305887759, 0.14109489707909625, 0.1686219266902178, 0.6744877067608712, 0.1686219266902178, 0.7252071565767806, 0.06398886675677476, 0.06398886675677476, 0.06398886675677476, 0.06398886675677476, 0.16880384570923734, 0.056267948569745777, 0.5626794856974577, 0.11253589713949155, 0.056267948569745777, 0.22479974808218992, 0.26226637276255493, 0.14986649872145996, 0.3371996221232849, 0.03746662468036499, 0.08675274529862889, 0.08675274529862889, 0.6072692170904023, 0.17350549059725778, 0.17350549059725778, 0.11724539737824055, 0.7034723842694434, 0.11724539737824055, 0.058622698689120276, 0.058622698689120276, 0.299542582342064, 0.042791797477437714, 0.42791797477437715, 0.12837539243231313, 0.08558359495487543, 0.5060745923163367, 0.06325932403954208, 0.03162966201977104, 0.12651864807908417, 0.28466695817793936, 0.22788833686040041, 0.11394416843020021, 0.22788833686040041, 0.39880458950570075, 0.056972084215100104, 0.7615663816721658, 0.2929272594215098, 0.3254747326905665, 0.06509494653811329, 0.2929272594215098, 0.032547473269056645, 0.07988867418381439, 0.7189980676543295, 0.07988867418381439, 0.07988867418381439, 0.25770170811819504, 0.5154034162363901, 0.7699960154096792, 0.7359128672920493, 0.13843905424305877, 0.014572532025585134, 0.06557639411513311, 0.043717596076755405, 0.7998219709949569, 0.08886910788832854, 0.12799190060360846, 0.017065586747147796, 0.5972955361501728, 0.16212307409790405, 0.09386072710931287, 0.746814386453749, 0.1493628772907498, 0.7737152177699204, 0.046891831379995176, 0.046891831379995176, 0.046891831379995176, 0.046891831379995176, 0.1899483642176326, 0.1899483642176326, 0.5698450926528977, 0.04172493364384373, 0.6119656934430413, 0.3198911579361352, 0.013908311214614576, 0.013908311214614576, 0.28407942396800145, 0.5681588479360029, 0.631450829549986, 0.10824871363714046, 0.05412435681857023, 0.16237307045571067, 0.03608290454571349, 0.8649914492843983, 0.2072442096269985, 0.018840382693363498, 0.7347749250411765, 0.037680765386726996, 0.6864443068130243, 0.1855254883278444, 0.03710509766556888, 0.01855254883278444, 0.055657646498353315, 0.766361209226129, 0.1532722418452258, 0.300315347571379, 0.21841116187009385, 0.300315347571379, 0.05460279046752346, 0.10920558093504693, 0.31377003720886915, 0.10459001240295639, 0.10459001240295639, 0.41836004961182555, 0.5979202339518164, 0.5772297957946598, 0.7695221423419857, 0.0632654008580022, 0.2530616034320088, 0.1897962025740066, 0.0632654008580022, 0.4428578060060154, 0.2647555170070828, 0.10590220680283312, 0.47655993061274904, 0.05295110340141656, 0.10590220680283312, 0.06599629217707112, 0.2639851687082845, 0.2639851687082845, 0.06599629217707112, 0.3959777530624267, 0.338859865215687, 0.112953288405229, 0.112953288405229, 0.1694299326078435, 0.2823832210130725, 0.85273118028536, 0.07106093169044667, 0.2890306366644363, 0.041290090952062326, 0.4129009095206233, 0.24774054571237397, 0.041290090952062326, 0.19778769241622404, 0.16953230778533487, 0.028255384630889148, 0.5651076926177829, 0.056510769261778296, 0.14037244455221679, 0.14037244455221679, 0.14037244455221679, 0.14037244455221679, 0.42111733365665033, 0.08192096125944216, 0.04096048062972108, 0.12288144188916325, 0.7372886513349795, 0.14476169661068108, 0.14476169661068108, 0.5790467864427243, 0.6653904210057596, 0.7612318198930703, 0.6166387846233139, 0.10724152776057634, 0.16086229164086452, 0.08043114582043226, 0.05362076388028817, 0.7945634661290266, 0.32043497973985513, 0.16021748986992757, 0.05340582995664252, 0.42724663965314014, 0.05340582995664252, 0.06177299652302645, 0.679502961753291, 0.18531898956907936, 0.06177299652302645, 0.11564114769891073, 0.5203851646450983, 0.23128229539782147, 0.03854704923297025, 0.0770940984659405, 0.06517568115829776, 0.7169324927412755, 0.13035136231659553, 0.06517568115829776, 0.7947851349886429, 0.13071358526126056, 0.6535679263063029, 0.13071358526126056, 0.5945392814970294, 0.8329292527449388, 0.6471232288776139, 0.0681182346186962, 0.1702955865467405, 0.0340591173093481, 0.0340591173093481, 0.6601778235111245, 0.14414997241623054, 0.14414997241623054, 0.14414997241623054, 0.14414997241623054, 0.5765998896649221, 0.7875509053792722, 0.07159553685266111, 0.07159553685266111, 0.164706572815108, 0.576473004852878, 0.123529929611331, 0.082353286407554, 0.041176643203777, 0.43827439026667264, 0.45683081350218696, 0.04153007395474427, 0.04153007395474427, 0.49836088745693125, 0.14260297017880133, 0.35650742544700337, 0.1283426731609212, 0.07130148508940067, 0.3279868314112431, 0.28062059858719524, 0.18708039905813015, 0.09354019952906507, 0.09354019952906507, 0.3741607981162603, 0.2577271476102463, 0.5154542952204926, 0.25555427003787123, 0.025555427003787122, 0.4599976860681682, 0.15333256202272272, 0.10222170801514849, 0.19521811670795997, 0.5856543501238799, 0.19521811670795997, 0.6059093430461615, 0.057705651718682055, 0.08655847757802308, 0.11541130343736411, 0.14426412929670512, 0.770261407917401, 0.4264453694825426, 0.05330567118531782, 0.29318119151924804, 0.10661134237063565, 0.10661134237063565, 0.869189929860936, 0.09657665887343733, 0.8343954921581777, 0.20783624172304174, 0.023092915747004637, 0.5311370621811067, 0.16165041022903245, 0.06927874724101392, 0.6690978809705501, 0.18936732480298588, 0.025248976640398116, 0.08837141824139341, 0.037873464960597174, 0.09845589663212886, 0.7876471730570309, 0.09845589663212886, 0.8586667559346897, 0.06133333970962069, 0.06133333970962069, 0.13240445852196805, 0.7944267511318083, 0.13240445852196805, 0.3531321651132227, 0.04414152063915284, 0.04414152063915284, 0.573839768308987, 0.833463526492519, 0.15778604211423525, 0.7889302105711762, 0.8322928782746544, 0.16904021880396927, 0.6761608752158771, 0.033808043760793854, 0.033808043760793854, 0.10142413128238156, 0.06798197065778229, 0.06798197065778229, 0.7478016772356052, 0.06798197065778229, 0.033990985328891145, 0.6546603569655032, 0.13638757436781315, 0.0818325446206879, 0.05455502974712526, 0.05455502974712526, 0.16388927794815134, 0.1092595186321009, 0.2731487965802522, 0.38240831521235313, 0.05462975931605045, 0.8751638212461604, 0.04606125374979792, 0.02303062687489896, 0.02303062687489896, 0.04606125374979792], \"Term\": [\"affect\", \"affect\", \"affect\", \"afford\", \"afford\", \"afford\", \"afford\", \"afford\", \"agoda\", \"airbnb\", \"amir\", \"amir\", \"amira\", \"amira\", \"amira\", \"amira\", \"amira\", \"appart\", \"arang\", \"baggag\", \"beautiful\", \"bosphorus\", \"bosphorus\", \"bosphorus\", \"bosphorus\", \"bosphorus\", \"bridg\", \"bridg\", \"bridg\", \"bridg\", \"bridg\", \"button\", \"button\", \"cake\", \"cake\", \"cake\", \"cake\", \"cake\", \"cappadocia\", \"cappadocia\", \"cappadocia\", \"card\", \"card\", \"card\", \"card\", \"card\", \"cheer\", \"cheer\", \"cheer\", \"cheer\", \"cheer\", \"compar\", \"compar\", \"compar\", \"compar\", \"compar\", \"concierg\", \"concierg\", \"concierg\", \"concierg\", \"concierg\", \"crown\", \"crown\", \"crown\", \"crown\", \"crown\", \"egg\", \"egg\", \"egg\", \"egg\", \"egg\", \"elev\", \"elev\", \"elev\", \"elev\", \"elev\", \"ensur\", \"ensur\", \"ensur\", \"ensur\", \"ensur\", \"fatih\", \"final\", \"final\", \"final\", \"final\", \"final\", \"florya\", \"florya\", \"florya\", \"florya\", \"form\", \"form\", \"fullest\", \"galata\", \"galata\", \"galata\", \"galata\", \"galata\", \"galleri\", \"galleri\", \"hagia\", \"hagia\", \"hagia\", \"hagia\", \"hagia\", \"harun\", \"harun\", \"hill\", \"hill\", \"hill\", \"hill\", \"hill\", \"homemad\", \"homemad\", \"homemad\", \"hostel\", \"hostel\", \"hostel\", \"hostel\", \"hostel\", \"ibrahim\", \"ibrahim\", \"istikl\", \"istikl\", \"istikl\", \"istikl\", \"istikl\", \"itinerari\", \"jazz\", \"jazz\", \"jazz\", \"jazz\", \"kitchen\", \"kitchen\", \"kitchen\", \"kitchen\", \"kitchen\", \"kitchenett\", \"kitchenett\", \"late\", \"late\", \"late\", \"late\", \"late\", \"layov\", \"layov\", \"layov\", \"layov\", \"letter\", \"link\", \"livelihood\", \"mansion\", \"mansion\", \"mansion\", \"mansion\", \"mansion\", \"marmara\", \"marmara\", \"marmara\", \"marmara\", \"marmara\", \"massag\", \"massag\", \"massag\", \"massag\", \"massag\", \"memor\", \"memor\", \"memor\", \"memor\", \"memor\", \"mobil\", \"mobil\", \"museum\", \"museum\", \"museum\", \"museum\", \"museum\", \"music\", \"music\", \"music\", \"music\", \"music\", \"occas\", \"occas\", \"occas\", \"occas\", \"occas\", \"omar\", \"omar\", \"omar\", \"omar\", \"omer\", \"omer\", \"omer\", \"outlet\", \"packag\", \"phone\", \"phone\", \"phone\", \"phone\", \"phone\", \"plant\", \"play\", \"play\", \"play\", \"play\", \"play\", \"plaza\", \"plaza\", \"plaza\", \"plaza\", \"pool\", \"pool\", \"pool\", \"pool\", \"pool\", \"radisson\", \"radisson\", \"radisson\", \"radisson\", \"raini\", \"ramazan\", \"ramazan\", \"ramazan\", \"reflect\", \"remot\", \"river\", \"river\", \"river\", \"river\", \"river\", \"roll\", \"schedul\", \"schedul\", \"schedul\", \"schedul\", \"schedul\", \"school\", \"school\", \"school\", \"secur\", \"secur\", \"secur\", \"secur\", \"secur\", \"sept\", \"shell\", \"shell\", \"shell\", \"shell\", \"shuttl\", \"shuttl\", \"shuttl\", \"shuttl\", \"shuttl\", \"slight\", \"slight\", \"slight\", \"slight\", \"slight\", \"smiley\", \"smiley\", \"sofia\", \"sofia\", \"sofia\", \"sofia\", \"sofia\", \"stain\", \"stain\", \"stain\", \"stair\", \"stair\", \"stair\", \"stair\", \"stair\", \"sublim\", \"sultan\", \"sultan\", \"sultan\", \"sultan\", \"sultan\", \"supermarket\", \"supermarket\", \"thump\", \"topkapi\", \"topkapi\", \"topkapi\", \"topkapi\", \"topkapi\", \"tower\", \"tower\", \"tower\", \"tower\", \"tower\", \"tripl\", \"tripl\", \"tripl\", \"ultra\", \"ultra\", \"ultra\", \"valid\", \"valid\", \"valid\", \"walnut\", \"walnut\", \"walnut\", \"walnut\", \"wast\", \"wave\", \"wave\", \"weav\", \"wed\", \"wed\", \"wed\", \"wed\", \"wed\", \"white\", \"white\", \"white\", \"white\", \"white\", \"wine\", \"wine\", \"wine\", \"wine\", \"wine\", \"youll\", \"youll\", \"youll\", \"youll\", \"youll\", \"zeynep\", \"zeynep\", \"zeynep\", \"zeynep\", \"zeynep\"]}, \"R\": 10, \"lambda.step\": 0.01, \"plot.opts\": {\"xlab\": \"PC1\", \"ylab\": \"PC2\"}, \"topic.order\": [4, 1, 3, 5, 2]};\n",
              "\n",
              "function LDAvis_load_lib(url, callback){\n",
              "  var s = document.createElement('script');\n",
              "  s.src = url;\n",
              "  s.async = true;\n",
              "  s.onreadystatechange = s.onload = callback;\n",
              "  s.onerror = function(){console.warn(\"failed to load library \" + url);};\n",
              "  document.getElementsByTagName(\"head\")[0].appendChild(s);\n",
              "}\n",
              "\n",
              "if(typeof(LDAvis) !== \"undefined\"){\n",
              "   // already loaded: just create the visualization\n",
              "   !function(LDAvis){\n",
              "       new LDAvis(\"#\" + \"ldavis_el1231402751949748329031663975\", ldavis_el1231402751949748329031663975_data);\n",
              "   }(LDAvis);\n",
              "}else if(typeof define === \"function\" && define.amd){\n",
              "   // require.js is available: use it to load d3/LDAvis\n",
              "   require.config({paths: {d3: \"https://d3js.org/d3.v5\"}});\n",
              "   require([\"d3\"], function(d3){\n",
              "      window.d3 = d3;\n",
              "      LDAvis_load_lib(\"https://cdn.jsdelivr.net/gh/bmabey/pyLDAvis@3.4.0/pyLDAvis/js/ldavis.v3.0.0.js\", function(){\n",
              "        new LDAvis(\"#\" + \"ldavis_el1231402751949748329031663975\", ldavis_el1231402751949748329031663975_data);\n",
              "      });\n",
              "    });\n",
              "}else{\n",
              "    // require.js not available: dynamically load d3 & LDAvis\n",
              "    LDAvis_load_lib(\"https://d3js.org/d3.v5.js\", function(){\n",
              "         LDAvis_load_lib(\"https://cdn.jsdelivr.net/gh/bmabey/pyLDAvis@3.4.0/pyLDAvis/js/ldavis.v3.0.0.js\", function(){\n",
              "                 new LDAvis(\"#\" + \"ldavis_el1231402751949748329031663975\", ldavis_el1231402751949748329031663975_data);\n",
              "            })\n",
              "         });\n",
              "}\n",
              "</script>"
            ]
          },
          "metadata": {},
          "execution_count": 320
        }
      ]
    },
    {
      "cell_type": "markdown",
      "source": [
        "## Explaining Clusters"
      ],
      "metadata": {
        "id": "_n5hT_dFmyYH"
      }
    },
    {
      "cell_type": "markdown",
      "source": [
        "\n",
        "From the above visualization, we see the difference between the 5 clusters. Smaller topics are more tightly clustered, and the large topics are more broad. Luckily with LDA, it's pretty easy to define the topics by hand. Just from looking at the top words, the 'topics' are basically:\n",
        "1. Hagia Sophia\n",
        "2. Shuttle\n",
        "3. Galata Tower\n",
        "4. Bosphorous River\n",
        "5. Jazz Music\n",
        "\n",
        "We can infer `Jazz Music` and `Shuttle` as features/amenities of hotels, whereas `Bosphorous`, `Hagia Sophia` and `Galata Tower` are points of interest.\n",
        "\n",
        "Essentially, each cluster contains hotels that have or are nearby the topic.\n"
      ],
      "metadata": {
        "id": "jgHFaEvuF97K"
      }
    },
    {
      "cell_type": "markdown",
      "source": [
        "Here we can go through each hotel in the corpus and find its most relevant topic:"
      ],
      "metadata": {
        "id": "PB7N09TJ3bKj"
      }
    },
    {
      "cell_type": "code",
      "source": [
        "def top_topics(ldamodel, corpus, hotelnames):\n",
        "  list_topics = []\n",
        "  for i, row_list in enumerate(ldamodel[corpus]):\n",
        "    row = row_list[0] if ldamodel.per_word_topics else row_list\n",
        "    row = sorted(row, key = lambda x: (x[1]), reverse=True)\n",
        "    for j, (topic_num, prop_topic) in enumerate(row):\n",
        "      if j == 0: # dominant topic\n",
        "        # print('topic', topic_num, ' -- ', hotelnames[i])\n",
        "        list_topics.append(topic_num)\n",
        "      else:\n",
        "        break\n",
        "  return list_topics"
      ],
      "metadata": {
        "id": "E8cSOhUA9L3q",
        "colab": {
          "base_uri": "https://localhost:8080/",
          "height": 17
        },
        "outputId": "e5c20f6d-99ac-4db0-fb8b-0b635b46097d"
      },
      "execution_count": null,
      "outputs": [
        {
          "output_type": "display_data",
          "data": {
            "text/plain": [
              "<IPython.core.display.HTML object>"
            ],
            "text/html": [
              "\n",
              "  <style>\n",
              "    pre {\n",
              "        white-space: pre-wrap;\n",
              "    }\n",
              "  </style>\n",
              "  "
            ]
          },
          "metadata": {}
        },
        {
          "output_type": "display_data",
          "data": {
            "text/plain": [
              "<IPython.core.display.HTML object>"
            ],
            "text/html": [
              "\n",
              "  <style>\n",
              "    pre {\n",
              "        white-space: pre-wrap;\n",
              "    }\n",
              "  </style>\n",
              "  "
            ]
          },
          "metadata": {}
        },
        {
          "output_type": "display_data",
          "data": {
            "text/plain": [
              "<IPython.core.display.HTML object>"
            ],
            "text/html": [
              "\n",
              "  <style>\n",
              "    pre {\n",
              "        white-space: pre-wrap;\n",
              "    }\n",
              "  </style>\n",
              "  "
            ]
          },
          "metadata": {}
        }
      ]
    },
    {
      "cell_type": "markdown",
      "source": [
        "The topic_num value from the ldamodel is not very meaningful, it's just a value 0-4.\n",
        "\n",
        "Recalling the topic labels from the below code, we can create a topic mapping to have a meaningful `topic` column in a dataframe."
      ],
      "metadata": {
        "id": "m_yd0HIl2lUx"
      }
    },
    {
      "cell_type": "code",
      "source": [
        "for id, topic in lda_model.print_topics(-1):\n",
        "  print(f'topic: {id}\\nwords: {topic}')"
      ],
      "metadata": {
        "colab": {
          "base_uri": "https://localhost:8080/",
          "height": 290
        },
        "id": "hi_02Hki2kKE",
        "outputId": "7e952307-ef2e-4d70-b306-40097274e225"
      },
      "execution_count": null,
      "outputs": [
        {
          "output_type": "display_data",
          "data": {
            "text/plain": [
              "<IPython.core.display.HTML object>"
            ],
            "text/html": [
              "\n",
              "  <style>\n",
              "    pre {\n",
              "        white-space: pre-wrap;\n",
              "    }\n",
              "  </style>\n",
              "  "
            ]
          },
          "metadata": {}
        },
        {
          "output_type": "display_data",
          "data": {
            "text/plain": [
              "<IPython.core.display.HTML object>"
            ],
            "text/html": [
              "\n",
              "  <style>\n",
              "    pre {\n",
              "        white-space: pre-wrap;\n",
              "    }\n",
              "  </style>\n",
              "  "
            ]
          },
          "metadata": {}
        },
        {
          "output_type": "display_data",
          "data": {
            "text/plain": [
              "<IPython.core.display.HTML object>"
            ],
            "text/html": [
              "\n",
              "  <style>\n",
              "    pre {\n",
              "        white-space: pre-wrap;\n",
              "    }\n",
              "  </style>\n",
              "  "
            ]
          },
          "metadata": {}
        },
        {
          "output_type": "stream",
          "name": "stdout",
          "text": [
            "topic: 0\n",
            "words: 0.016*\"bosphorus\" + 0.016*\"hostel\" + 0.010*\"pool\" + 0.009*\"shuttl\" + 0.007*\"wed\" + 0.007*\"galata\" + 0.005*\"tower\" + 0.005*\"secur\" + 0.005*\"ultra\" + 0.004*\"bridg\"\n",
            "topic: 1\n",
            "words: 0.017*\"shuttl\" + 0.010*\"walnut\" + 0.009*\"shell\" + 0.008*\"hagia\" + 0.006*\"elev\" + 0.005*\"mansion\" + 0.005*\"galata\" + 0.004*\"massag\" + 0.004*\"bosphorus\" + 0.004*\"stair\"\n",
            "topic: 2\n",
            "words: 0.026*\"hagia\" + 0.009*\"topkapi\" + 0.008*\"hostel\" + 0.008*\"white\" + 0.007*\"sofia\" + 0.006*\"bosphorus\" + 0.005*\"pool\" + 0.004*\"late\" + 0.004*\"sultan\" + 0.004*\"cheer\"\n",
            "topic: 3\n",
            "words: 0.020*\"galata\" + 0.010*\"tower\" + 0.007*\"zeynep\" + 0.007*\"kitchen\" + 0.007*\"istikl\" + 0.007*\"card\" + 0.006*\"hill\" + 0.005*\"wine\" + 0.005*\"phone\" + 0.004*\"stair\"\n",
            "topic: 4\n",
            "words: 0.018*\"jazz\" + 0.010*\"amira\" + 0.009*\"music\" + 0.008*\"hagia\" + 0.008*\"omar\" + 0.004*\"istikl\" + 0.004*\"final\" + 0.004*\"galata\" + 0.004*\"compar\" + 0.004*\"cake\"\n"
          ]
        }
      ]
    },
    {
      "cell_type": "markdown",
      "source": [
        "Here is each hotel with its most relevant topic (and also its bag of words)."
      ],
      "metadata": {
        "id": "KkbG0yzJ33W-"
      }
    },
    {
      "cell_type": "code",
      "source": [
        "hotel_topics = pd.Series(top_topics(lda_model, bow_corpus, hotel_bagofwords2.index.tolist()))\n",
        "hotel_bagofwords3 = hotel_bagofwords2.copy().reset_index()\n",
        "hotel_bagofwords3['topic'] = hotel_topics\n",
        "\n",
        "topic_mapping = ['Bosphorous River', 'Shuttle', 'Hagia Sophia', 'Galata Tower', 'Jazz Music']\n",
        "hotel_bagofwords3['topic'] = hotel_bagofwords3['topic'].apply(lambda t : topic_mapping[t])\n",
        "\n",
        "hotel_bagofwords3"
      ],
      "metadata": {
        "colab": {
          "base_uri": "https://localhost:8080/",
          "height": 959
        },
        "id": "kr9dl5wGtQpU",
        "outputId": "4cbb0c7e-13ab-44e8-bfbe-1d38242bdafa"
      },
      "execution_count": null,
      "outputs": [
        {
          "output_type": "display_data",
          "data": {
            "text/plain": [
              "<IPython.core.display.HTML object>"
            ],
            "text/html": [
              "\n",
              "  <style>\n",
              "    pre {\n",
              "        white-space: pre-wrap;\n",
              "    }\n",
              "  </style>\n",
              "  "
            ]
          },
          "metadata": {}
        },
        {
          "output_type": "display_data",
          "data": {
            "text/plain": [
              "<IPython.core.display.HTML object>"
            ],
            "text/html": [
              "\n",
              "  <style>\n",
              "    pre {\n",
              "        white-space: pre-wrap;\n",
              "    }\n",
              "  </style>\n",
              "  "
            ]
          },
          "metadata": {}
        },
        {
          "output_type": "display_data",
          "data": {
            "text/plain": [
              "<IPython.core.display.HTML object>"
            ],
            "text/html": [
              "\n",
              "  <style>\n",
              "    pre {\n",
              "        white-space: pre-wrap;\n",
              "    }\n",
              "  </style>\n",
              "  "
            ]
          },
          "metadata": {}
        },
        {
          "output_type": "execute_result",
          "data": {
            "text/plain": [
              "                                   hotel_name  \\\n",
              "0                  White House Hotel Istanbul   \n",
              "1              Crowne Plaza Istanbul - Florya   \n",
              "2        GLK PREMIER Sea Mansion Suites & Spa   \n",
              "3                              Basileus Hotel   \n",
              "4                                 Baylosuites   \n",
              "5                          Walnut Shell Hotel   \n",
              "6                              Has Han Galata   \n",
              "7                 Taksim Ultra VIP Apartments   \n",
              "8                        Elite World Business   \n",
              "9                                 Dila Suites   \n",
              "10                     Bosphorus Palace Hotel   \n",
              "11                       Hotel Amira Istanbul   \n",
              "12                          Downtown Istanbul   \n",
              "13                       Lotus Hotel Istanbul   \n",
              "14                          Hotel Sultan Hill   \n",
              "15                                Hotel Next2   \n",
              "16                                Cube Suites   \n",
              "17           MySuite Istanbul Cihangir Square   \n",
              "18                      Agva Riverangel Hotel   \n",
              "19                    Sura Hagia Sophia Hotel   \n",
              "20                         Bucoleon by Cheers   \n",
              "21                       Arven Boutique Hotel   \n",
              "22  Radisson Blu Hotel & Spa - Istanbul Tuzla   \n",
              "23                       Walton Hotels Galata   \n",
              "24                     Artefes Hotel Istanbul   \n",
              "25                               Robin's Nest   \n",
              "26                          Hotel Tulip House   \n",
              "27                                 Jazz Hotel   \n",
              "28                 Hotel Valide Sultan Konagi   \n",
              "\n",
              "                                                words  \\\n",
              "0   [it, was, a, pleasure, staying, at, this, hote...   \n",
              "1   [this, hotel, location, is, awesome, and, refr...   \n",
              "2   [it, was, an, experience, that, exceeded, my, ...   \n",
              "3   [what, can, i, say, that, has, not, already, b...   \n",
              "4   [baylosuites, was, a, great, location, walking...   \n",
              "5   [i, have, stayed, at, wslnut, shell, sevarel, ...   \n",
              "6   [great, service, truly, all, included, breakfa...   \n",
              "7   [actually, i, visited, it, more, than, once, b...   \n",
              "8   [what, a, most, beautiful, hotel, the, front, ...   \n",
              "9   [it, was, amazing, to, come, back, to, istanbu...   \n",
              "10  [we, quickly, crossed, to, the, asia, side, of...   \n",
              "11  [we, chose, this, hotel, for, a, few, days, to...   \n",
              "12  [like, i, wrote, down, in, my, review, for, th...   \n",
              "13  [is, the, times, i, visited, this, hotel, i, j...   \n",
              "14  [the, location, is, amazing, right, next, to, ...   \n",
              "15  [hotel, is, located, in, the, quite, street, o...   \n",
              "16  [this, place, is, such, a, little, gem, what, ...   \n",
              "17  [the, host, is, very, nice, and, helpful, can,...   \n",
              "18  [me, and, my, girlfriend, were, initially, sta...   \n",
              "19  [hotel, facilities, seemed, to, be, under, con...   \n",
              "20  [i, stayed, at, this, hotel, for, night, in, j...   \n",
              "21  [nice, location, clean, and, comfortable, alwa...   \n",
              "22  [we, stayed, here, week, and, we, loved, every...   \n",
              "23  [this, hotel, is, first, and, foremost, about,...   \n",
              "24  [my, husband, and, i, stayed, at, artefes, hot...   \n",
              "25  [the, location, of, the, hotel, is, great, the...   \n",
              "26  [the, manager, named, mavi, is, awful, and, he...   \n",
              "27  [the, room, smelled, the, sewage, all, the, ti...   \n",
              "28  [we, started, our, vacation, to, turkey, in, i...   \n",
              "\n",
              "                                              p_words             topic  \n",
              "0   [pleasur, stay, hotel, excel, staff, neat, cle...      Hagia Sophia  \n",
              "1   [hotel, locat, awesom, refresh, hotel, time, r...  Bosphorous River  \n",
              "2   [experi, exceed, expect, time, visit, istanbul...           Shuttle  \n",
              "3   [say, amaz, staff, amaz, locat, amaz, hotel, s...        Jazz Music  \n",
              "4   [baylosuit, great, locat, walk, distant, minut...      Galata Tower  \n",
              "5   [stay, wslnut, shell, sevarel, time, refref, t...           Shuttle  \n",
              "6   [great, servic, truli, includ, breakfast, dedi...      Galata Tower  \n",
              "7   [actual, visit, amaz, place, wonder, view, fri...  Bosphorous River  \n",
              "8   [beauti, hotel, desk, staff, help, good, under...           Shuttle  \n",
              "9   [amaz, come, istanbul, hotel, dila, suit, reas...        Jazz Music  \n",
              "10  [quick, cross, asia, istanbul, look, place, aw...  Bosphorous River  \n",
              "11  [choos, hotel, day, celebr, wife, birthday, ou...        Jazz Music  \n",
              "12  [like, write, review, white, hous, hotel, plac...  Bosphorous River  \n",
              "13  [time, visit, hotel, love, servic, locat, vura...      Galata Tower  \n",
              "14  [locat, amaz, right, blue, mosqu, walk, distan...      Galata Tower  \n",
              "15  [hotel, locat, street, taksim, room, clean, la...      Galata Tower  \n",
              "16  [place, littl, lack, general, amen, peopl, don...      Galata Tower  \n",
              "17  [host, nice, help, assist, need, like, card, m...      Galata Tower  \n",
              "18  [girlfriend, initi, stay, citi, centr, want, e...      Hagia Sophia  \n",
              "19  [hotel, facil, construct, stay, room, clean, s...      Hagia Sophia  \n",
              "20  [stay, hotel, night, juli, trip, istanbul, exc...      Hagia Sophia  \n",
              "21  [nice, locat, clean, comfort, stay, hotel, cou...        Jazz Music  \n",
              "22  [stay, week, love, minut, hotel, great, breakf...  Bosphorous River  \n",
              "23  [hotel, foremost, staff, friend, welcom, speci...      Galata Tower  \n",
              "24  [husband, stay, artef, hotel, june, arriv, sta...      Hagia Sophia  \n",
              "25  [locat, hotel, great, there, stop, case, publi...      Galata Tower  \n",
              "26  [manag, name, mavi, aw, didnt, care, lose, cus...      Galata Tower  \n",
              "27  [room, smell, sewag, time, hotel, small, total...        Jazz Music  \n",
              "28  [start, vacat, turkey, istanbul, stay, hotel, ...      Hagia Sophia  "
            ],
            "text/html": [
              "\n",
              "  <div id=\"df-47dea08e-11b0-4465-b4cc-1ec2511ac994\">\n",
              "    <div class=\"colab-df-container\">\n",
              "      <div>\n",
              "<style scoped>\n",
              "    .dataframe tbody tr th:only-of-type {\n",
              "        vertical-align: middle;\n",
              "    }\n",
              "\n",
              "    .dataframe tbody tr th {\n",
              "        vertical-align: top;\n",
              "    }\n",
              "\n",
              "    .dataframe thead th {\n",
              "        text-align: right;\n",
              "    }\n",
              "</style>\n",
              "<table border=\"1\" class=\"dataframe\">\n",
              "  <thead>\n",
              "    <tr style=\"text-align: right;\">\n",
              "      <th></th>\n",
              "      <th>hotel_name</th>\n",
              "      <th>words</th>\n",
              "      <th>p_words</th>\n",
              "      <th>topic</th>\n",
              "    </tr>\n",
              "  </thead>\n",
              "  <tbody>\n",
              "    <tr>\n",
              "      <th>0</th>\n",
              "      <td>White House Hotel Istanbul</td>\n",
              "      <td>[it, was, a, pleasure, staying, at, this, hote...</td>\n",
              "      <td>[pleasur, stay, hotel, excel, staff, neat, cle...</td>\n",
              "      <td>Hagia Sophia</td>\n",
              "    </tr>\n",
              "    <tr>\n",
              "      <th>1</th>\n",
              "      <td>Crowne Plaza Istanbul - Florya</td>\n",
              "      <td>[this, hotel, location, is, awesome, and, refr...</td>\n",
              "      <td>[hotel, locat, awesom, refresh, hotel, time, r...</td>\n",
              "      <td>Bosphorous River</td>\n",
              "    </tr>\n",
              "    <tr>\n",
              "      <th>2</th>\n",
              "      <td>GLK PREMIER Sea Mansion Suites &amp; Spa</td>\n",
              "      <td>[it, was, an, experience, that, exceeded, my, ...</td>\n",
              "      <td>[experi, exceed, expect, time, visit, istanbul...</td>\n",
              "      <td>Shuttle</td>\n",
              "    </tr>\n",
              "    <tr>\n",
              "      <th>3</th>\n",
              "      <td>Basileus Hotel</td>\n",
              "      <td>[what, can, i, say, that, has, not, already, b...</td>\n",
              "      <td>[say, amaz, staff, amaz, locat, amaz, hotel, s...</td>\n",
              "      <td>Jazz Music</td>\n",
              "    </tr>\n",
              "    <tr>\n",
              "      <th>4</th>\n",
              "      <td>Baylosuites</td>\n",
              "      <td>[baylosuites, was, a, great, location, walking...</td>\n",
              "      <td>[baylosuit, great, locat, walk, distant, minut...</td>\n",
              "      <td>Galata Tower</td>\n",
              "    </tr>\n",
              "    <tr>\n",
              "      <th>5</th>\n",
              "      <td>Walnut Shell Hotel</td>\n",
              "      <td>[i, have, stayed, at, wslnut, shell, sevarel, ...</td>\n",
              "      <td>[stay, wslnut, shell, sevarel, time, refref, t...</td>\n",
              "      <td>Shuttle</td>\n",
              "    </tr>\n",
              "    <tr>\n",
              "      <th>6</th>\n",
              "      <td>Has Han Galata</td>\n",
              "      <td>[great, service, truly, all, included, breakfa...</td>\n",
              "      <td>[great, servic, truli, includ, breakfast, dedi...</td>\n",
              "      <td>Galata Tower</td>\n",
              "    </tr>\n",
              "    <tr>\n",
              "      <th>7</th>\n",
              "      <td>Taksim Ultra VIP Apartments</td>\n",
              "      <td>[actually, i, visited, it, more, than, once, b...</td>\n",
              "      <td>[actual, visit, amaz, place, wonder, view, fri...</td>\n",
              "      <td>Bosphorous River</td>\n",
              "    </tr>\n",
              "    <tr>\n",
              "      <th>8</th>\n",
              "      <td>Elite World Business</td>\n",
              "      <td>[what, a, most, beautiful, hotel, the, front, ...</td>\n",
              "      <td>[beauti, hotel, desk, staff, help, good, under...</td>\n",
              "      <td>Shuttle</td>\n",
              "    </tr>\n",
              "    <tr>\n",
              "      <th>9</th>\n",
              "      <td>Dila Suites</td>\n",
              "      <td>[it, was, amazing, to, come, back, to, istanbu...</td>\n",
              "      <td>[amaz, come, istanbul, hotel, dila, suit, reas...</td>\n",
              "      <td>Jazz Music</td>\n",
              "    </tr>\n",
              "    <tr>\n",
              "      <th>10</th>\n",
              "      <td>Bosphorus Palace Hotel</td>\n",
              "      <td>[we, quickly, crossed, to, the, asia, side, of...</td>\n",
              "      <td>[quick, cross, asia, istanbul, look, place, aw...</td>\n",
              "      <td>Bosphorous River</td>\n",
              "    </tr>\n",
              "    <tr>\n",
              "      <th>11</th>\n",
              "      <td>Hotel Amira Istanbul</td>\n",
              "      <td>[we, chose, this, hotel, for, a, few, days, to...</td>\n",
              "      <td>[choos, hotel, day, celebr, wife, birthday, ou...</td>\n",
              "      <td>Jazz Music</td>\n",
              "    </tr>\n",
              "    <tr>\n",
              "      <th>12</th>\n",
              "      <td>Downtown Istanbul</td>\n",
              "      <td>[like, i, wrote, down, in, my, review, for, th...</td>\n",
              "      <td>[like, write, review, white, hous, hotel, plac...</td>\n",
              "      <td>Bosphorous River</td>\n",
              "    </tr>\n",
              "    <tr>\n",
              "      <th>13</th>\n",
              "      <td>Lotus Hotel Istanbul</td>\n",
              "      <td>[is, the, times, i, visited, this, hotel, i, j...</td>\n",
              "      <td>[time, visit, hotel, love, servic, locat, vura...</td>\n",
              "      <td>Galata Tower</td>\n",
              "    </tr>\n",
              "    <tr>\n",
              "      <th>14</th>\n",
              "      <td>Hotel Sultan Hill</td>\n",
              "      <td>[the, location, is, amazing, right, next, to, ...</td>\n",
              "      <td>[locat, amaz, right, blue, mosqu, walk, distan...</td>\n",
              "      <td>Galata Tower</td>\n",
              "    </tr>\n",
              "    <tr>\n",
              "      <th>15</th>\n",
              "      <td>Hotel Next2</td>\n",
              "      <td>[hotel, is, located, in, the, quite, street, o...</td>\n",
              "      <td>[hotel, locat, street, taksim, room, clean, la...</td>\n",
              "      <td>Galata Tower</td>\n",
              "    </tr>\n",
              "    <tr>\n",
              "      <th>16</th>\n",
              "      <td>Cube Suites</td>\n",
              "      <td>[this, place, is, such, a, little, gem, what, ...</td>\n",
              "      <td>[place, littl, lack, general, amen, peopl, don...</td>\n",
              "      <td>Galata Tower</td>\n",
              "    </tr>\n",
              "    <tr>\n",
              "      <th>17</th>\n",
              "      <td>MySuite Istanbul Cihangir Square</td>\n",
              "      <td>[the, host, is, very, nice, and, helpful, can,...</td>\n",
              "      <td>[host, nice, help, assist, need, like, card, m...</td>\n",
              "      <td>Galata Tower</td>\n",
              "    </tr>\n",
              "    <tr>\n",
              "      <th>18</th>\n",
              "      <td>Agva Riverangel Hotel</td>\n",
              "      <td>[me, and, my, girlfriend, were, initially, sta...</td>\n",
              "      <td>[girlfriend, initi, stay, citi, centr, want, e...</td>\n",
              "      <td>Hagia Sophia</td>\n",
              "    </tr>\n",
              "    <tr>\n",
              "      <th>19</th>\n",
              "      <td>Sura Hagia Sophia Hotel</td>\n",
              "      <td>[hotel, facilities, seemed, to, be, under, con...</td>\n",
              "      <td>[hotel, facil, construct, stay, room, clean, s...</td>\n",
              "      <td>Hagia Sophia</td>\n",
              "    </tr>\n",
              "    <tr>\n",
              "      <th>20</th>\n",
              "      <td>Bucoleon by Cheers</td>\n",
              "      <td>[i, stayed, at, this, hotel, for, night, in, j...</td>\n",
              "      <td>[stay, hotel, night, juli, trip, istanbul, exc...</td>\n",
              "      <td>Hagia Sophia</td>\n",
              "    </tr>\n",
              "    <tr>\n",
              "      <th>21</th>\n",
              "      <td>Arven Boutique Hotel</td>\n",
              "      <td>[nice, location, clean, and, comfortable, alwa...</td>\n",
              "      <td>[nice, locat, clean, comfort, stay, hotel, cou...</td>\n",
              "      <td>Jazz Music</td>\n",
              "    </tr>\n",
              "    <tr>\n",
              "      <th>22</th>\n",
              "      <td>Radisson Blu Hotel &amp; Spa - Istanbul Tuzla</td>\n",
              "      <td>[we, stayed, here, week, and, we, loved, every...</td>\n",
              "      <td>[stay, week, love, minut, hotel, great, breakf...</td>\n",
              "      <td>Bosphorous River</td>\n",
              "    </tr>\n",
              "    <tr>\n",
              "      <th>23</th>\n",
              "      <td>Walton Hotels Galata</td>\n",
              "      <td>[this, hotel, is, first, and, foremost, about,...</td>\n",
              "      <td>[hotel, foremost, staff, friend, welcom, speci...</td>\n",
              "      <td>Galata Tower</td>\n",
              "    </tr>\n",
              "    <tr>\n",
              "      <th>24</th>\n",
              "      <td>Artefes Hotel Istanbul</td>\n",
              "      <td>[my, husband, and, i, stayed, at, artefes, hot...</td>\n",
              "      <td>[husband, stay, artef, hotel, june, arriv, sta...</td>\n",
              "      <td>Hagia Sophia</td>\n",
              "    </tr>\n",
              "    <tr>\n",
              "      <th>25</th>\n",
              "      <td>Robin's Nest</td>\n",
              "      <td>[the, location, of, the, hotel, is, great, the...</td>\n",
              "      <td>[locat, hotel, great, there, stop, case, publi...</td>\n",
              "      <td>Galata Tower</td>\n",
              "    </tr>\n",
              "    <tr>\n",
              "      <th>26</th>\n",
              "      <td>Hotel Tulip House</td>\n",
              "      <td>[the, manager, named, mavi, is, awful, and, he...</td>\n",
              "      <td>[manag, name, mavi, aw, didnt, care, lose, cus...</td>\n",
              "      <td>Galata Tower</td>\n",
              "    </tr>\n",
              "    <tr>\n",
              "      <th>27</th>\n",
              "      <td>Jazz Hotel</td>\n",
              "      <td>[the, room, smelled, the, sewage, all, the, ti...</td>\n",
              "      <td>[room, smell, sewag, time, hotel, small, total...</td>\n",
              "      <td>Jazz Music</td>\n",
              "    </tr>\n",
              "    <tr>\n",
              "      <th>28</th>\n",
              "      <td>Hotel Valide Sultan Konagi</td>\n",
              "      <td>[we, started, our, vacation, to, turkey, in, i...</td>\n",
              "      <td>[start, vacat, turkey, istanbul, stay, hotel, ...</td>\n",
              "      <td>Hagia Sophia</td>\n",
              "    </tr>\n",
              "  </tbody>\n",
              "</table>\n",
              "</div>\n",
              "      <button class=\"colab-df-convert\" onclick=\"convertToInteractive('df-47dea08e-11b0-4465-b4cc-1ec2511ac994')\"\n",
              "              title=\"Convert this dataframe to an interactive table.\"\n",
              "              style=\"display:none;\">\n",
              "        \n",
              "  <svg xmlns=\"http://www.w3.org/2000/svg\" height=\"24px\"viewBox=\"0 0 24 24\"\n",
              "       width=\"24px\">\n",
              "    <path d=\"M0 0h24v24H0V0z\" fill=\"none\"/>\n",
              "    <path d=\"M18.56 5.44l.94 2.06.94-2.06 2.06-.94-2.06-.94-.94-2.06-.94 2.06-2.06.94zm-11 1L8.5 8.5l.94-2.06 2.06-.94-2.06-.94L8.5 2.5l-.94 2.06-2.06.94zm10 10l.94 2.06.94-2.06 2.06-.94-2.06-.94-.94-2.06-.94 2.06-2.06.94z\"/><path d=\"M17.41 7.96l-1.37-1.37c-.4-.4-.92-.59-1.43-.59-.52 0-1.04.2-1.43.59L10.3 9.45l-7.72 7.72c-.78.78-.78 2.05 0 2.83L4 21.41c.39.39.9.59 1.41.59.51 0 1.02-.2 1.41-.59l7.78-7.78 2.81-2.81c.8-.78.8-2.07 0-2.86zM5.41 20L4 18.59l7.72-7.72 1.47 1.35L5.41 20z\"/>\n",
              "  </svg>\n",
              "      </button>\n",
              "      \n",
              "  <style>\n",
              "    .colab-df-container {\n",
              "      display:flex;\n",
              "      flex-wrap:wrap;\n",
              "      gap: 12px;\n",
              "    }\n",
              "\n",
              "    .colab-df-convert {\n",
              "      background-color: #E8F0FE;\n",
              "      border: none;\n",
              "      border-radius: 50%;\n",
              "      cursor: pointer;\n",
              "      display: none;\n",
              "      fill: #1967D2;\n",
              "      height: 32px;\n",
              "      padding: 0 0 0 0;\n",
              "      width: 32px;\n",
              "    }\n",
              "\n",
              "    .colab-df-convert:hover {\n",
              "      background-color: #E2EBFA;\n",
              "      box-shadow: 0px 1px 2px rgba(60, 64, 67, 0.3), 0px 1px 3px 1px rgba(60, 64, 67, 0.15);\n",
              "      fill: #174EA6;\n",
              "    }\n",
              "\n",
              "    [theme=dark] .colab-df-convert {\n",
              "      background-color: #3B4455;\n",
              "      fill: #D2E3FC;\n",
              "    }\n",
              "\n",
              "    [theme=dark] .colab-df-convert:hover {\n",
              "      background-color: #434B5C;\n",
              "      box-shadow: 0px 1px 3px 1px rgba(0, 0, 0, 0.15);\n",
              "      filter: drop-shadow(0px 1px 2px rgba(0, 0, 0, 0.3));\n",
              "      fill: #FFFFFF;\n",
              "    }\n",
              "  </style>\n",
              "\n",
              "      <script>\n",
              "        const buttonEl =\n",
              "          document.querySelector('#df-47dea08e-11b0-4465-b4cc-1ec2511ac994 button.colab-df-convert');\n",
              "        buttonEl.style.display =\n",
              "          google.colab.kernel.accessAllowed ? 'block' : 'none';\n",
              "\n",
              "        async function convertToInteractive(key) {\n",
              "          const element = document.querySelector('#df-47dea08e-11b0-4465-b4cc-1ec2511ac994');\n",
              "          const dataTable =\n",
              "            await google.colab.kernel.invokeFunction('convertToInteractive',\n",
              "                                                     [key], {});\n",
              "          if (!dataTable) return;\n",
              "\n",
              "          const docLinkHtml = 'Like what you see? Visit the ' +\n",
              "            '<a target=\"_blank\" href=https://colab.research.google.com/notebooks/data_table.ipynb>data table notebook</a>'\n",
              "            + ' to learn more about interactive tables.';\n",
              "          element.innerHTML = '';\n",
              "          dataTable['output_type'] = 'display_data';\n",
              "          await google.colab.output.renderOutput(dataTable, element);\n",
              "          const docLink = document.createElement('div');\n",
              "          docLink.innerHTML = docLinkHtml;\n",
              "          element.appendChild(docLink);\n",
              "        }\n",
              "      </script>\n",
              "    </div>\n",
              "  </div>\n",
              "  "
            ]
          },
          "metadata": {},
          "execution_count": 324
        }
      ]
    },
    {
      "cell_type": "markdown",
      "source": [
        "## Hotel Search Engine\n",
        "\n",
        "Using the FAISS notebook as a base, in this section we create a search engine for the hotels in Istanbul.\n",
        "\n",
        "1. Build search model\n",
        "2. Examples"
      ],
      "metadata": {
        "id": "w22VyHfImwqb"
      }
    },
    {
      "cell_type": "markdown",
      "source": [
        "### Create search model"
      ],
      "metadata": {
        "id": "N_mC-2a77uFc"
      }
    },
    {
      "cell_type": "code",
      "source": [
        "!pip install faiss-cpu\n",
        "!pip install -U sentence-transformers\n",
        "import faiss\n",
        "import time\n",
        "from sentence_transformers import SentenceTransformer\n",
        "model = SentenceTransformer('bert-base-nli-mean-tokens')"
      ],
      "metadata": {
        "id": "9kgdKyH3oxBd",
        "colab": {
          "base_uri": "https://localhost:8080/",
          "height": 672
        },
        "outputId": "4301bccc-91d4-4959-b5bc-c28743f7b267"
      },
      "execution_count": null,
      "outputs": [
        {
          "output_type": "display_data",
          "data": {
            "text/plain": [
              "<IPython.core.display.HTML object>"
            ],
            "text/html": [
              "\n",
              "  <style>\n",
              "    pre {\n",
              "        white-space: pre-wrap;\n",
              "    }\n",
              "  </style>\n",
              "  "
            ]
          },
          "metadata": {}
        },
        {
          "output_type": "display_data",
          "data": {
            "text/plain": [
              "<IPython.core.display.HTML object>"
            ],
            "text/html": [
              "\n",
              "  <style>\n",
              "    pre {\n",
              "        white-space: pre-wrap;\n",
              "    }\n",
              "  </style>\n",
              "  "
            ]
          },
          "metadata": {}
        },
        {
          "output_type": "display_data",
          "data": {
            "text/plain": [
              "<IPython.core.display.HTML object>"
            ],
            "text/html": [
              "\n",
              "  <style>\n",
              "    pre {\n",
              "        white-space: pre-wrap;\n",
              "    }\n",
              "  </style>\n",
              "  "
            ]
          },
          "metadata": {}
        },
        {
          "output_type": "stream",
          "name": "stdout",
          "text": [
            "Looking in indexes: https://pypi.org/simple, https://us-python.pkg.dev/colab-wheels/public/simple/\n",
            "Requirement already satisfied: faiss-cpu in /usr/local/lib/python3.9/dist-packages (1.7.3)\n",
            "Looking in indexes: https://pypi.org/simple, https://us-python.pkg.dev/colab-wheels/public/simple/\n",
            "Requirement already satisfied: sentence-transformers in /usr/local/lib/python3.9/dist-packages (2.2.2)\n",
            "Requirement already satisfied: torchvision in /usr/local/lib/python3.9/dist-packages (from sentence-transformers) (0.14.1+cu116)\n",
            "Requirement already satisfied: tqdm in /usr/local/lib/python3.9/dist-packages (from sentence-transformers) (4.65.0)\n",
            "Requirement already satisfied: transformers<5.0.0,>=4.6.0 in /usr/local/lib/python3.9/dist-packages (from sentence-transformers) (4.27.2)\n",
            "Requirement already satisfied: sentencepiece in /usr/local/lib/python3.9/dist-packages (from sentence-transformers) (0.1.97)\n",
            "Requirement already satisfied: huggingface-hub>=0.4.0 in /usr/local/lib/python3.9/dist-packages (from sentence-transformers) (0.13.3)\n",
            "Requirement already satisfied: scikit-learn in /usr/local/lib/python3.9/dist-packages (from sentence-transformers) (1.2.2)\n",
            "Requirement already satisfied: torch>=1.6.0 in /usr/local/lib/python3.9/dist-packages (from sentence-transformers) (1.13.1+cu116)\n",
            "Requirement already satisfied: scipy in /usr/local/lib/python3.9/dist-packages (from sentence-transformers) (1.10.1)\n",
            "Requirement already satisfied: nltk in /usr/local/lib/python3.9/dist-packages (from sentence-transformers) (3.8.1)\n",
            "Requirement already satisfied: numpy in /usr/local/lib/python3.9/dist-packages (from sentence-transformers) (1.22.4)\n",
            "Requirement already satisfied: filelock in /usr/local/lib/python3.9/dist-packages (from huggingface-hub>=0.4.0->sentence-transformers) (3.10.0)\n",
            "Requirement already satisfied: typing-extensions>=3.7.4.3 in /usr/local/lib/python3.9/dist-packages (from huggingface-hub>=0.4.0->sentence-transformers) (4.5.0)\n",
            "Requirement already satisfied: pyyaml>=5.1 in /usr/local/lib/python3.9/dist-packages (from huggingface-hub>=0.4.0->sentence-transformers) (6.0)\n",
            "Requirement already satisfied: requests in /usr/local/lib/python3.9/dist-packages (from huggingface-hub>=0.4.0->sentence-transformers) (2.27.1)\n",
            "Requirement already satisfied: packaging>=20.9 in /usr/local/lib/python3.9/dist-packages (from huggingface-hub>=0.4.0->sentence-transformers) (23.0)\n",
            "Requirement already satisfied: regex!=2019.12.17 in /usr/local/lib/python3.9/dist-packages (from transformers<5.0.0,>=4.6.0->sentence-transformers) (2022.10.31)\n",
            "Requirement already satisfied: tokenizers!=0.11.3,<0.14,>=0.11.1 in /usr/local/lib/python3.9/dist-packages (from transformers<5.0.0,>=4.6.0->sentence-transformers) (0.13.2)\n",
            "Requirement already satisfied: click in /usr/local/lib/python3.9/dist-packages (from nltk->sentence-transformers) (8.1.3)\n",
            "Requirement already satisfied: joblib in /usr/local/lib/python3.9/dist-packages (from nltk->sentence-transformers) (1.2.0)\n",
            "Requirement already satisfied: threadpoolctl>=2.0.0 in /usr/local/lib/python3.9/dist-packages (from scikit-learn->sentence-transformers) (3.1.0)\n",
            "Requirement already satisfied: pillow!=8.3.*,>=5.3.0 in /usr/local/lib/python3.9/dist-packages (from torchvision->sentence-transformers) (8.4.0)\n",
            "Requirement already satisfied: urllib3<1.27,>=1.21.1 in /usr/local/lib/python3.9/dist-packages (from requests->huggingface-hub>=0.4.0->sentence-transformers) (1.26.15)\n",
            "Requirement already satisfied: idna<4,>=2.5 in /usr/local/lib/python3.9/dist-packages (from requests->huggingface-hub>=0.4.0->sentence-transformers) (3.4)\n",
            "Requirement already satisfied: certifi>=2017.4.17 in /usr/local/lib/python3.9/dist-packages (from requests->huggingface-hub>=0.4.0->sentence-transformers) (2022.12.7)\n",
            "Requirement already satisfied: charset-normalizer~=2.0.0 in /usr/local/lib/python3.9/dist-packages (from requests->huggingface-hub>=0.4.0->sentence-transformers) (2.0.12)\n"
          ]
        }
      ]
    },
    {
      "cell_type": "markdown",
      "source": [
        "Get all reviews as a list. Then, we encode this data into the model (corpus).\n",
        "\n",
        "The encoding takes a while because the reviews are quite long."
      ],
      "metadata": {
        "id": "4SYmSYzVjRfX"
      }
    },
    {
      "cell_type": "code",
      "source": [
        "review_sentences = hotel_ratings2['review_body'].tolist()"
      ],
      "metadata": {
        "id": "eibl807jhU1a",
        "colab": {
          "base_uri": "https://localhost:8080/",
          "height": 17
        },
        "outputId": "c134b889-fcbc-4b68-f8c5-6dc457a74051"
      },
      "execution_count": null,
      "outputs": [
        {
          "output_type": "display_data",
          "data": {
            "text/plain": [
              "<IPython.core.display.HTML object>"
            ],
            "text/html": [
              "\n",
              "  <style>\n",
              "    pre {\n",
              "        white-space: pre-wrap;\n",
              "    }\n",
              "  </style>\n",
              "  "
            ]
          },
          "metadata": {}
        },
        {
          "output_type": "display_data",
          "data": {
            "text/plain": [
              "<IPython.core.display.HTML object>"
            ],
            "text/html": [
              "\n",
              "  <style>\n",
              "    pre {\n",
              "        white-space: pre-wrap;\n",
              "    }\n",
              "  </style>\n",
              "  "
            ]
          },
          "metadata": {}
        },
        {
          "output_type": "display_data",
          "data": {
            "text/plain": [
              "<IPython.core.display.HTML object>"
            ],
            "text/html": [
              "\n",
              "  <style>\n",
              "    pre {\n",
              "        white-space: pre-wrap;\n",
              "    }\n",
              "  </style>\n",
              "  "
            ]
          },
          "metadata": {}
        }
      ]
    },
    {
      "cell_type": "code",
      "source": [
        "# this takes a long time.\n",
        "review_embeds = model.encode(review_sentences)"
      ],
      "metadata": {
        "id": "efiLNw8qi1g1",
        "colab": {
          "base_uri": "https://localhost:8080/",
          "height": 17
        },
        "outputId": "f18e2176-977b-4bf6-8b8d-701686056034"
      },
      "execution_count": null,
      "outputs": [
        {
          "output_type": "display_data",
          "data": {
            "text/plain": [
              "<IPython.core.display.HTML object>"
            ],
            "text/html": [
              "\n",
              "  <style>\n",
              "    pre {\n",
              "        white-space: pre-wrap;\n",
              "    }\n",
              "  </style>\n",
              "  "
            ]
          },
          "metadata": {}
        },
        {
          "output_type": "display_data",
          "data": {
            "text/plain": [
              "<IPython.core.display.HTML object>"
            ],
            "text/html": [
              "\n",
              "  <style>\n",
              "    pre {\n",
              "        white-space: pre-wrap;\n",
              "    }\n",
              "  </style>\n",
              "  "
            ]
          },
          "metadata": {}
        },
        {
          "output_type": "display_data",
          "data": {
            "text/plain": [
              "<IPython.core.display.HTML object>"
            ],
            "text/html": [
              "\n",
              "  <style>\n",
              "    pre {\n",
              "        white-space: pre-wrap;\n",
              "    }\n",
              "  </style>\n",
              "  "
            ]
          },
          "metadata": {}
        }
      ]
    },
    {
      "cell_type": "markdown",
      "source": [
        "Now we can use FAISS to built the index.\n",
        "We can also also create a search method which will use the `index.search`. It uses k = 5 nearest neighbors for this.\n",
        "\n",
        "This `search` method will print the top 5 similar reviews and the name of the hotel. This way, it's easy for a user to tell which hotel they should choose when seeing the results."
      ],
      "metadata": {
        "id": "iSwF6Lyp1ZVr"
      }
    },
    {
      "cell_type": "code",
      "source": [
        "index = faiss.IndexFlatL2(review_embeds.shape[1])\n",
        "index.add(review_embeds)\n",
        "faiss.write_index(index, 'index_hotel_reviews')\n",
        "index = faiss.read_index('index_hotel_reviews')"
      ],
      "metadata": {
        "id": "Zv9UPG1CzH5G",
        "colab": {
          "base_uri": "https://localhost:8080/",
          "height": 17
        },
        "outputId": "91296158-23a6-4b77-9b84-6d7e0f1c4d25"
      },
      "execution_count": null,
      "outputs": [
        {
          "output_type": "display_data",
          "data": {
            "text/plain": [
              "<IPython.core.display.HTML object>"
            ],
            "text/html": [
              "\n",
              "  <style>\n",
              "    pre {\n",
              "        white-space: pre-wrap;\n",
              "    }\n",
              "  </style>\n",
              "  "
            ]
          },
          "metadata": {}
        },
        {
          "output_type": "display_data",
          "data": {
            "text/plain": [
              "<IPython.core.display.HTML object>"
            ],
            "text/html": [
              "\n",
              "  <style>\n",
              "    pre {\n",
              "        white-space: pre-wrap;\n",
              "    }\n",
              "  </style>\n",
              "  "
            ]
          },
          "metadata": {}
        },
        {
          "output_type": "display_data",
          "data": {
            "text/plain": [
              "<IPython.core.display.HTML object>"
            ],
            "text/html": [
              "\n",
              "  <style>\n",
              "    pre {\n",
              "        white-space: pre-wrap;\n",
              "    }\n",
              "  </style>\n",
              "  "
            ]
          },
          "metadata": {}
        }
      ]
    },
    {
      "cell_type": "code",
      "source": [
        "def search(query):\n",
        "  t = time.time()\n",
        "  query_v = model.encode([query])\n",
        "  k = 5\n",
        "  top_k = index.search(query_v, k)\n",
        "  print(f'total time: {time.time() - t}')\n",
        "  results = [review_sentences[_id] for _id in top_k[1].tolist()[0]]\n",
        "  for result in results:\n",
        "    hotelName = hotel_ratings2.loc[hotel_ratings2['review_body'] == result].hotelName.to_string()\n",
        "    print(' '.join(hotelName.split()[1:]))\n",
        "    print('\\t' + str(result) + '\\n')"
      ],
      "metadata": {
        "colab": {
          "base_uri": "https://localhost:8080/",
          "height": 17
        },
        "id": "beRTvSkGzmB8",
        "outputId": "f9dd9765-b3bd-476e-d664-ff6ae7754187"
      },
      "execution_count": null,
      "outputs": [
        {
          "output_type": "display_data",
          "data": {
            "text/plain": [
              "<IPython.core.display.HTML object>"
            ],
            "text/html": [
              "\n",
              "  <style>\n",
              "    pre {\n",
              "        white-space: pre-wrap;\n",
              "    }\n",
              "  </style>\n",
              "  "
            ]
          },
          "metadata": {}
        },
        {
          "output_type": "display_data",
          "data": {
            "text/plain": [
              "<IPython.core.display.HTML object>"
            ],
            "text/html": [
              "\n",
              "  <style>\n",
              "    pre {\n",
              "        white-space: pre-wrap;\n",
              "    }\n",
              "  </style>\n",
              "  "
            ]
          },
          "metadata": {}
        },
        {
          "output_type": "display_data",
          "data": {
            "text/plain": [
              "<IPython.core.display.HTML object>"
            ],
            "text/html": [
              "\n",
              "  <style>\n",
              "    pre {\n",
              "        white-space: pre-wrap;\n",
              "    }\n",
              "  </style>\n",
              "  "
            ]
          },
          "metadata": {}
        }
      ]
    },
    {
      "cell_type": "markdown",
      "source": [
        "- This approach gets 5 most similar reviews, but there are many reviews for each hotel. So the quality of results is not perfect.\n",
        "  - In the future, it could be an improvement to create summaries of all of each hotels' reviews and use those as the neighbor candidates.\n",
        "- However, the output of this review-based method is easier to understand and implement for our needs.\n",
        "  - You can easily see 5 people's testimonies and make judgements based off of that.\n",
        "  - If you find one hotel's name multiple times in the 5 results, that is another indicator of relevance."
      ],
      "metadata": {
        "id": "mnNjowTL-pYT"
      }
    },
    {
      "cell_type": "markdown",
      "source": [
        "### Examples"
      ],
      "metadata": {
        "id": "jBSIuUg-4gLT"
      }
    },
    {
      "cell_type": "code",
      "source": [
        "search('Jazz music')"
      ],
      "metadata": {
        "colab": {
          "base_uri": "https://localhost:8080/",
          "height": 435
        },
        "id": "_4tAeGEL3Rsm",
        "outputId": "0081c7b0-2ed7-4d5d-91f3-95b30bbe798e"
      },
      "execution_count": null,
      "outputs": [
        {
          "output_type": "display_data",
          "data": {
            "text/plain": [
              "<IPython.core.display.HTML object>"
            ],
            "text/html": [
              "\n",
              "  <style>\n",
              "    pre {\n",
              "        white-space: pre-wrap;\n",
              "    }\n",
              "  </style>\n",
              "  "
            ]
          },
          "metadata": {}
        },
        {
          "output_type": "display_data",
          "data": {
            "text/plain": [
              "<IPython.core.display.HTML object>"
            ],
            "text/html": [
              "\n",
              "  <style>\n",
              "    pre {\n",
              "        white-space: pre-wrap;\n",
              "    }\n",
              "  </style>\n",
              "  "
            ]
          },
          "metadata": {}
        },
        {
          "output_type": "display_data",
          "data": {
            "text/plain": [
              "<IPython.core.display.HTML object>"
            ],
            "text/html": [
              "\n",
              "  <style>\n",
              "    pre {\n",
              "        white-space: pre-wrap;\n",
              "    }\n",
              "  </style>\n",
              "  "
            ]
          },
          "metadata": {}
        },
        {
          "output_type": "stream",
          "name": "stdout",
          "text": [
            "total time: 0.08676552772521973\n",
            "Jazz Hotel\n",
            "\tJazz musicians who play in Istanbul often end up here, but you don't have to love jazz to enjoy this place.The location is great...very close to the metro and cosmopolitan Nisantasi. The place is unpretentious and friendly and isn't marred by the corporate coldness of business oriented hotels.\n",
            "\n",
            "Jazz Hotel\n",
            "\tI higly recommend this hotel. the location was fantastic, in the heart of exclusive Nisantasi neighborhood. Minute walking distance from Abdi Ipekci and Tesekviye streets. Spacious rooms named after jazz artists with their custom made jazz playlists within each room. Lovely an professional stuff! If you're a jazz lover do not think twice and book this hotel!\n",
            "\n",
            "Downtown Istanbul\n",
            "\t Well managed hostel with good facilities. Quiet location but still close to transport and busy Beyoglu.Has a good rooftop terrace to hang out which is good place to meet fellow travellers. Would stay here again.\n",
            "\n",
            "Jazz Hotel\n",
            "\tistanbul, city of 24/7 restlessness. jazz hotel however, central but in more or less quiet side street not too far from most exclusive sshopping area and nightlife and major parks, sightseeing sites and others, abz 30 minutes to IST airport\n",
            "\n",
            "Jazz Hotel\n",
            "\tThe hotel is located in a good place in istanbul with 5 mins walk to the metro and lots of bars and good restaurants around it. The hotel has small entrance but nice rooms with Jazz music theme. They provide airport transfer (25 Euros to/from Ataturk airport).\n",
            "\n"
          ]
        }
      ]
    },
    {
      "cell_type": "code",
      "source": [
        "search('Good food')"
      ],
      "metadata": {
        "colab": {
          "base_uri": "https://localhost:8080/",
          "height": 399
        },
        "id": "V1fz6IHDz4LQ",
        "outputId": "744b3fb6-6c3c-4399-d676-d686d57aa1cb"
      },
      "execution_count": null,
      "outputs": [
        {
          "output_type": "display_data",
          "data": {
            "text/plain": [
              "<IPython.core.display.HTML object>"
            ],
            "text/html": [
              "\n",
              "  <style>\n",
              "    pre {\n",
              "        white-space: pre-wrap;\n",
              "    }\n",
              "  </style>\n",
              "  "
            ]
          },
          "metadata": {}
        },
        {
          "output_type": "display_data",
          "data": {
            "text/plain": [
              "<IPython.core.display.HTML object>"
            ],
            "text/html": [
              "\n",
              "  <style>\n",
              "    pre {\n",
              "        white-space: pre-wrap;\n",
              "    }\n",
              "  </style>\n",
              "  "
            ]
          },
          "metadata": {}
        },
        {
          "output_type": "display_data",
          "data": {
            "text/plain": [
              "<IPython.core.display.HTML object>"
            ],
            "text/html": [
              "\n",
              "  <style>\n",
              "    pre {\n",
              "        white-space: pre-wrap;\n",
              "    }\n",
              "  </style>\n",
              "  "
            ]
          },
          "metadata": {}
        },
        {
          "output_type": "stream",
          "name": "stdout",
          "text": [
            "total time: 0.0951087474822998\n",
            "Hotel Tulip House\n",
            "\tthe location is fantastic, the service & food can't be faulted. It is really close to Sofia Hagia, shopping & some really good restaurants. The room is small but makes up for it in cleanliness. Would definitely stay there again.\n",
            "\n",
            "Basileus Hotel\n",
            "\tSo appreciated to be tasted this excellent cuisine. It has a lot of choices. And the equip that serve our dishes were nice guys. Especially a guy whose name is emre was brilliant and funny. Tank you for everything.\n",
            "\n",
            "Hotel Next2\n",
            "\tVery nice hotel with friendly staff ..they help us alot ..hotel is very near to istiklal street ..great location ..feeling safe n secure..nice room .. having enough space ..tidy .. fooding r also good..\n",
            "\n",
            "Bosphorus Palace Hotel\n",
            "\tthe bosphorus palace hotel is a very quite and romantic place where the history meets the modern istanbul.silens...sea...lights of the bridges...exellent service...best quality of food and very good location.\n",
            "\n",
            "Agva Riverangel Hotel\n",
            "\tI truly enjoyed my stay here.... A spacious room with amazing service,a really calming ambience and a great breakfast! A place which drives the meaning of excellent hospitality! Will definitely be back.\n",
            "\n"
          ]
        }
      ]
    },
    {
      "cell_type": "code",
      "source": [
        "search('Walking access')"
      ],
      "metadata": {
        "colab": {
          "base_uri": "https://localhost:8080/",
          "height": 617
        },
        "id": "LXh4NSXf4I0o",
        "outputId": "815ccfd7-c5e5-4cbc-e106-a9e89db14d5c"
      },
      "execution_count": null,
      "outputs": [
        {
          "output_type": "display_data",
          "data": {
            "text/plain": [
              "<IPython.core.display.HTML object>"
            ],
            "text/html": [
              "\n",
              "  <style>\n",
              "    pre {\n",
              "        white-space: pre-wrap;\n",
              "    }\n",
              "  </style>\n",
              "  "
            ]
          },
          "metadata": {}
        },
        {
          "output_type": "display_data",
          "data": {
            "text/plain": [
              "<IPython.core.display.HTML object>"
            ],
            "text/html": [
              "\n",
              "  <style>\n",
              "    pre {\n",
              "        white-space: pre-wrap;\n",
              "    }\n",
              "  </style>\n",
              "  "
            ]
          },
          "metadata": {}
        },
        {
          "output_type": "display_data",
          "data": {
            "text/plain": [
              "<IPython.core.display.HTML object>"
            ],
            "text/html": [
              "\n",
              "  <style>\n",
              "    pre {\n",
              "        white-space: pre-wrap;\n",
              "    }\n",
              "  </style>\n",
              "  "
            ]
          },
          "metadata": {}
        },
        {
          "output_type": "stream",
          "name": "stdout",
          "text": [
            "total time: 0.10044527053833008\n",
            "Bucoleon by Cheers\n",
            "\tIn the middle of ancient streets of Istanbul, the hotel is comfortable, clean, well preserved and has an excellent breakfeast and service. As it is close to the Sultanahmet and Küçuk Ayasofya, even a short walk around worths.\n",
            "\n",
            "Cube Suites\n",
            "\tThe location of the hotel is great, you can easily walk everywhere. The neighbourhood is in evolution and you can find hidden gems. The staff was extraordinarily nice and very helpful. The room was renovated and clean. I would go back in a minute\n",
            "\n",
            "Downtown Istanbul\n",
            "\tThe relation price and quality is really nice and the stuff is amazing.... people so gentle and kind...The location close to Galata Tower is great.. easy to get Sultanahmet by Tram or Taksim square by walk... Muchas Gracias, José (chileno)\n",
            "\n",
            "Hotel Valide Sultan Konagi\n",
            "\tI have been staying here for about eleven years now....When I arrive I feel like I'm coming home...a small, comfortable, clean & hospitable venue...location is outstanding if you intend to stay on the European side/Sltahahmet area....if you want to explore or visit the Asian side...or have business there..transportation to the Asian side of the city is very convenient....You are literally a stones throw from Topkapi Palace & it's historical sites and museums, Hagia (Aya) Sophia, the Blue Mosque, as well as numerous Turkish National museums & historical sites...restaurants abound, all within easy walking distance...views from the roof top are great, night & day...a wonderful place to have the free breakfast & to sit, relax & reflect later in the day & evening (the roof top is a nice place to sit at night & enjoy a Raki and fruit plate)...for those of you who feel the need to shop, Valide Sultan Konagi is within walking distance to virtually every type of store/shop that you could want...as well as the Grand Bazaar...the staff is very hospitable & ready to assist as needed....I'm hoping that they re-open their roof top restaurant soon...one item of note: it seems that ordinarily they offer one way free transit from Ataturk Airport...this is if you book your room(s) directly with the hotel...and advise them of flight info in advance..if you go through any of the discount online services don't expect the free transit services...again, it is a pleasant & relaxing venue and yes, I will continue to stay there on future trips to Istanbul...\n",
            "\n",
            "Lotus Hotel Istanbul\n",
            "\tSve pohvale za Lotus hotel. Tradicionalni turski kraj. Sobe nove i prijatne. Vlasnik hotela jako predusetljiv i odlican domacin. Odlicna povezanost hotela sa Eminonu pocetnom autobuskom stanicom sa koje se stize do svih delova grada. Od nas sve pohvale! Imali smo jako lep i ugodan odomor. Zahvaljujemo se na gostoprimstvu! All compliments for Lotus hotel. Traditional Turkish neighborhood. New and pleasant rooms. The hotel owner very attentive and excellent host. Excellent connectivity from hotel to Eminonu initial bus station from which all parts of the city can be easily reached. We had a very nice and pleasant holiday. Thank you for your hospitality Vural!\n",
            "\n"
          ]
        }
      ]
    },
    {
      "cell_type": "code",
      "source": [
        "search('Airport nearby')"
      ],
      "metadata": {
        "colab": {
          "base_uri": "https://localhost:8080/",
          "height": 435
        },
        "id": "_Ec83bUr4VbJ",
        "outputId": "986b5cb1-9203-4881-c4d2-49109eb12f57"
      },
      "execution_count": null,
      "outputs": [
        {
          "output_type": "display_data",
          "data": {
            "text/plain": [
              "<IPython.core.display.HTML object>"
            ],
            "text/html": [
              "\n",
              "  <style>\n",
              "    pre {\n",
              "        white-space: pre-wrap;\n",
              "    }\n",
              "  </style>\n",
              "  "
            ]
          },
          "metadata": {}
        },
        {
          "output_type": "display_data",
          "data": {
            "text/plain": [
              "<IPython.core.display.HTML object>"
            ],
            "text/html": [
              "\n",
              "  <style>\n",
              "    pre {\n",
              "        white-space: pre-wrap;\n",
              "    }\n",
              "  </style>\n",
              "  "
            ]
          },
          "metadata": {}
        },
        {
          "output_type": "display_data",
          "data": {
            "text/plain": [
              "<IPython.core.display.HTML object>"
            ],
            "text/html": [
              "\n",
              "  <style>\n",
              "    pre {\n",
              "        white-space: pre-wrap;\n",
              "    }\n",
              "  </style>\n",
              "  "
            ]
          },
          "metadata": {}
        },
        {
          "output_type": "stream",
          "name": "stdout",
          "text": [
            "total time: 0.14692449569702148\n",
            "Crowne Plaza Istanbul - Florya\n",
            "\tBeautiful hotel and good service.It is located in a very good situation, by the sea.Good views and several different ambients.Very close to the airport, may be a bit noisy because is located in the final approach of the Atatürk International Airport... but still good.\n",
            "\n",
            "Elite World Business\n",
            "\tGreat dealing led by Özkan Yilmaz and hotel is very near to the Airport. Wishing the best for him prompt kind supportive person. Internet in the hotel is amazing and they have free shuttles to Taksim and Sultan Ahmed areas. \n",
            "\n",
            "Dila Suites\n",
            "\tIt was amazing to come back to Istanbul, to hotel Dila Suites. There are many reasons for this statement. Among others, these are: hotel is located in the Pera/Beyoglu district of the city and very close to Taksim Square, public transport in front of hotel, aeroport 20 km away. Refreshment ,recreational and shoping venues within few meters from hotel. Rooms air-contioned. And finaly, the staff are very kind, hospitable and friendly.\n",
            "\n",
            "Crowne Plaza Istanbul - Florya\n",
            "\tLovely modern hotel but it is located on the flight path to the airport. Planes landing constantly all night. Would not stay here again as far to noisy. I am not a light sleeper but this was unbearable. Maybe it will be better once the old airport closes\n",
            "\n",
            "Crowne Plaza Istanbul - Florya\n",
            "\tGreat hotel with great location, near airport, beach and shopping. If you like to watch aircrafts landing, choose one of the king seaview.Nice breakfast. Overall very nice hotel with good service. Good area to walk around.\n",
            "\n"
          ]
        }
      ]
    },
    {
      "cell_type": "code",
      "source": [
        "search('Bad experience')"
      ],
      "metadata": {
        "colab": {
          "base_uri": "https://localhost:8080/",
          "height": 726
        },
        "id": "NRJQStFM5x_J",
        "outputId": "9e6767b5-159d-406f-f38c-17b1d1ad5d74"
      },
      "execution_count": null,
      "outputs": [
        {
          "output_type": "display_data",
          "data": {
            "text/plain": [
              "<IPython.core.display.HTML object>"
            ],
            "text/html": [
              "\n",
              "  <style>\n",
              "    pre {\n",
              "        white-space: pre-wrap;\n",
              "    }\n",
              "  </style>\n",
              "  "
            ]
          },
          "metadata": {}
        },
        {
          "output_type": "display_data",
          "data": {
            "text/plain": [
              "<IPython.core.display.HTML object>"
            ],
            "text/html": [
              "\n",
              "  <style>\n",
              "    pre {\n",
              "        white-space: pre-wrap;\n",
              "    }\n",
              "  </style>\n",
              "  "
            ]
          },
          "metadata": {}
        },
        {
          "output_type": "display_data",
          "data": {
            "text/plain": [
              "<IPython.core.display.HTML object>"
            ],
            "text/html": [
              "\n",
              "  <style>\n",
              "    pre {\n",
              "        white-space: pre-wrap;\n",
              "    }\n",
              "  </style>\n",
              "  "
            ]
          },
          "metadata": {}
        },
        {
          "output_type": "stream",
          "name": "stdout",
          "text": [
            "total time: 0.10050821304321289\n",
            "Jazz Hotel\n",
            "\tThe room smelled the sewage all the time. The hotel was very small and had a total of 12 rooms. The room was not very clean. The cost of the room was very high in terms of service, in general, it was not a good hotel at all.\n",
            "\n",
            "Bucoleon by Cheers\n",
            "\tFirst of all, do not believe in the pictures of this place, they are showing us fake pictures of this place, totally photoshopped. To make it short:- The rooms are not at all like the pictures, in fact, they smell very bad, the place is full of refugees (very loud people). Barely clean...- They FORCE you to pay by cash and they refuse to give you bill if you ask for it.If you insist on getting the bill they will put you out of their hotel (very rude and aggressive staff). The reason they do not give a bill: if you book with agoda/booking, they cancel your reservation so you CAN NOT write a review in those websites, without the bill you can not prove you were there.Many bad surprises in this place, do not book in this place if you want to enjoy your holidays in Turkey...Also, be aware of their staff, the \"manager\" is a liar, very aggressive person...do not let them intimidate you. They will try to make you scared and put you out of the hotel as soon as you complain...\n",
            "\n",
            "Hotel Tulip House\n",
            "\tThis place is horrible, first of all the location is not so good it's like in the worst street in sultanahmet, Istanbul. And second they guy who runs or at least who was running the hotel today is a really bad person really agressive, since we got there he made us feel not welcome at all, then The first thing he said was the room you booked is three floors down but I can give you a better room for just 5 euros more per night, So we said no it's ok. He insisted and led us up to see the new room which was all dirty and still messy at 3p.m. So we told this kid to show us The room we previously booked, and actually was better than the one he was trying to get us charging more, but im not saying was good that place is not good at all. So we \"decided to take it\" anyway. When we came down to tell him he turned really agressive saying we could not, because he did not want to get any complaint and we said not it's fine, better than the other you offered; we ended up in a dicussion being told stupids just because we wanted to take then room we booked. ofc, we left right away and fortunately they did not take our credit card, he just got the copy of our passports. This was was horrible and disrepestcful person, the worst turkish being have we met unfortunately, it's a pity because this is a beautiful country. I would give this place a -100 if possible.\n",
            "\n",
            "Basileus Hotel\n",
            "\tOn the one hand I was really surprised how receptionist was skilled, he was really really inspiring.On the other hand the room was not comfortable enough: I have problem with pillow,  bath was damaged and caused me feel it is not clean, the refrigerator did not work, the extra blanket did not have any sheets and was too old; fortunately air conditioner works very well and we did not use extra blanket. I did not enjoy my breakfasts, it was not because of breakfast`s items, it was more because of the environment. For example restaurant had a very poor white light that was not refreshing at all.  I don`t recommend this hotel.\n",
            "\n",
            "Artefes Hotel Istanbul\n",
            "\tPRO's: - the view from the terace - it's location, very close to Aya Sofia Mosque, Topkapi, Blue Mosque and Basilica CisternCONS: - the rooms are damaged (as you can see it from the pictures). Nothing like the pictures they present - they didn't want to give us our money back, but they offer another room - terrible noise starting at 9 a.m. ending in the evening because they were renovating some rooms - the rooms for massage, sauna and baths were not finished\n",
            "\n"
          ]
        }
      ]
    },
    {
      "cell_type": "markdown",
      "source": [
        "## Learnings and Reflection\n",
        "\n",
        "EDA\n",
        "\n",
        "- Lots of columns were not needed or redundant, so we dropped or modified those.\n",
        "- The majority of EDA was cleaning up the `review_body` data.\n",
        "- We had to handle punctuation, numbers, spacing, and non-latin characters in different ways. We also have to apply lowercase to all words.\n",
        "- There was also one hotel with no reviews, which was dropped because it would be meaningless to cluster it with no data.\n",
        "\n",
        "Clustering\n",
        "\n",
        "- For clustering, we decided on a bag of words approach. This required lemmatization of the words.\n",
        "- We used Latent Dirichlet Allocation (LDA) to preform topic modeling. We had to fine-tune some hyperparameters of the LDA model to get the best results. These hyperparameters include # of topics, random state, and passes.\n",
        "- We also found a tool to visualize the topics, which was helpful for analysis.\n",
        "\n",
        "Search\n",
        "\n",
        "- Following the steps from the class notebook, we created a content-based search function for hotels.\n",
        "- We were able to test it with some sample queries, and found relevant results.\n",
        "- We verified the top results using online information about the hotels.\n",
        "\n",
        "Further Improvements\n",
        "\n",
        "- For clustering, we could try TF-IDF & bigram approach as a preprocessing step.\n",
        "- For search, we could speed up serach time using quantization."
      ],
      "metadata": {
        "id": "q4fy-kYrnhXg"
      }
    }
  ]
}